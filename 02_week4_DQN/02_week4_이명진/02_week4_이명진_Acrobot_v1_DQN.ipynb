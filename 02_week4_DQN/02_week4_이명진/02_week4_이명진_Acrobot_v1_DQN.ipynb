{
  "nbformat": 4,
  "nbformat_minor": 0,
  "metadata": {
    "colab": {
      "provenance": [],
      "machine_shape": "hm",
      "gpuType": "T4"
    },
    "kernelspec": {
      "name": "python3",
      "display_name": "Python 3"
    },
    "language_info": {
      "name": "python"
    },
    "accelerator": "GPU"
  },
  "cells": [
    {
      "cell_type": "code",
      "source": [
        "# 1. 설치\n",
        "!pip install gymnasium imageio"
      ],
      "metadata": {
        "colab": {
          "base_uri": "https://localhost:8080/"
        },
        "id": "R0c1D7Pvxwtx",
        "outputId": "36e38008-79e7-4093-a54a-5ffba24b7eb9"
      },
      "execution_count": 10,
      "outputs": [
        {
          "output_type": "stream",
          "name": "stdout",
          "text": [
            "Requirement already satisfied: gymnasium in /usr/local/lib/python3.11/dist-packages (1.1.1)\n",
            "Requirement already satisfied: imageio in /usr/local/lib/python3.11/dist-packages (2.37.0)\n",
            "Requirement already satisfied: numpy>=1.21.0 in /usr/local/lib/python3.11/dist-packages (from gymnasium) (2.0.2)\n",
            "Requirement already satisfied: cloudpickle>=1.2.0 in /usr/local/lib/python3.11/dist-packages (from gymnasium) (3.1.1)\n",
            "Requirement already satisfied: typing-extensions>=4.3.0 in /usr/local/lib/python3.11/dist-packages (from gymnasium) (4.13.0)\n",
            "Requirement already satisfied: farama-notifications>=0.0.1 in /usr/local/lib/python3.11/dist-packages (from gymnasium) (0.0.4)\n",
            "Requirement already satisfied: pillow>=8.3.2 in /usr/local/lib/python3.11/dist-packages (from imageio) (11.1.0)\n"
          ]
        }
      ]
    },
    {
      "cell_type": "code",
      "execution_count": 11,
      "metadata": {
        "id": "vBMMIhmyxm-x"
      },
      "outputs": [],
      "source": [
        "# DQN 적용\n",
        "import gymnasium as gym\n",
        "import numpy as np\n",
        "import random\n",
        "from collections import deque\n",
        "import torch\n",
        "import torch.nn as nn\n",
        "import torch.optim as optim\n",
        "import imageio\n",
        "import os\n"
      ]
    },
    {
      "cell_type": "markdown",
      "source": [
        "* gymnasium: 환경(CartPole)을 제공\n",
        "\n",
        "* torch: DQN 신경망 구현 및 학습\n",
        "\n",
        "* imageio: 프레임을 GIF로 저장\n",
        "\n",
        "* deque: 경험 리플레이 버퍼"
      ],
      "metadata": {
        "id": "BvsrXV4zyq1y"
      }
    },
    {
      "cell_type": "code",
      "source": [
        "# 환경 초기화\n",
        "env = gym.make(\"Acrobot-v1\", render_mode=\"rgb_array\") # 환경: \"rgb_array\"로 설정해 시각화 가능\n",
        "obs_shape = env.observation_space.shape[0]\n",
        "n_actions = env.action_space.n"
      ],
      "metadata": {
        "id": "dO3V1yXjx1ii"
      },
      "execution_count": 12,
      "outputs": []
    },
    {
      "cell_type": "code",
      "source": [
        "# PyTorch DQN 모델 정의\n",
        "# 모델: 24 → 24 → n_actions 구조의 2층 fully connected 신경망\n",
        "class DQN(nn.Module):\n",
        "    def __init__(self, input_dim, output_dim):\n",
        "        super(DQN, self).__init__()\n",
        "        self.fc1 = nn.Linear(input_dim, 24)\n",
        "        self.fc2 = nn.Linear(24, 24)\n",
        "        self.out = nn.Linear(24, output_dim)\n",
        "\n",
        "    def forward(self, x):\n",
        "        x = torch.relu(self.fc1(x))\n",
        "        x = torch.relu(self.fc2(x))\n",
        "        return self.out(x)"
      ],
      "metadata": {
        "id": "Qy6ZptsD_t-M"
      },
      "execution_count": 13,
      "outputs": []
    },
    {
      "cell_type": "code",
      "source": [
        "# 주요 하이퍼파라미터\n",
        "learning_rate = 0.001\n",
        "gamma = 0.99\n",
        "epsilon = 1.0\n",
        "epsilon_decay = 0.995\n",
        "min_epsilon = 0.01\n",
        "batch_size = 64\n",
        "memory = deque(maxlen=2000) # 리플레이 버퍼 (최대 2000개 저장)\n",
        "n_episodes = 500\n",
        "\n",
        "# 모델 및 타겟 모델 생성\n",
        "policy_net = DQN(obs_shape, n_actions)\n",
        "target_net = DQN(obs_shape, n_actions) # 안정성을 위한 타겟 Q-network\n",
        "target_net.load_state_dict(policy_net.state_dict())\n",
        "target_net.eval()\n",
        "optimizer = optim.Adam(policy_net.parameters(), lr=learning_rate)\n",
        "criterion = nn.MSELoss()"
      ],
      "metadata": {
        "id": "lAYRM0Pxx3N7"
      },
      "execution_count": 14,
      "outputs": []
    },
    {
      "cell_type": "code",
      "source": [
        "# GPU 사용 가능 시\n",
        "device = torch.device(\"cuda\" if torch.cuda.is_available() else \"cpu\")\n",
        "policy_net.to(device)\n",
        "target_net.to(device)\n",
        "\n",
        "# 학습 루프 및 GIF 저장용 프레임 리스트\n",
        "frames = []\n",
        "out_dir = \"dqn_frames\"\n",
        "os.makedirs(out_dir, exist_ok=True)"
      ],
      "metadata": {
        "id": "41igFcH1_2ZZ"
      },
      "execution_count": 15,
      "outputs": []
    },
    {
      "cell_type": "code",
      "source": [
        "for episode in range(n_episodes):\n",
        "    obs, _ = env.reset()\n",
        "    total_reward = 0\n",
        "    done = False\n",
        "    obs = torch.tensor(obs, dtype=torch.float32).to(device)\n",
        "\n",
        "    while not done: # 탐험과 활용을 섞어가며 액션 선택\n",
        "        if np.random.rand() < epsilon:\n",
        "            action = env.action_space.sample()\n",
        "        else:\n",
        "            with torch.no_grad():\n",
        "                q_values = policy_net(obs.unsqueeze(0))\n",
        "                action = q_values.argmax().item()\n",
        "\n",
        "        next_obs, reward, terminated, truncated, _ = env.step(action)\n",
        "        done = terminated or truncated\n",
        "\n",
        "        if episode % 10 == 0: #10번째 에피소드마다 환경 상태를 저장해 GIF로 만들기 위함\n",
        "            frame = env.render()\n",
        "            frames.append(frame)\n",
        "\n",
        "        next_obs_tensor = torch.tensor(next_obs, dtype=torch.float32).to(device)\n",
        "        memory.append((obs.cpu().numpy(), action, reward, next_obs_tensor.cpu().numpy(), done)) # 경험 저장\n",
        "\n",
        "        obs = next_obs_tensor\n",
        "        total_reward += reward\n",
        "\n",
        "        # 경험 리플레이 학습 : 배치 학습 => 배치 샘플링 → 예측값과 타겟값 비교 → loss 최소화\n",
        "        if len(memory) >= batch_size:\n",
        "            minibatch = random.sample(memory, batch_size)\n",
        "            states, actions, rewards, next_states, dones = zip(*minibatch)\n",
        "\n",
        "            states = torch.tensor(states, dtype=torch.float32).to(device)\n",
        "            actions = torch.tensor(actions).unsqueeze(1).to(device)\n",
        "            rewards = torch.tensor(rewards, dtype=torch.float32).unsqueeze(1).to(device)\n",
        "            next_states = torch.tensor(next_states, dtype=torch.float32).to(device)\n",
        "            dones = torch.tensor(dones, dtype=torch.bool).unsqueeze(1).to(device)\n",
        "\n",
        "            q_values = policy_net(states).gather(1, actions)\n",
        "            next_q_values = target_net(next_states).max(1)[0].detach().unsqueeze(1)\n",
        "            target_q = rewards + gamma * next_q_values * (~dones)\n",
        "\n",
        "            loss = criterion(q_values, target_q)\n",
        "            optimizer.zero_grad()\n",
        "            loss.backward()\n",
        "            optimizer.step()\n",
        "\n",
        "    if episode % 10 == 0: # 타겟 네트워크 업데이트\n",
        "        target_net.load_state_dict(policy_net.state_dict())\n",
        "\n",
        "    epsilon = max(min_epsilon, epsilon * epsilon_decay) # epsilon = max(min_epsilon, epsilon * epsilon_decay)\n",
        "\n",
        "    if episode % 50 == 0:\n",
        "        print(f\"Episode {episode}, Total Reward: {total_reward}, Epsilon: {epsilon:.3f}\")\n",
        "\n",
        "env.close()"
      ],
      "metadata": {
        "colab": {
          "base_uri": "https://localhost:8080/"
        },
        "id": "_2HvMr4zx5tf",
        "outputId": "168e3c47-1584-4d45-cc75-7e8383616a0d"
      },
      "execution_count": 16,
      "outputs": [
        {
          "output_type": "stream",
          "name": "stderr",
          "text": [
            "<ipython-input-16-c5bef2744ad5>:33: UserWarning: Creating a tensor from a list of numpy.ndarrays is extremely slow. Please consider converting the list to a single numpy.ndarray with numpy.array() before converting to a tensor. (Triggered internally at /pytorch/torch/csrc/utils/tensor_new.cpp:254.)\n",
            "  states = torch.tensor(states, dtype=torch.float32).to(device)\n"
          ]
        },
        {
          "output_type": "stream",
          "name": "stdout",
          "text": [
            "Episode 0, Total Reward: -500.0, Epsilon: 0.995\n",
            "Episode 50, Total Reward: -500.0, Epsilon: 0.774\n",
            "Episode 100, Total Reward: -500.0, Epsilon: 0.603\n",
            "Episode 150, Total Reward: -500.0, Epsilon: 0.469\n",
            "Episode 200, Total Reward: -485.0, Epsilon: 0.365\n",
            "Episode 250, Total Reward: -166.0, Epsilon: 0.284\n",
            "Episode 300, Total Reward: -500.0, Epsilon: 0.221\n",
            "Episode 350, Total Reward: -243.0, Epsilon: 0.172\n",
            "Episode 400, Total Reward: -472.0, Epsilon: 0.134\n",
            "Episode 450, Total Reward: -500.0, Epsilon: 0.104\n"
          ]
        }
      ]
    },
    {
      "cell_type": "code",
      "source": [
        "# 학습 시각화 GIF 저장\n",
        "imageio.mimsave(\"dqn_training.gif\", frames, fps=30)\n",
        "print(\"GIF saved as dqn_training.gif\")"
      ],
      "metadata": {
        "colab": {
          "base_uri": "https://localhost:8080/"
        },
        "id": "J0XQKYnT_7sn",
        "outputId": "2871e6e4-73e4-4376-ef52-4ef8bf100770"
      },
      "execution_count": 17,
      "outputs": [
        {
          "output_type": "stream",
          "name": "stdout",
          "text": [
            "GIF saved as dqn_training.gif\n"
          ]
        }
      ]
    }
  ]
}