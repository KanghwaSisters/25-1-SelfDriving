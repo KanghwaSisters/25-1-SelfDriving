{
  "nbformat": 4,
  "nbformat_minor": 0,
  "metadata": {
    "colab": {
      "provenance": []
    },
    "kernelspec": {
      "name": "python3",
      "display_name": "Python 3"
    },
    "language_info": {
      "name": "python"
    }
  },
  "cells": [
    {
      "cell_type": "markdown",
      "source": [
        "## 다이나믹 프로그래밍\n",
        "\n",
        "다이나믹 프로그래밍은 model-based 접근법으로, 환경의 전이 확률과 보상을 알고 있을 때 사용됩니다. 이번 코드에서는 DP 기법의 가치 이터레이션 (Value Iteration), 정책 이터레이션 (Policy Iteration)을 활용해 최적 정책을 찾습니다.\n",
        "\n",
        "다음 환경(**GridWorldEnvironment**)을 가지고 가치 이터레이션, 정책 이터레이션을 구현하세요."
      ],
      "metadata": {
        "id": "HyNmkw66VPdZ"
      }
    },
    {
      "cell_type": "markdown",
      "source": [
        "## GridWorldEnvironment\n",
        "GridWorld는 격자 기반 환경으로, 에이전트가 상, 하, 좌, 우로 이동하며 목표 지점에 도달해야 합니다.\n",
        "\n",
        "```py\n",
        "start_point = (0,0) # 시작점\n",
        "end_point = (4,4) # 목표 지점\n",
        "gridworld_size = (5,5) # 5x5 크기의 격자\n",
        "env = GridWorldEnvironment(start_point, end_point, grid_world_size)\n",
        "```"
      ],
      "metadata": {
        "id": "AJazHY8WUeo9"
      }
    },
    {
      "cell_type": "markdown",
      "source": [
        "## Original Code"
      ],
      "metadata": {
        "id": "FrEXfXlQW5CY"
      }
    },
    {
      "cell_type": "code",
      "execution_count": 2,
      "metadata": {
        "id": "OOi9LMUhUY3K"
      },
      "outputs": [],
      "source": [
        "import numpy as np\n",
        "from typing import Tuple\n",
        "\n",
        "class GridWorldEnvironment:\n",
        "    def __init__(self, start_point: Tuple, end_point: Tuple, grid_world_size: Tuple):\n",
        "        # 시작점과 끝점을 받는다.\n",
        "        self.start_point = start_point\n",
        "        self.end_point = end_point if end_point != (-1,-1) else (grid_world_size[0] + end_point[0],\n",
        "                                                                 grid_world_size[1] + end_point[1])\n",
        "\n",
        "        # 그리드 월드의 규격을 받는다.\n",
        "        self.width, self.height = grid_world_size\n",
        "\n",
        "        # action dictionary\n",
        "        self.action_space = ['up', 'down', 'left', 'right']\n",
        "        self.num_actions = len(self.action_space)\n",
        "        self.actions = {'up':(-1,0),\n",
        "                        'down':(1,0),\n",
        "                        'left':(0,-1),\n",
        "                        'right':(0,1) }\n",
        "\n",
        "        # 상태 : 좌표로 나타남\n",
        "        self.traces = []\n",
        "\n",
        "        # total states\n",
        "        self.total_states = [] # 모든 좌표를 저장함\n",
        "        for x in range(self.width):\n",
        "            for y in range(self.height):\n",
        "                self.total_states.append((x,y))\n",
        "\n",
        "        # reward\n",
        "        self.reward = np.zeros(shape=(self.height, self.width)).tolist() # 보상을 모두 0으로 설정\n",
        "        self.reward[end_point[0]][end_point[1]] = 1 # 목표 지점의 보상은 1\n",
        "\n",
        "    def render(self):\n",
        "        # 그리드 월드의 상태를 출력한다.\n",
        "        self.grid_world = np.full(shape=(self.height, self.width), fill_value=\".\").tolist()\n",
        "\n",
        "        last_point = self.traces[-1] # 에이전트가 가장 마지막에 있었던 위치\n",
        "        traces = list(set(self.traces)) # 중복된 값을 삭제하기 위함\n",
        "        for trace in traces:\n",
        "            self.grid_world[trace[0]][trace[1]] = \"X\" # 지나간 곳은 X로 표시\n",
        "\n",
        "        self.grid_world[self.start_point[0]][self.start_point[1]] = \"S\" # start point\n",
        "        self.grid_world[self.end_point[0]][self.end_point[1]] = \"G\" # end point\n",
        "        self.grid_world[last_point[0]][last_point[1]] = \"A\" # 현재 에이전트의 위치\n",
        "\n",
        "        # string으로 출력한다.\n",
        "        grid = \"\"\n",
        "\n",
        "        for i in range(self.height):\n",
        "            for j in range(self.width):\n",
        "                grid += self.grid_world[i][j]+\" \"\n",
        "            grid += \"\\n\"\n",
        "\n",
        "        print(grid)\n",
        "\n",
        "    def get_reward(self, state, action_idx):\n",
        "        # 특정 상태에서 행동했을 때 이동한 다음 칸의 보상을 반환함\n",
        "        next_state = self.state_after_action(state, action_idx)\n",
        "        return self.reward[next_state[0]][next_state[1]]\n",
        "\n",
        "    def state_after_action(self, state, action_idx:int):\n",
        "        # 특정 상태에서 특정 행동을 하면 가게 되는 다음 상태 반환\n",
        "        action = self.action_space[action_idx]\n",
        "        row_movement, col_movement = self.actions[action]\n",
        "\n",
        "        # action에 따라 에이전트 이동\n",
        "        next_state = (state[0]+row_movement, state[1]+col_movement)\n",
        "        next_state = self.check_boundary(next_state)\n",
        "\n",
        "        return next_state\n",
        "\n",
        "    def check_boundary(self, state):\n",
        "        state = list(state)\n",
        "        state[0] = (0 if state[0] < 0 else self.height - 1 if state[0] > self.height - 1 else state[0])\n",
        "        state[1] = (0 if state[1] < 0 else self.width - 1 if state[1] > self.width - 1 else state[1])\n",
        "        return tuple(state)"
      ]
    },
    {
      "cell_type": "markdown",
      "source": [
        "## Own Code\n",
        "위 환경 클래스를 상속 받아 `env.render` 코드를 구현하세요."
      ],
      "metadata": {
        "id": "DHhCH3oBW79l"
      }
    },
    {
      "cell_type": "code",
      "source": [
        "class GridWorld(GridWorldEnvironment):\n",
        "    def __init__(self, start_point, end_point, grid_world_size):\n",
        "        super().__init__(start_point, end_point, grid_world_size)\n",
        "\n",
        "    def render(self):\n",
        "        super().render()"
      ],
      "metadata": {
        "id": "KQ1M1GHzX3Gg"
      },
      "execution_count": 3,
      "outputs": []
    },
    {
      "cell_type": "markdown",
      "source": [
        "# 01. 정책 이터레이션\n",
        "정책 이터레이션은 정책 평가와 정책 개선을 번갈아 수행하며 최적 정책을 찾아가는 방법입니다.\n",
        "\n",
        "- 스켈레톤 코드  \n",
        "`init` 부를 제외한 나머지 매소드를 채워주세요.\n",
        "\n",
        "1. get_policy : 현재 상태에서의 정책 반환\n",
        "2. get_value\t: 현재 상태의 가치 반환\n",
        "3. get_action : 현재 정책에 따라 행동 선택\n",
        "4. policy_evaluation : 정책을 기준으로 가치 함수 업데이트\n",
        "5. policy_improvement : 가치 함수를 이용해 최적 정책을 찾음"
      ],
      "metadata": {
        "id": "LrGQnOj3VmdT"
      }
    },
    {
      "cell_type": "code",
      "source": [
        "import copy\n",
        "\n",
        "class PolicyIteration:\n",
        "    def __init__(self,env):\n",
        "        # about env\n",
        "        self.env = env\n",
        "        self.action_space = env.action_space # ['up', 'down', 'left', 'right'] 차례대로 (-1,0) (1,0) (0,-1) (0,1)\n",
        "        self.num_action = len(self.action_space)\n",
        "\n",
        "        # value 2d list\n",
        "        self.value_table = np.zeros(shape = (env.height, env.width)).tolist() # Appendix 1\n",
        "\n",
        "        # 상하좌우 동일한 확률을 가지는 정책으로 초기화\n",
        "        self.policy_table = np.full(shape = (env.height, env.width, self.num_action), fill_value = 1/self.num_action).tolist()\n",
        "\n",
        "        # end state 에서는 어떠한 행동도 할 필요가 없어서 policy table을 비운다.\n",
        "        self.policy_table[env.end_point[0]][env.end_point[1]] = []\n",
        "\n",
        "        self.gamma = 0.9 # 할인율\n",
        "\n",
        "    def get_policy(self, state):\n",
        "        \"\"\"\n",
        "        현재 상태에서의 정책 반환\n",
        "        5x5x4(행동 개수)의 리스트에서 현재 상태에 대한 정책 반환함\n",
        "        ex) [0.25, 0.25, 0.25, 0.25]\n",
        "        \"\"\"\n",
        "        return self.policy_table[state[0]][state[1]]\n",
        "\n",
        "\n",
        "    def get_value(self, state):\n",
        "        \"\"\"\n",
        "        현재 상태의 가치함수 값 반환\n",
        "        5x5의 리스트에서 현재 상태에 대한 가치함수의 값을 반환함\n",
        "        \"\"\"\n",
        "        return self.value_table[state[0]][state[1]]\n",
        "\n",
        "\n",
        "    def get_action(self,state):\n",
        "        \"\"\"\n",
        "        현재 정책에 따라 행동 선택\n",
        "        상하좌우 4개의 행동에서 하나의 행동을 policy 따라 샘플링\n",
        "        np.random.choice(행동 개수, 행동 샘플링 개수, 각 행동을 얼마의 확률로 샘플링할 건지)\n",
        "        \"\"\"\n",
        "        policy = self.get_policy(state) # 현재 상태에 대한 정책을 policy에 저장\n",
        "        return np.random.choice(self.num_action, 1, p=policy)\n",
        "\n",
        "\n",
        "    def policy_evaluation(self):\n",
        "        \"\"\"\n",
        "        정책을 기준으로 가치 함수 업데이트\n",
        "        \"\"\"\n",
        "        next_value_table = np.copy(self.value_table)\n",
        "\n",
        "        for state in self.env.total_states:\n",
        "            value = 0 # end point의 가치함수\n",
        "            if state == self.env.end_point:\n",
        "                next_value_table[state[0]][state[1]] = value\n",
        "                # state가 end point이면 0을 저장함\n",
        "                continue\n",
        "\n",
        "            policy = self.get_policy(state) # 현재 정책\n",
        "\n",
        "            for action_idx in range(self.num_action): # 0,1,2,3\n",
        "                next_state = self.env.state_after_action(state, action_idx)\n",
        "                reward = self.env.get_reward(state, action_idx)\n",
        "                next_value = self.get_value(next_state)\n",
        "                value += policy[action_idx] * (reward + self.gamma * next_value)\n",
        "\n",
        "            next_value_table[state[0]][state[1]] = value\n",
        "\n",
        "        self.value_table = next_value_table\n",
        "\n",
        "    def policy_improvement(self):\n",
        "        \"\"\"\n",
        "        가치 함수를 이용해 최적 정책을 찾음\n",
        "        \"\"\"\n",
        "        flag = True\n",
        "        next_policy = copy.deepcopy(self.policy_table)\n",
        "\n",
        "        for state in self.env.total_states:\n",
        "            if state == self.env.end_point:\n",
        "                continue\n",
        "\n",
        "            old_policy = self.get_policy(state)\n",
        "            values = []\n",
        "\n",
        "            for action_idx in range(self.num_action): # 0,1,2,3\n",
        "                # 모든 행동에 대해 계산\n",
        "                next_state = self.env.state_after_action(state, action_idx)\n",
        "                reward = self.env.get_reward(state, action_idx)\n",
        "                next_value = self.get_value(next_state)\n",
        "                value = reward + self.gamma * next_value\n",
        "                values.append(value)\n",
        "\n",
        "            # 최적 행동 찾기\n",
        "            max_idx_list = np.argwhere(values == np.max(values))\n",
        "            max_idx_list = max_idx_list.flatten().tolist()\n",
        "            prob = 1 / len(max_idx_list)\n",
        "\n",
        "            result = [0] * self.num_action\n",
        "            for idx in max_idx_list:\n",
        "                result[idx] = prob\n",
        "\n",
        "            next_policy[state[0]][state[1]] = result\n",
        "\n",
        "            if old_policy != result:\n",
        "                flag = False\n",
        "\n",
        "        self.policy_table = next_policy\n",
        "        return flag"
      ],
      "metadata": {
        "id": "3cSmPtYxVqrl"
      },
      "execution_count": 17,
      "outputs": []
    },
    {
      "cell_type": "markdown",
      "source": [
        "## 정책 이터레이션 실행\n",
        "정의한 클래스를 이용해 정책 이터레이션을 실행해 주세요."
      ],
      "metadata": {
        "id": "vHhUyl4PYSez"
      }
    },
    {
      "cell_type": "code",
      "source": [
        "if __name__ == \"__main__\":\n",
        "    start_point = (0,0) # 시작점\n",
        "    end_point = (4,4) # 목표 지점\n",
        "    grid_world_size = (5,5) # 5x5 크기의 격자\n",
        "    env = GridWorldEnvironment(start_point, end_point, grid_world_size)\n",
        "\n",
        "    agent = PolicyIteration(env)\n",
        "    step_counts = []\n",
        "\n",
        "    while True:\n",
        "        agent.policy_evaluation()\n",
        "        policy_stable = agent.policy_improvement()\n",
        "\n",
        "        state = env.start_point\n",
        "        env.traces = [state]\n",
        "        step = 0\n",
        "\n",
        "        while state != env.end_point:\n",
        "            action = agent.get_action(state).item()\n",
        "            next_state = env.state_after_action(state, action)\n",
        "            env.traces.append(next_state)\n",
        "            state = next_state\n",
        "            step += 1\n",
        "\n",
        "        env.render()\n",
        "        step_counts.append(step)\n",
        "\n",
        "        if policy_stable:\n",
        "            break"
      ],
      "metadata": {
        "id": "q05CxU1fYogZ",
        "colab": {
          "base_uri": "https://localhost:8080/"
        },
        "outputId": "27a44cdc-a6a5-4dfb-f536-3b0452355fcc"
      },
      "execution_count": 27,
      "outputs": [
        {
          "output_type": "stream",
          "name": "stdout",
          "text": [
            "S X X X . \n",
            "X X X . . \n",
            ". . X X X \n",
            ". . . . X \n",
            ". . . . A \n",
            "\n",
            "S X X . . \n",
            ". . X X X \n",
            ". . . . X \n",
            ". . . . X \n",
            ". . . . A \n",
            "\n",
            "S X . . . \n",
            ". X . . . \n",
            ". X X . . \n",
            ". . X . . \n",
            ". . X X A \n",
            "\n",
            "S . . . . \n",
            "X . . . . \n",
            "X . . . . \n",
            "X . . . . \n",
            "X X X X A \n",
            "\n",
            "S X . . . \n",
            ". X X . . \n",
            ". . X . . \n",
            ". . X X X \n",
            ". . . . A \n",
            "\n",
            "S X . . . \n",
            ". X X . . \n",
            ". . X X . \n",
            ". . . X . \n",
            ". . . X A \n",
            "\n",
            "S X X . . \n",
            ". . X X X \n",
            ". . . . X \n",
            ". . . . X \n",
            ". . . . A \n",
            "\n",
            "S . . . . \n",
            "X X X . . \n",
            ". . X X . \n",
            ". . . X . \n",
            ". . . X A \n",
            "\n"
          ]
        }
      ]
    },
    {
      "cell_type": "markdown",
      "source": [
        "## 학습에서 중요한 정보\n",
        "학습이 되고 있는 것을 판단할 수 있는 파라미터를 찾아 시각화해 주세요."
      ],
      "metadata": {
        "id": "j2FMBu8zX7Kg"
      }
    },
    {
      "cell_type": "code",
      "source": [
        "import matplotlib.pyplot as plt\n",
        "\n",
        "plt.figure(figsize=(12, 5))\n",
        "\n",
        "plt.subplot(1, 2, 2)\n",
        "plt.plot(step_counts)\n",
        "plt.xlabel(\"Iteration\")\n",
        "plt.ylabel(\"Steps\")\n",
        "\n",
        "plt.tight_layout()\n",
        "plt.show()"
      ],
      "metadata": {
        "id": "dSlI8R_KY2-8",
        "colab": {
          "base_uri": "https://localhost:8080/",
          "height": 507
        },
        "outputId": "6e826fda-c51c-476d-af02-22a1c7e20bec"
      },
      "execution_count": 29,
      "outputs": [
        {
          "output_type": "display_data",
          "data": {
            "text/plain": [
              "<Figure size 1200x500 with 1 Axes>"
            ],
            "image/png": "[encoded data removed]"
          },
          "metadata": {}
        }
      ]
    },
    {
      "cell_type": "markdown",
      "source": [
        "# 02. 가치 이터레이션\n",
        "가치 이터레이션은 정책 없이 직접 가치 함수를 최적화하는 방법입니다.\n",
        "- 스켈레톤 코드  \n",
        "`init` 부를 제외한 나머지 매소드를 채워주세요.\n",
        "1. value_iteration : 벨만 최적 방정식을 이용해 가치 함수를 반복적으로 업데이트\n",
        "2. get_value : 현재 상태의 가치를 반환\n",
        "3. get_action : 현재 가치 함수 기준으로 최적 행동 선택"
      ],
      "metadata": {
        "id": "8tutibdyYwAW"
      }
    },
    {
      "cell_type": "code",
      "source": [
        "import random\n",
        "\n",
        "class ValueIteration:\n",
        "    def __init__(self, env):\n",
        "\n",
        "        self.env = env\n",
        "        self.action_space = env.action_space\n",
        "        self.num_actions = env.num_actions\n",
        "\n",
        "        # value 2d list\n",
        "        self.value_table = np.zeros(shape=(env.height, env.width)).tolist()\n",
        "\n",
        "        self.gamma = 0.9 # 할인율\n",
        "\n",
        "    def value_iteration(self):\n",
        "        delta = 0\n",
        "        next_value_table = np.copy(self.value_table)\n",
        "\n",
        "        for state in self.env.total_states:\n",
        "            if state == self.env.end_point:\n",
        "                continue\n",
        "\n",
        "            values = []\n",
        "            for action_idx in range(self.num_actions):\n",
        "                    next_state = self.env.state_after_action(state, action_idx)\n",
        "                    reward = self.env.get_reward(state, action_idx)\n",
        "                    next_value = self.get_value(next_state)\n",
        "                    value = reward + self.gamma * next_value\n",
        "                    values.append(value)\n",
        "\n",
        "            max_value = max(values)\n",
        "            old_value = self.value_table[state[0]][state[1]]\n",
        "            delta = max(delta, abs(old_value - max_value))\n",
        "\n",
        "            next_value_table[state[0]][state[1]] = max_value\n",
        "\n",
        "        self.value_table = next_value_table\n",
        "        return delta\n",
        "\n",
        "    def get_action(self, state):\n",
        "        if state == self.env.end_point:\n",
        "            return []\n",
        "\n",
        "        values = []\n",
        "\n",
        "        for action_idx in range(self.num_actions):\n",
        "            next_state = self.env.state_after_action(state, action_idx)\n",
        "            reward = self.env.get_reward(state, action_idx)\n",
        "            next_value = self.get_value(next_state)\n",
        "            value = reward + self.gamma * next_value\n",
        "            values.append(value)\n",
        "\n",
        "        max_value = max(values)\n",
        "        max_idx_list = [i for i, v in enumerate(values) if v == max_value]\n",
        "\n",
        "        return random.choice(max_idx_list)\n",
        "\n",
        "    def get_value(self, state):\n",
        "        return self.value_table[state[0]][state[1]]"
      ],
      "metadata": {
        "id": "-rnooRxnYwAW"
      },
      "execution_count": 54,
      "outputs": []
    },
    {
      "cell_type": "markdown",
      "source": [
        "## 가치 이터레이션 실행\n",
        "정의한 클래스를 이용해 가치 이터레이션을 실행해 주세요."
      ],
      "metadata": {
        "id": "d073zNNfYwAW"
      }
    },
    {
      "cell_type": "code",
      "source": [
        "if __name__ == \"__main__\":\n",
        "    start_point = (0,0) # 시작점\n",
        "    end_point = (4,4) # 목표 지점\n",
        "    grid_world_size = (5,5) # 5x5 크기의 격자\n",
        "    env = GridWorldEnvironment(start_point, end_point, grid_world_size)\n",
        "\n",
        "    agent = ValueIteration(env)\n",
        "\n",
        "    threshold = 0.0001\n",
        "    delta_list = []\n",
        "    step_list = []\n",
        "\n",
        "    while True:\n",
        "        delta = agent.value_iteration()\n",
        "        delta_list.append(delta)\n",
        "\n",
        "        state = env.start_point\n",
        "        env.traces = [state]\n",
        "        step = 0\n",
        "\n",
        "        while state != env.end_point:\n",
        "            action = agent.get_action(state)\n",
        "            next_state = env.state_after_action(state, action)\n",
        "            env.traces.append(next_state)\n",
        "            state = next_state\n",
        "            step += 1\n",
        "\n",
        "        env.render()\n",
        "        step_list.append(step)\n",
        "\n",
        "        if delta < threshold:\n",
        "            break\n"
      ],
      "metadata": {
        "id": "Dm3W3XEKYwAW",
        "colab": {
          "base_uri": "https://localhost:8080/"
        },
        "outputId": "c6f1c5b0-45aa-4b75-9f59-b434881d6755"
      },
      "execution_count": 56,
      "outputs": [
        {
          "output_type": "stream",
          "name": "stdout",
          "text": [
            "S X X X . \n",
            "X X X X . \n",
            "X X X . . \n",
            "X X X . . \n",
            ". X X X A \n",
            "\n",
            "S X X X X \n",
            "X . . . X \n",
            "X X . . X \n",
            "X X . . X \n",
            ". . . . A \n",
            "\n",
            "S . . . . \n",
            "X X . . . \n",
            "X X . . . \n",
            "X . . . . \n",
            "X X X X A \n",
            "\n",
            "S X X . . \n",
            ". X X X . \n",
            ". . . X . \n",
            ". . . X . \n",
            ". . . X A \n",
            "\n",
            "S X . . . \n",
            ". X . . . \n",
            ". X X X X \n",
            ". . . . X \n",
            ". . . . A \n",
            "\n",
            "S . . . . \n",
            "X X X X X \n",
            ". . . . X \n",
            ". . . . X \n",
            ". . . . A \n",
            "\n",
            "S X . . . \n",
            ". X X . . \n",
            ". . X X . \n",
            ". . . X X \n",
            ". . . . A \n",
            "\n",
            "S X . . . \n",
            ". X . . . \n",
            ". X . . . \n",
            ". X X . . \n",
            ". . X X A \n",
            "\n",
            "S X . . . \n",
            ". X X X X \n",
            ". . . . X \n",
            ". . . . X \n",
            ". . . . A \n",
            "\n"
          ]
        }
      ]
    },
    {
      "cell_type": "markdown",
      "source": [
        "## 학습에서 중요한 정보\n",
        "학습이 되고 있는 것을 판단할 수 있는 파라미터/요소를 찾아 시각화해 주세요."
      ],
      "metadata": {
        "id": "sR6OuQVAYwAW"
      }
    },
    {
      "cell_type": "code",
      "source": [
        "plt.figure(figsize=(12, 5))\n",
        "\n",
        "plt.subplot(1, 2, 1)\n",
        "plt.plot(delta_list, marker='o')\n",
        "plt.xlabel(\"Iteration\")\n",
        "plt.ylabel(\"Delta\")\n",
        "plt.grid()"
      ],
      "metadata": {
        "id": "aWa6ZpsCYwAX",
        "colab": {
          "base_uri": "https://localhost:8080/",
          "height": 465
        },
        "outputId": "782a50a8-ca1d-4014-d311-aadef5573d94"
      },
      "execution_count": 59,
      "outputs": [
        {
          "output_type": "display_data",
          "data": {
            "text/plain": [
              "<Figure size 1200x500 with 1 Axes>"
            ],
            "image/png": "[encoded data removed]"
          },
          "metadata": {}
        }
      ]
    },
    {
      "cell_type": "code",
      "source": [
        "plt.figure(figsize=(12, 5))\n",
        "plt.subplot(1, 2, 2)\n",
        "plt.plot(step_list, marker='s')\n",
        "plt.xlabel(\"Iteration\")\n",
        "plt.ylabel(\"Steps\")\n",
        "plt.grid()"
      ],
      "metadata": {
        "id": "MT9b89DiZFZG",
        "colab": {
          "base_uri": "https://localhost:8080/",
          "height": 465
        },
        "outputId": "f479cc46-8559-4e72-8b02-db5c720d4a3a"
      },
      "execution_count": 60,
      "outputs": [
        {
          "output_type": "display_data",
          "data": {
            "text/plain": [
              "<Figure size 1200x500 with 1 Axes>"
            ],
            "image/png": "[encoded data removed]"
          },
          "metadata": {}
        }
      ]
    }
  ]
}