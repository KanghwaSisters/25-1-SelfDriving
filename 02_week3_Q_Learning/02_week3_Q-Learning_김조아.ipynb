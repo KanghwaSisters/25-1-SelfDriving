{
  "nbformat": 4,
  "nbformat_minor": 0,
  "metadata": {
    "colab": {
      "provenance": []
    },
    "kernelspec": {
      "name": "python3",
      "display_name": "Python 3"
    },
    "language_info": {
      "name": "python"
    }
  },
  "cells": [
    {
      "cell_type": "markdown",
      "source": [
        "https://www.gocoder.one/blog/rl-tutorial-with-openai-gym/ 참고"
      ],
      "metadata": {
        "id": "53FWvMzGcGuN"
      }
    },
    {
      "cell_type": "markdown",
      "source": [
        "**<문제>**\n",
        "\n",
        "Q-learing을 이용해서 '**승객을 태우고 목적지까지 최적 이동**'"
      ],
      "metadata": {
        "id": "A9530u5Afv99"
      }
    },
    {
      "cell_type": "markdown",
      "source": [
        "![{68C230A3-4D41-4EE7-BFCA-0BEA3FE0BA28}.png](data:image/png;base64,iVBORw0KGgoAAAANSUhEUgAAAfQAAAC5CAYAAADeZ82MAAAAAXNSR0IArs4c6QAAAARnQU1BAACxjwv8YQUAAAAJcEhZcwAADsMAAA7DAcdvqGQAADg4SURBVHhe7d1/XFR1vgf+F5AZTjOgpgyJe4uSkLbELLq7Aiu05A4uq7vKEpT6+Goy14dxC8FrueTE5tebrTht6MMG01g0uSzWpfbbzC1XKX60668YtZDwx1piM+hVY2BAUzjfP5Zz7jmfmTO/GBDG9/Px+DyUcz5n5sw5w3l9Pp/zmSGI4zgOhBBCCBnRgtkFhBBCCBl5KNAJIYSQAECBTgghhAQACnRCCCEkAPgc6Kd7LDjeddrrcv7aZfahyCDS6/VQqVRIT0+H3W5nVw87JpMJKpUKcXFxsFqt7Gq/sdvtSE9Ph0qlgl6vZ1cPOfZ1a7Van/eNP+eelIiICJjNZvYhCCEjkNeBfv7aJei+/iNe/VqPklMGr8vvTryGjWe240rv8A+X4YrjODQ2NuLJJ59EeHg4VCoV1Go1CgsL/RqCVqsVcXFxUKlUMJlM7GoBHz5arZZd5YANrsHi6b57y2w2IyIiwqsg5F+zs+LJMSOEEE94HeilZ3bgm57z7GKvfGn7GuXfVrOLh6Vz587h8ccfR0REBD7++GN29ZDjOA6bN2+GRqPB3//+d/T19QEAuru7UVZWhtTUVBw7dozdjNxC8vPzYbPZXJa6ujqEhoaym0rwjRe2EeKqjJSRIEICkVeBfoPrhfXaRXaxT9q6LewiWd5cWPzZGwOAL7/8EidOnEBPTw/ef/99drVftLS0YMGCBUJv+4EHHoDBYEBPTw9bFZ9++ilefvllAMCzzz6Ls2fP4sqVK/jggw8QFRWFtrY2rFu3zum2w0lfXx96e3vZxcPeqVOn0NPTg56eHrS2trKrXYqKikJra6skWA0GA1uNEEJ84lWg9+KfvUF/6OVGxsX8xz/+MaZOnYrQ0FD85je/YVcP2PHjx5GamopPPvlE6G1bLBasWrUKTz31lENvx2g0oq+vD48++iheeeUVjBs3DiEhIUhJScHvf/97AEBDQwNOnTol2W6gsrKyHBpPfKmsrGSrO8VxHPbt2wcAuHDhAr799lu2iqCtrQ0xMTFQDaNhaZvNhrffflv4eceOHbDZbJI6rohf02A0Pn0REhKCkJAQdjEAID4+Hu3t7ZIGyD/+8Q/ExsYCAAoLCx16/kajEQqFgn0oQsgQ8CrQB0I1OhLRyofZxR5hLyxVVVXCuqqqKskFRaPRSLYdqMmTJ+PAgQNob2/H7Nmz2dUD1tvbi4yMDJjNZnR0dOD06dNITk4G+nvjBw8elNTnA2TKlClQqVSSdffffz9CQ0PR29s7LHu/x44dE87djRs38NZbb+H69etsNb/o7e0VGkj+eI7r16+jqKgIn3/+OYKCghAUFITPP/8cRUVFA3p8fgJbVlYWu2pIhIeHY8KECexiWZ9++im+/vprAMCePXtcNsoIIUNrSAL9bkUM/t8fPYsC9a9xx6hx7Opb2kMPPYS33noL0dHRCAoKwoQJE7BixQqgv0d79epVSX0+xE+ePOnQO+SHg131unzFNpzEJTs7m63u4Ny5c8jNzUVHRweCgoIAAP/93/+NN99802njQzw87cuw9LfffosLFy4A/bdsBqKzsxPPPfccysvLERwcjIqKClRUVCA4OBjl5eV47rnn0NnZyW7mgB1y93fj0xsWi8Xr2zJHjhzBCy+8gFGjRuEnP/kJzp49i6KiIof3ISHk5hj0QI9STMVLdz+FYATD2NGEq9cH92Nr169fR01NDVJSUiT3pMvKynD9+nVwHIc33nhDGPZkPxZ05MgRTJ48GSqVCv/+7/+Ow4cPC/fv2brOiO/3FxYWgv2q/FWrVkGlUmHKlCk4e/YsQkJChIDj8T2+2267DeHh4ZJ16enpCA4OxuHDh/HKK6/g8uXL6O3tRW1tLdauXQsASExMxP333y/Z7mbhOA6fffYZZs+ejRMnTmDUqFGoqKgQbg8UFxdj2bJlfp/x/umnn+LGjRvC/30JncuXL+ONN95AbGwsKisrERoaiqqqKsydOxdz585FdXU1lEolKisrERsbizfeeAOXL3v3/uYnsIlHnYbSnXfeiVGjRrGLJTiOg9FoRHp6Ojo6OlBUVISqqir8/Oc/R01NDX7zm99QT52QYWBQA32yYipW370AwQiCqcOMjy58yFbxu1WrVmHRokU4cuSI5J50YWEhtmzZAvR/zOoXv/gFAODNN9/EiRMngP5e5LPPPouOjg7MmjUL69atw2233SZ6dPceeOAB/PSnPwX6g+Tixf+bRHjp0iV89tlnAICkpCRERUUJ69A/THzs2DG8/vrrQp2HH5beppg1axZeeeUVAMDbb7+Ne+65B2PHjsXcuXPR1taGe+65B//5n//pdgbzUNmyZQsyMjLQ1taG8ePH4/3338fcuXORl5eHDRs2IDg4GHv27MGDDz6I2tpadnOftLW1SQLyyJEjDrcuXOnt7cUrr7yCe+65B2vXrkVnZycSEhJw6NAhyW2XtLQ0HDx4EBkZGejs7MTatWtxzz33SO6zi7H30FUqFe6++24cP36creo18cf0PCn8EH9LSwvuvfdeqJzMVeDfj/PmzcNTTz2Fa9euYePGjXj++ecRHh6OXbt24emnn8bBgwfx8MMPo6CgAN9++61DI5YQMjR8DvRRIXfiN+rf4F/ufJBdBQC4V/kQXrz7twhGMD78/jD+vwsfsFUGRVBQENasWYNTp07BZrPhxIkTePTRRwEAu3fvxuXLlxEaGoqSkhLcd999uHTpErZs2YKenh784Q9/wOnTp3Hfffdhy5YtUDH3qD0RGhqKjIwMoH9YXPwRsmPHjuHrr79GUFAQcnJyhMYC36sfO3YsEhMTcfLkSbzwwgvYtWuXwwSjoKAgPP/88zCZTPjXf/1XBAf/8xROmDABL7zwAhobG3HfffdJtvEHXyfFabVarFmzBnPnzkVDQwN+9rOfAf2TsZYvX46///3vSEpKwubNmzFr1ix2c69xHIfS0lKcOXMGwcHBCA0NBcdx2Lhxo8e99JCQEKxcuRJpaWl48sknsX//fuzduxc/+tGP2KqYNGkSdu3ahc8//xxPPvkk0tLS8Nvf/patJmu4znf47LPPMHnyZCQmJqK2thb33nsv9u/fj9zcXGFEacyYMdi8eTN27NgBhUKBbdu24cc//jGefvppr4fzCSF+wHnhat8P3OKmVdziplXcv594g7N12biuri6u5MweYfniplXcq6fe5bq6uriuri5uV9t+yTq+PH/8VfbhPWY0GjmlUskplUrOaDRK1vX09Aj/v3HjBnfhwgXu1Vdf5ZRKJTdx4kSuqalJWF9TU8OFhYVx48eP5xYvXswplUouKiqKO3z4sFCnqamJmzhxIqdUKrlNmzYJy105e/Ys98ADD3BKpZIrKCjg+vr6uL6+Pq6goIBTKpVcSkoK19HRIdQXPwdfJk6cyBkMBu7GjRuSx/bWpk2bOKVSyWk0Gq6rq4td7ZLFYuGmTp0q2S9XJTc3l30Ir/HndurUqZzFYmFXu9TX18ft2bOHCwsL45RKJfcf//Ef3MGDB4Vjm5eXx/3www8cx3FcV1cXp9FoOKUX53WkEp9H9vdFDn8sExISuOrqarfHzWazcS+//DI3a9Ys7ttvvxU9EiFkqPjcQ++4eh7/+V0V+tAH7cRfIGHcP3teU1TTka+eCwD48PvD2HtxaD+a09bWJnyme+zYsbjvvvuEIWzWr371KxQWFuKHH37A+++/j+DgYGzevBkzZsxgq0qIvzZUXPiPIU2aNMlh2P3ixYv49NNPgf6hWnHvXzyL/9SpU3j22WfR09ODwsJC7NmzR6g31NRqNZqbmyUT4PihbHaCl6eT13p7e/Hxxx/j17/+NdRqteT4TZs2DYcPH0ZzczOam5uhVqvZzWX19vbirbfewtKlS9HX14dZs2bhd7/7HR599FG89NJLAODVBLbBIvfekSuezNsYDEFBQZg/fz4OHDiABQsWuL3PrlQq8fvf/x61tbWYPHkyu5oQMgR8DnQA+M7eig3f7QEHDovHz8L/c/dCvBDxKwDA+98fwMcXP2I3GVQnTpxAWloaPvnkEwBAdHQ0srOzER8fz1YV3HnnncL/+/r6HGaV++K2225DTk4OgoKChGH3Y8eO4eTJkwgLC8Pcuf9s8DgzceJErF27FtOnTwcAVFdX+2WfhgObzYbMzExkZmZi37596O7ulqz/xz/+gT/84Q+YNm2a15PENm/ejNWrV6Ovrw/Tp0/H1q1boVKpEBQUhLy8POh0OgBAZWUliouLhQlzhBASKAYU6ADQZj+BjZb3wYHDo4pooD/M9138H7bqoNu3bx8uXboEtVqNL774AmazGQaDAb/61T8bGay//e1vWLduHQAgJiYG6P+yjCNHjjA1pRQKBYxGo6R3amM+hvTwww9jypQpwgxho9EIjuOQlpYmPBf6P4/tyg8//IC+vj58//33+NnPfubQg3NV0tPT0dXVxT7kTbNlyxb89a9/RWhoKN58802cPXtWOHaXLl3C4cOHkZ6ejuvXr0On0+Gbb75hH0LWc889h1dffRULFixATU0NJk2aJKzj74kbDAZkZ2dj7dq1Xk92HAzFxcUO7yG+ePJRQEIIERtwoAPA2a4v8Yb1Q3Dg8O7lupsS5hB93OvGjRvo7OwEx3E4cOAAysrK2Ko4d+4cVqxYgR9++AEpKSn44IMP8NOf/hQdHR3ChXYgJk6cKDQk+EBH/8fOxGGyatUqbNq0SXg+m82GzZs3o6mpCQDwk5/8BGPGjMHtt9+OsLAwYbvB5OqvdfGzo53N2OaL3B8uOXv2LNB/DBYuXIhx4/7vOwlGjRqFmJgYvPjiiwgNDcWVK1dw5coV0dauhYSE4Pnnn8eOHTswduxYdjWCgoKQnZ0Ng8EAlZvJjq7+mIqnZTh8C5yvXM2Yj4yMRENDAwBAp9M5rOcLO2OeEDL4/BLoAHCq04znTv4en1/yz0ePfPHoo48iODgY//u//4ukpCSEhYVh9uzZGD9+vKTe9evXhRntYWFhWLt2LSZNmoS1a9fi9ttvx6effgqdTue29+zOL37xC9x+++347rvv8N133yEmJkb4Fjje9evX8corryAqKgoqlQpRUVHCPf9Zs2YJXzIzZswYfPjhhw49OVfFaDRKbincbPxXhn744YfYvn275DPb169fx/Hjx4XvoR87dqzTYCaEEOKc3wJ9OEhMTMT27dsRGRkJAIiMjMT27duRmZkpqVdRUYHy8nIAQEFBAR555BGgvze8dOlSAMA777yDjz4a2ByABx98EAkJCcLP8+fPx8SJEyV1Xn/9dbz88suSr9+cOnUqSkpKUFVVBZWb3uRg8OSvdbkq7e3tTuctLF26FD//+c9x/fp1FBYW4p577hF6dOPHj8fMmTPxySefYNSoUXj99dfxL//yL+xDDAmNRuPwmrwtnnwLnKserquPAg42Z5MhvS2eTJAkhPhXEOfFt0Bw4JB79He4zg2s5woAUXdEYl1sPruY+Jler4dOp0NiYiKqq6sdPtc+1Hp7e/HXv/4Vb731Fv72t79JJsbde++9WLBgAZYtW+bVDHdf2O12ZGZmoqGhAcXFxcjPH5r3ovh5PeGPfbNarUhNTRW+cMeTxgYhZOTxKtABwPS/DahqG9g3vgUjCMujF+MxVRy7ihBCCCE+8DrQAeCQrRmNlw6hu1f6sSNPjBs1Fj+76yeYqrg5w6mEEEJIIPIp0AkhhBAyvATUpDhCCCHkVkWBTgghhAQACnRCCCEkAFCgE0IIIQGAAp0QQggJABTohBBCSACgQCeEEEICAAU6IYQQEgAo0AkhhJAAQIFOCCGEBAAKdEIIISQAUKATQgghAYACnRBCCAkAFOiEEEJIAKBAJ4QQQgIABTohhBASACjQCSGEkABAgU4IIYQEAAp0QgghJAAETKCbzWZkZ2fDbrezq/zCbDajsLCQXeyUeF+0Wi1MJhNbRZZer3db32q1Ii4uDiqVSigREREwm82Am311tm1cXBysVitbdcDsdjvS09Mlz8UXrVYLADCZTFCpVJLXbDabERER4bBNeno67HY79Hr9oO0zZPaJfy38fruj1Wol+8i/purqaqSnpwuvxRX+MUwmEyIiIqDX6yXr+f2UK+7eR+64eh/JsVqt0Gq1bl+bL9j3rvhcWK1WpKene/We8OX1ETKcDWmga7Vajy+INwMbQOwFlKXX6326iLIXYnfPw1Kr1WhubobNZoPNZoPFYsG8efOgVqvZqhJWqxWpqakoKSkRtrXZbCgpKUFqaqpHF0N239kiDiqFQgGj0QibzYaqqioAQFVVFWw2GwwGA/PIjoqLiyX7aTQaoVAo2Gqy+BBljy9/nj0J1aGg1WodjqMn7yONRiM5PuJSXFzMVnfABiRfXP2OOnvPqzxoFDp7jXwRN0blOHvvon9/XBE3Dj15Hp6zRuVweb8QIsdtoPv6C+yMwWDw6ELujDhIfHluT6xcuRJpaWmw9Yfk3r17XV5Y8/PzJRfR7OxstooDk8mEgoICtLa2evw87pw8eRJKpdJtoDc1NSEpKQkajUayXKPRICkpCU1NTZLlzrgKEVevv6WlRfIz/77KysqSLB8Oampq2EUe44OrsrISbW1tiImJQVxcHCwWC1tVYDAYJEEcGhqKyMhItpoDV40rnU7HVnfANgxt/Q2v2NhYtqqAf89bLBbMmTMHdXV1sNlsaG5udvn+E79GcbFYLEhNTWWrO3D23i0uLkZLS4tsyJrNZuTk5ODjjz+GzWZDeXk5Zs+e7TbUTSYTcnJycPToUcm+pqWl4bHHHhuUaw8h/uA20MWhlZ2dLfSw3P0C+5Pdbsd3330n7MeyZcuwZMkSh1/k/fv3IzIy0uHipvKgF2w2m2Gz2ZCbmwv09y7Xr1+PiooKh+cZiJqaGpSUlAjHjn+effv2sVU9YrfbsWHDBjzzzDOS5Tt37oSK6W1Nnz4d9fX1Do0Hk8mE+vp6TJ8+XbLcX8xmM1577TUAQGlpKex2u/C+4nvuzuh0Osk59LUhxz5OZGQkGhoa2GpA/7GorKwERPsqVllZ6fL9xAdXcXExoqKi0NraiubmZo8C2m63Y+/evejp6UFycrKwH65kZ2c7hCRf2IabJ/bt24eUlBR28YhUW1uLZcuWIT4+HuhvjM6bNw+1tbVsVYHdbkdFRQV2797tcH3Lz8/3uOFLyM3gNtBdcdZrNpvNiIuLE1rB4p9d3U/mh0HF681mM2bOnInOzk4sXbpUWJ6SkoKwsDDhZwCIj49He3u7w0WNL/n5+ZL6LIvFApVKJRnSVavV6OjoQGdnJyAKSfG9XHFQeHIB9reVK1ciISFBuGjxFi5cCBsztK1Wq7F//34UFBRI9rugoAD79+93uID5g16vR3JysvD/I0eOIDMz0yEoxfhzabFYkJiYKISWr41Iduief1yWVqtFVlYWQkNDZfeV3xd37yd2RMITJ0+exJEjR4T9dTXiweMbGM6Kq6FzZ8xmM86fP48pU6awqxx0dnbi6NGjLsPRn5w1RnU6HWJjY2Vvw7S0tDiMNsTGxgoNvOTkZOF32xf8Ncvb40zIYPE50Nlec1JSEiorKxEfH49ly5Zh69atAICtW7eipKTEIXBYCoUCaWlpkuHO2tpaLFiwwOEiXltbi4SEBNlf5MHCh6T4Xi4bFnyviB8tYEN+3rx5KCgoEHqadrsda9aswRNPPCHUycrKgsrNfVT+Ht+8efPchouYs2FWX4KSv5i5uq/I98wTExNx5swZLF26FGfOnAEAREdHux36HEpmsxk1NTWy+/rFF1+wm8iyWq2or6/HpUuXcPLkSaSnpyM5ORk9PT1sVQH/Phg/frxHQQ43tz9sHs5T4PEjPatXr5b8XrGNWB7fSz148KDs+XfGbrcjOzvb63PvrDGK/l6zt/jf2bq6OiiVSsk6hUKBRYsWIScnx2E0SK/XS0ay+Dki3hxnQgaTz4GuUCgkveZ58+YJvZLc3FzYbDa8+uqrQP+FxxMpKSn48ssvYbVaYbfbcfDgQWH4TzwaANEvsrPJK3LF1aSYyMhI2Gw2ycXJarUiLCzM4ZfeE6mpqbBYLA4XZ41Gg5KSEsTExEDVP/yblpYmOUb8bQ2546bX67FmzRqcOXPGaZ34+Hhs3LhR+Nlfx8gVu92Oc+fOSZbxPW1xA4i/CLa3tztt5InPMz80Lu6FxsXF4fz58+xmLnky5O5uXx955BFJfVf4++c9PT3YtWsXjEYj6urqEBoaylYVlJWVoaGhAQUFBUhNTYXKxYjPYJxPdyM94uNitVpRWlqK/fv3Q6VSoaysTLKNt1QqlUcNSrYx6i5IY2NjHUZKnPXaWRqNBsuWLRN+R/ny2muvOR2KJ2S48DnQwVx8xZObFAoFVq9ejf/5n/+RnW0rHq7mh+unTJmCsLAwNDU14eTJkwAgDP+JeyMAhG3cDbWLi1yIoP+CLr448T2mRYsW+X0kQKPRSCYVedvLyM/Ph9FoxMqVKx0u4HwR96j8dYw8MXnyZNnj5SyI+AmCfMPEXa+zubkZkyZNYh/aKfHrbm1tRVRUlOSes9yseX70QbyffMPLXYiYTCbodDokJiZi+/btqKyslL3fztPr9dDpdMjOzsbSpUuF0GIbgzx/nk9+prunIz12ux1LlixBXl4e1Go1Nm3aNKBJnZ2dnQ4NQXf0er3kmFqtVixZsgQ7duyQhG1KSgq2bdsmNGhMJhPOnTsn3AJyRzz65unkPUJuJp8D3WQyoaamRnjDiyc38cN3P/rRj2Rn24on2/FDvuJh99raWtkwzc3NxbRp0yRDYmY/fA6dvziJL+DOesBibO8vIiICR44cYasNGr43zxZnYWUymQbtfp+74UeTyYTk5GS8+OKLkv1MSkrCtGnTHHqRfNC4C0N/s1qteOyxx4D+eRX8ftbV1eG1115zefzsdjtKS0uRmJiI6upqZGZmoqqqCjqdDn/5y1/Y6oDotkR2drbssZMjblA7K+5C1mQyITU1Ffv373f7Pkf/68vMzEReXp5QX6FQoLq6GhUVFQ7n0BNqtRpGo9HrXi/b8+7o6HAYIo+Pj8fu3bsxe/ZsofG4Y8cOh98LQgKFz4EuHrqyWq0oKCgQ1pWVlUGlUuHtt9+GzWbz6hed70EdPHhQuFdlNptRX18v1Kmrq8PRo0e9vgi4w4cSfxF312NhP7Zm6+8RzZgxg60KMKMSkZGR+Oijj5CcnCwscxUWcvj77WzxdxCyvVZ+2LqhocHpJwvY56+pqRF6yGLLly8H+udFeCo/P9/lfX92X1UqFWJiYtDW1uZ0Epl4X5uamtDW1oa8vDzJhX/KlCmYMWMGzp07J9to5N8/4sYUP+KQkZHBVgdEvW1vwxxuRjPkRsbENBqNy+PI4l8fG/4KhUKYP8NiGx3O3vd88eRTDFarFXv27MHx48eF60plZSWOHz/u9D0kHs1w91rF+6rT6SSNdXa/PdlXQoaaz4GenZ2Nbdu2QaVSITU1VQh0k8mEbdu2obi4GAoXE0zkqNVq4ZeI/+WLj4/Hrl27hOWDOSt7MDlrAIiLLxd1uR66u8aIt9jGjrvCPv+8efOEQBXjJ0/686NSA9nX6dOnIyoqyuEja/wMdFe3FIYaG5biIjcyNtRcNTrY4i5w+eH+oqIivP/++1ixYgW2b9+OPXv2oL6+Hnv27PGq88Dydl+VSiXNcifDCxcgmpqauIkTJ3JKpdJp2bRpE7uJV5qamriCggJ2sVNNTU3cU089xXV1dXG5ubmc0Whkq8jatGmTx/Vzc3MdXidfpk6dylksFkl9o9HoUM+fx8gdZ+fI2X5yHMdZLBZu6tSpDvvIl4kTJ3JNTU3sZn7R1dXFaTQah+ccyPHhX/uf//xnTqPRcBqNhuvq6mKrSeTm5nJTp07ljEYjN3HiRIfnNxqNDsv8yZv3PM9isXC5ubluX5u3+HMifr1Go1Hy/uHfM57+/vjy+ggZzoI4juPYkCeEDH8mk8nlN+35cl+eEDJyUaATQgghAcDne+iEEEIIGT4o0AkhhJAAQIFOCCGEBAAKdEIIISQAUKATQgghAYACnRBCCAkAFOiEEEJIAKBAJ4QQQgIABTohhBASACjQCSGEkABAgU4IIYQEAAp0QgghJABQoBNCCCEBwOO/tmaxWNDe3g673Q4PNyGEEELIAAUFBUGhUCAiIgKRkZHsaoFHgd7a2oquri6Eh4dj9OjRCAoKYqsQQgghbp05cwbR0dHsYuICx3H44Ycf0NHRgTFjxiAmJoatAngy5G6xWNDV1QW1Wo077riDwpwQQggZQkFBQRg9ejQmTpyI7u5uWCwWtgrgSaC3t7cjPDycXUwIIYSQIRYWFob29nZ2MeBJoNvtdowePZpdTAghhJAhNmrUKNjtdnYx4EmgcxxHw+yEEELIMBAcHCw7Md1toBNCCCFk+KNAJ4QQQgIABTohhBASAAYl0Gtra5GSkoKLFy8CAFavXi0pvO7ubixatAixsbEOZdGiReju7hY9KiGEkFvNtm3bHPLgq6++QkpKCr766itJXTjJHz5ntm3bxlYNOH4N9NraWsTGxmL58uWwWCxISkpCSkqK7GfmeAUFBWhpaZGUiooKjBkzhq1KCCGEyDp16hS76Jbh10BPSUlxCOba2lqXX1VHCCGEuHLw4EE88sgjwgju/PnzceXKFbYauru7UV9fD4vFgi+//FKyrqSkBPHx8U579YHCr4GO/uER/qCLD94HH3yADz74gK0O9B9odshdPGRCCCHk1pWQkIAvvvhC6Ci+9957GDt2rKTOxYsXMWfOHBw7dgxPPPEE8vPzJeFdUFAAs9mMBx98ULJdIPFroH/11VfYvXs33nvvPbS0tGDFihWoqKgAAMydOxdz586V1B8zZgwqKiqEExQZGSlsW1tbiwkTJkjqE0IIufW466F3d3ejoKAAALB3715s2bIFer0e8+fPx/79+0WPFNjc/nGWhoYGr75If9u2bSgpKQEA3HHHHXj33XeFUOdt2LABtbW1WL58uWS5M1u3bkVKSgq7mBBCyAjk6x9n6e7uxr/9278hKSkJy5YtY1fL8nW74ezMmTNITExkF/s/0AkhhBA5gx3oX331FZ5++mlcvXpVWDZ37lxs2LBBUm8kG/JAF/fUeZGRkfjzn/8sGUp3dvD5nn0g3+sghJBbkaeBfvHiRfz2t791+ykpcVjzeaLX64WRXb4hEBkZGTChLhfofr2HzqutrcXu3btRX18vmfGekJCAjRs3CvW6u7uxYcMGrFixQlJvxYoV2LBhA30OnRBCblETJkxAbW2twyen2BIoIe0P1EMnhBAyZDztofvKWabQkHs/XwOdEEIIYQ12oN8K5AJ9UIbcCSGEEDK0KNAJIYSQAECBTgghhAQACnRCCCEkAFCgE0IIIQGAAp0QQggJAB59bI0QQgghw4ezj625DfTW1lbExMSwiwkhhBCvUaYMnNwxpCF3QgghJABQoBNCCCEBgAKdEEIICQAU6IQQQkgAoEAnhBBCAgAFOiGEEBIA6GNrhBBChow3mdLd3Y1r166hr6+PXeVWcHAwRo8ejTFjxrCrRjy5Y0g9dEIIIcNOd3c3enp6fApzAOjr60NPTw+6u7vZVQFr0AJdr9fDZDIJP1utVmi1Wtjtdkk9MbPZjMLCQqc/s4/njNlsRkREBFQqFdLT04XnYh8XAEwmE1QqlUOJiIiA2WyW1CWEEDK0rl27xi7yib8eZyTwa6CLQ1Kn0yErKwsqlQpxcXFob29nq/uV1WrFihUr8PHHH8NmsyEtLQ1lZWVsNYmqqirYbDZJaW9vR3x8PFtVwmw2Izs726FxYrVaUV1dLVnmqerqalitVnbxTWEymaDVatnFhBAyZHztmbP89TgjgV8DXaPROASkzWZDc3MzIiIi2OpO7dy5U2gUJCcno6ysTGgguNLU1IQFCxYIYZydnY2WlhaH0B0ou92Ov/zlL3j77behUCgk63Q6HZ577rkR38PXaDRISEgY8a+DEHJr6OrqQmNjI65evcquuqX4NdDRH3jp6elCKHvb01u4cKHQEKirq0Nubi5sNhuKi4vZqi4plUoAQGdnJ7tKwI8geDPkXldXhzvvvNMhzLVaLRISErB+/Xps2LDB5WP4g9VqxdGjR9nFPnE2sjBjxgzs2rVLsowQQoaT3t5elJeXY/78+SguLobNZmOr3FL8HugrV65EXl6eEMqxsbHCve/6+npERka6vRfuD3yQ88HOEo8mFBcXC8Pv7obc9+3bh5SUFHYxDAYD5syZA5VKhcrKSpePMVB2ux06nc7jUQ931Go12traJOdFrVajs7PT7yMchBDiLyEhIfjlL3+J8vJyjBs3jl19y/F7oLuSlJQEi8UCjUbDrhKwQ+6uethi06dPx549e4SecWVlJWJjYx160larFXFxcZJeufh+v7uRhfDwcKjVanbxkDGbzYiOjkZlZSViYmIcRhhc7bvcREDxMdDr9YCHIxyEEHKz3XXXXQgJCWEX35L8HuibNm1CaWmpEBQtLS0uA1wsPj4e7e3tkvvvBoOBreaUWq3Gli1bMHv2bKhUKuzduxe5ublsNajVajQ3Nzvc52eLp8871OLj43HmzBmsWrUKFovFYb9d7bvcHAebaJQiPz+f3YwQQoaFdevWYebMmdBoNGhpaWFX3/L8HugKhQJGo9FtuMiR+3hbfn6+24aBuEFgNBodeudi7L1+vvA9VDnff/+9X2ejiz9S19TUhO3bt7NVHCgUCmRkZOCLL75gV/nEarUiKirK4fhGRUXJ3rIghJChVlRUhMbGRphMJsTGxrKrb3l+D3TIfGZcrVbDYDC4DNmhVFZWJrnXz5fz58+7nND2xBNPwGKxsIt9Fh8fjyeeeAJLly5FaWkpnnrqKbaKU/Hx8UhKSmIX+0StViMzM1Oy7OTJk+jo6Bg254sQQpxZt24dMjIycOjQIWRkZKChoYGtcssYlECHjzPIefzkOXZ7uXvDvsjNzZXcGuDLpEmTXE5omz59OmpqahxGEAZCo9FAr9dj/fr1wyZAjxw5gmeeeYZdTAghw0pRUREOHDiA06dP48CBA0hMTGSr3DLou9x9YDKZUFNT4/XthJEi0F8fIeTm8TRTrly54pcvhQkODsbYsWPZxSOa3DGkQCeEEDJkPM0U/rvcByo0NDTg/kCL3DEctCF3QgghxFdjxoxBaGgogoN9i6ng4OCADHNXqIdOCCFkyFCmDJzcMfSt6UMIIYSQYYUCnRBCCAkAFOiEEEJIAKBAJ4QQQgKAR5PiCCGEEDJ8OJsU51GgO9uQEEII8RZlysDJHUMacieEEEICAAU6IYQQEgAo0AkhhJAAQIFOCCGEBAAKdEIIISQA0Cx3QgghQ8abTOnu7sa1a9f88mdU0f8HW0aPHj3i/2CL3DGkHjohhJBhh//zqf4KcwDo6+tDT08Puru72VUBYVAD3W63Q6vVwmq1sqsAAHq9HiqVSih6vR4mk0nyr5jdbkd6erpkG347V0wmk8M2cXFxsFqtwnOJyT2PJ8+l1Wol9cWvx9PXlJ6eDrvdLqnHHiv+sQHAbDajsLBQqMv+LFZYWAiz2cwuFlitVmi1Wsnz88vE//KcHVt+v1w9l9VqRVxcHFQqFV599VVEREQgLi4O27dvlz3/hJBbx7Vr19hFfjOYj30zDWqgl5WVobKyEpWVlewqAEB+fj5sNhtsNhv0ej1SUlLYKhJlZWXIy8sTtuHL+fPnZYMDADQaDWw2G+rq6jBnzhxYLBY0NzdDrVazVQWTJ09Ga2ur5HmqqqrYag6USiXq6uqEbTQaDVtFYuXKlQ6vKS8vDytXrpTUEx8r/nhFRkZK6twM/LHlS3FxMVtFVlJSEiwWCzIyMrBw4UI0Nzfj7rvvZqsRQm5B/uyZswbzsW+mQQl0vtfZ0tICm82GlpYWp71OntlsxokTJxAfHw8A0Ol0yMrKYqshNzcXpaWlDj3CSZMmCdvK0ev1mD17No4ePYrMzEzJvmRlZbncv+HGbrfj4MGDLhskQ4Xtoet0OrYKIYQMqq6uLjQ2NuLq1avCsgsXLuCTTz7BoUOH0NvbK6kfqPwe6FqtFtHR0Vi/fj0MBgMAwGAwYP369YiOjoZWqxXq8sG/Zs0aSc+uuLjYaW9YoVDAaDRKeoQ2mw35+flsVQmtVou9e/fizJkzaG5uRl5eHh577DFh6LiqqgpGoxEKhULY5ty5c4iJiZGElbNGBquzsxPJyclQiYb1Xdm0aZNDI6W0tBSbNm1iqwrKysoQFRWFJUuWQKVSITk5GZ2dnWy1IVNcXCw5H+5GJdyRa9ARQohYb28vysvLMX/+fOE6BAAWiwUvvvgixo8fj/r6epSWlsLN/O+A4PdANxgMaG9vd+gxx8fHo729XQh5u92OzMxMpKWlOYQpS3y/1VURNxbEDAaD5Dk0Go0w5J6fn+8QQOKGQ2trK7Kzs2GxWDxqPIiH3MXD+llZWU5DylkjxdXxMJlM2Lt3L1auXClsV1dXB6VSyVZ1im9weDsiUV9fj5iYGNTX17OroNPpJOchIiLC5S0Qd+QadIQQIhYSEoJf/vKXKC8vx7hx44TltbW1mDVrFmbMmIEZM2agrq4OV65ckWwbiPwa6Ozwq1wxmUxCkLEBqdFohJDl16nVajQ3Nzv0zNnCNxaccdUoEE+KYyefxcTEoLKyEpGRkcIyXwKrqqpKElLeHCuIRjNKS0tRXV0tG/ju8A0OV40GZ5KSktDa2oqkpCTJcvYeus1mExp0GzdudGjYEUKIP911110ICQmRLLPZbJgwYQLKysrw7rvvIjw8HDdu3JDUCUR+DXRnF3dnRdwjdhVs7CxnNmz54knAyjUK2Elc7OQzZ8XZCARPPOSucjFqwB4ri8WC7Oxsh4l4/LFauXKlR6MZvJ07dzocJ3Y2v5z6+npJA+ajjz5iq0iYzWZEREQ4PJ+788I/z4YNG4T9rampYasRQggAYN26dZg5cyY0Gg1aWlrY1RIvvfQSwsPDUVJSgrFjx7KrA5JfA53n7AIvd3Fng40vzoZc5cJ24cKFbFUHcj10d5O4zGYzsrOzPR6eNhgMkn1zNWrgDYPB4DCaIYe/vcEeJ/bWgjPOGj5z5sxhq0nIPZ+r8yJ+nsrKSmH7efPmsVUJIQQAUFRUhMbGRphMJsTGxrKrBffffz8yMzORmZmJS5cuISgoCCqViq0WcPwe6Ha7HVu3bsXRo0clF/ejR49i69atHgejM3I99J07d7JVneI/JsUGj1zQmc1m5OTkIC4uzmFmPPk/zhpw3pwXQgjx1bp165CRkYFDhw4hIyMDDQ0NePzxx3HhwgUsWbIEL7zwAhYvXow77riD3TTg+D3QFQoFli9fjmnTpkku7tOmTcPy5cs9Gi52paqqyiGQXQ2Bi7FDyXxhh8X5hsOaNWtw6NAhvPzyy8IsfZUXQ9e3koULF/p8XgghxFdFRUU4cOAATp8+jQMHDiAxMRFKpRJ//OMf8c4776CmpgYPPfQQu1lAGlHf5a7X62WHyKuqqmR72mRwmc1mzJ49Gz09PewqFBcXe3yrgBAS+DzNlCtXrgzaF8AEBweP6PvqcsdwRAU6IYSQkc3TTOG/y30whIaGjug/0CJ3DP0+5E4IIYQM1JgxYxAaGorgYP/FVHBw8IgPc1eoh04IIWTIUKYMnNwx9F/ThxBCCCE3DQU6IYQQEgAo0AkhhJAAQIFOCCGEBACPJsURQgghZPhwNinOo0B3tiEhhBDiLcqUgZM7hjTkTgghhAQACnRCCCEkAFCgE0IIIQGAAp0QQggJABTohBBCSACgWe6EEEKGjDeZ0t3djWvXrvntz6gGBwdj9OjRI/6Ps8gdQ+qhE0IIGXb4P5/qrzAHgL6+PvT09KC7u5tdFRAGNdDtdju0Wi2sViu7CgCg1+uhUqmEotfrYTKZJP+K2e12pKenS7bht/OEyWRy2NZkMknqONvnwsJCmM1mmM1mFBYWSupbrVbExcU5PK5KpYJWq5XU1Wq1wrqIiAjJYzp7vWLOnptfZrVaodVqYbfbheURERFOXyf7OHLHlD8G4sflOTuOcXFxsucZzPMUFhYiLi4OERER2L59u3B82dfnirPXKD6uYuz7TK6+3LnU6/UO7wu548afQ/49TAjxzbVr19hFfjOYj30zDWqgl5WVobKyEpWVlewqAEB+fj5sNhtsNhv0ej1SUlLYKhJlZWXIy8sTtuHL+fPnHS7iLLPZjIqKClgsFmE7i8WCiooKt9u6olar0dzc7LBPdXV1UCqVkroGg0FYn5eXB7VaLVnvL/Hx8Whvbxeeq7i4mK0iUCgUMBqNsFgsSExMRGJiIiwWCwwGA1sV6A+9mpoayXG02WzYvXs3Nm7cyFaXmDx5MlpbW1FYWIikpCScOXMGM2bMYKvJ0mq1kpBcuHChw3FfuHChZBsw7zO2tLe3Iz4+HmDOZW5uLurq6mCz2ZCfn88+pHDc+ONbVVUlW9dkMjk07gghrvmzZ84azMe+mQYl0PneS0tLC2w2G1paWpCenu7Q0+OZzWacOHFCuLDqdDpkZWWx1ZCbm4vS0lKHXtGkSZOEbYeaXK8uOTkZnZ2dbHWg//hwHOcQ+IPpu+++Q1xcnMN+8ecqOjoa69evx/r16xEdHS0bQGq1GvPmzUNkZKTk9ebk5HjVw/aWyWTCvHnzoNFo2FUeYUcb3I0IdHZ2wmKxsIsdWK1WbNu2DaWlpTh9+rTwXtDpdEIdjUaDhISEATUcCSHOXb16FQ0NDdi3bx+6urqE5RcuXMAnn3yCQ4cOobe3V7JNoPJ7oGu1WiEc+F6ewWBwGhR8mKxZs0bSi+R7PCxxr0hcnPWKWPHx8Vi0aJEkiCIjI5GQkODQGDh37hxiYmKEejt37hTW7dy5EypmqD4pKcmhx2qz2WR7uXV1dWhubkZ0dLRDwPoDOxyt0+lw9913o7m52WHkgD+mfE+V793L7Tv6A4p9rc3NzT6POOzcudPlcbDb7aipqcH06dMly/lzIS7icyXGv2a55xCzWq2or69HS0sLu0rCbDZj2rRpKCkpQVpaGvLy8nDo0CGh1y42Y8YM7Nq1S7KMEDJwf/rTn3Dx4kV0dXVhxYoVQmP8xRdfxPjx41FfX4/S0lK4mf8dEPwe6AaDQTKMyWODwm63IzMzE2lpaTAajVAoFJL6YnK9YLbI9Sp5fBBVVVWhuLhYtjHADw3zYSUexuWHecU9xfr6eoceq0rmvjI/9P/222+jvb3dIWC9tXPnTsTExODcuXOS5exwtFzP1tX95Y8++sjjunxxdg/bnYULF7o8DidPnoRSqZQ0GMS3FcTn09l7T6vVIjIyEpWVlUJDLTk5GWVlZVA5mUfB3yLas2ePw/njWa1W5OTkoLy8HBqNBvn5+UhLS8PKlSvZqkD/yEZnZ6fsKBUhxDM6nQ5ffvml8LNWq8Wvf/1rpKWl4a677kJPTw9qa2sxa9YszJgxAzNmzEBdXR2uXLkieZxA5NdAdzZZylkxmUxCz5ANVP7iyP8LF/ep2eKsV+ls8lJWVhZ0Op1kmatbAq642je212o2m5GTk4PVq1e7bMB4Y+HChWhtbcXkyZPZVRJ8o4jtCYvvL4vvBdtsNsyZM0fyGK7uRfPFWaD6w9SpUwEfz6fBYIDFYkF2drbQUKurq0Nubi5sTGPHbDZjz5492L9/PxYsWIAlS5Y4fV/w5128bX5+vvAe5N/DPG9GCAgh3mttbUVfXx9UKhVsNhsmTJiAsrIyvPvuuwgPD8eNGzfYTQKOXwPd2VCssyK+0LlqBLCzvuV6iK56hXLD9HzhQ0w8SuBqyN1XZrMZK1aswP79+30OPPEQc0REBI4cOcJWkcUHkKueMB9C/JC9s56/q9ESdyMk/HFdsmSJMKqxYcMGtppL7s4nX9yN+jhjMpmQk5OD9957D2q1Gvn5+cjLy5PtdcPJ7Q1xYXv+hBDfrVu3DjNnzsR//dd/YfHixdBoNMJtsW+++QZbtmxBYWEh7rjjDgDASy+9hPDwcJSUlGDs2LHMowUmvwY6z9lFTi505RoBzu6hy/UQnc1sZsk1HMSTlyATGHK9TrkGhrPXHR8fj8bGRp/vM7Mz19vb213OEGfvL7sbgRBPEouPj0d5eTlyc3Mdev5yIxKuGgpgjqvRaBQeY/Xq1WxVp06cOCH52dWxFwcpX8/VkDt/jjQajcOoikajcTryI8be3rA5uYcOAFFRUS6PESFEXlFRERobG/HUU0/hT3/6E0wmE2JjY/HNN99g3bp1KCoqwqRJkwAA999/PzIzM5GZmYlLly4hKCgIKpWKfciA4/dAt9vt2Lp1K44ePSq5wB09ehRbt251GSruyF3EPe1B8/dZ2SJ3f9kduQaGuMg1BgYTG/42D3qsu3btQlhYGCIiImAymbBu3To0NzejuLhYsp1cD50dyvenKVOmICwsTPLekTv2bJDK1Rvqc3Ty5El0dHS4PAeEEPfGjRuH2267DQDQ09OD3/3ud2hsbEROTg5mzpyJd999F48//jguXLiAJUuW4IUXXsDixYuFnnsg83ugKxQKLF++HNOmTZNc8KdNm4bly5cP+IImvsfr7QWZvc/KF3Zo/1bCj1w88cQTePnll1FeXo6CggK899572LFjB1JTUx2Oj7ez+gdKoVDgzjvvRF1dHbtqWGBHQ1RORn6OHDmCZ555RrKMEOK9559/HrGxsQCA0NBQ7Nq1C83NzWhsbERjYyOefvppKJVK/PGPf8Q777yDmpoaPPTQQ+zDBKQR9V3uer3e4ULJq6qq8rmnTTxntVqRmpqKtrY2dhUSExNRXV094EabM3a7Hc8++yxWr17tUeNtODGZTKipqRm0Bg8hI4mnmXLlypVB+wKY4ODgEX1fXe4YjqhAJ4QQMrJ5min8d7kPhtDQ0BH9B1rkjqHfh9wJIYSQgRozZgxCQ0MRHOy/mAoODh7xYe4K9dAJIYQMGcqUgZM7hh41fdxkPiGEEEKGgKs8dhvoo0ePxtWrV9nFhBBCCBliV69exejRo9nFgCeBHhYWhsuXL7OLCSGEEDLELl++jLCwMHYx4Emgh4eHIyQkBOfPn0dPT4/L7j4hhBBC/IvjOPT09OD8+fMICQlBeHg4WwXwZFIc7/vvv0dHRweuXbvGriKEEELIIBo9ejTCwsJkwxzeBDohhBBChi+3Q+6EEEIIGf4o0AkhhJAAQIFOCCGEBID/H30+pLFg4pPkAAAAAElFTkSuQmCC)"
      ],
      "metadata": {
        "id": "X0Wrc3Nbfg-E"
      }
    },
    {
      "cell_type": "markdown",
      "source": [
        "### 1. **라이브러리 설치**"
      ],
      "metadata": {
        "id": "WGO8DjjjXbTo"
      }
    },
    {
      "cell_type": "code",
      "execution_count": 16,
      "metadata": {
        "colab": {
          "base_uri": "https://localhost:8080/"
        },
        "id": "gWOMWPx3WEqJ",
        "outputId": "e8dffd40-12f4-4214-8527-bab5610282c4"
      },
      "outputs": [
        {
          "output_type": "stream",
          "name": "stdout",
          "text": [
            "Requirement already satisfied: gym==0.26.2 in /usr/local/lib/python3.11/dist-packages (0.26.2)\n",
            "Requirement already satisfied: numpy>=1.18.0 in /usr/local/lib/python3.11/dist-packages (from gym==0.26.2) (1.23.5)\n",
            "Requirement already satisfied: cloudpickle>=1.2.0 in /usr/local/lib/python3.11/dist-packages (from gym==0.26.2) (3.1.1)\n",
            "Requirement already satisfied: gym_notices>=0.0.4 in /usr/local/lib/python3.11/dist-packages (from gym==0.26.2) (0.0.8)\n",
            "Requirement already satisfied: numpy==1.23.5 in /usr/local/lib/python3.11/dist-packages (1.23.5)\n",
            "Requirement already satisfied: pygame in /usr/local/lib/python3.11/dist-packages (2.6.1)\n"
          ]
        }
      ],
      "source": [
        "!pip install gym==0.26.2\n",
        "!pip install numpy==1.23.5\n",
        "!pip install pygame\n",
        "\n",
        "import numpy as np\n",
        "import gym\n",
        "import random\n",
        "import time"
      ]
    },
    {
      "cell_type": "markdown",
      "source": [
        "↓ module 'numpy' has no attribute 'bool8' 해결용"
      ],
      "metadata": {
        "id": "yiajW1psa_SP"
      }
    },
    {
      "cell_type": "code",
      "source": [
        "!pip install gymnasium[all]\n",
        "\n",
        "import gymnasium as gym"
      ],
      "metadata": {
        "id": "7crc0tuXbAdG",
        "colab": {
          "base_uri": "https://localhost:8080/"
        },
        "outputId": "67b82c98-6e06-44e6-a971-844bb04eded9"
      },
      "execution_count": 17,
      "outputs": [
        {
          "output_type": "stream",
          "name": "stdout",
          "text": [
            "Requirement already satisfied: gymnasium[all] in /usr/local/lib/python3.11/dist-packages (1.1.1)\n",
            "Requirement already satisfied: numpy>=1.21.0 in /usr/local/lib/python3.11/dist-packages (from gymnasium[all]) (1.23.5)\n",
            "Requirement already satisfied: cloudpickle>=1.2.0 in /usr/local/lib/python3.11/dist-packages (from gymnasium[all]) (3.1.1)\n",
            "Requirement already satisfied: typing-extensions>=4.3.0 in /usr/local/lib/python3.11/dist-packages (from gymnasium[all]) (4.12.2)\n",
            "Requirement already satisfied: farama-notifications>=0.0.1 in /usr/local/lib/python3.11/dist-packages (from gymnasium[all]) (0.0.4)\n",
            "Requirement already satisfied: ale_py>=0.9 in /usr/local/lib/python3.11/dist-packages (from gymnasium[all]) (0.10.2)\n",
            "Collecting box2d-py==2.3.5 (from gymnasium[all])\n",
            "  Using cached box2d-py-2.3.5.tar.gz (374 kB)\n",
            "  Preparing metadata (setup.py) ... \u001b[?25l\u001b[?25hdone\n",
            "Requirement already satisfied: pygame>=2.1.3 in /usr/local/lib/python3.11/dist-packages (from gymnasium[all]) (2.6.1)\n",
            "Collecting swig==4.* (from gymnasium[all])\n",
            "  Using cached swig-4.3.0-py2.py3-none-manylinux_2_5_x86_64.manylinux1_x86_64.whl.metadata (3.5 kB)\n",
            "Collecting mujoco-py<2.2,>=2.1 (from gymnasium[all])\n",
            "  Using cached mujoco_py-2.1.2.14-py3-none-any.whl.metadata (669 bytes)\n",
            "Collecting cython<3 (from gymnasium[all])\n",
            "  Using cached Cython-0.29.37-cp311-cp311-manylinux_2_17_x86_64.manylinux2014_x86_64.manylinux_2_24_x86_64.whl.metadata (3.1 kB)\n",
            "Collecting mujoco>=2.1.5 (from gymnasium[all])\n",
            "  Using cached mujoco-3.3.0-cp311-cp311-manylinux_2_17_x86_64.manylinux2014_x86_64.whl.metadata (44 kB)\n",
            "Requirement already satisfied: imageio>=2.14.1 in /usr/local/lib/python3.11/dist-packages (from gymnasium[all]) (2.37.0)\n",
            "Requirement already satisfied: jax>=0.4.16 in /usr/local/lib/python3.11/dist-packages (from gymnasium[all]) (0.5.2)\n",
            "Requirement already satisfied: jaxlib>=0.4.16 in /usr/local/lib/python3.11/dist-packages (from gymnasium[all]) (0.5.1)\n",
            "Requirement already satisfied: flax>=0.5.0 in /usr/local/lib/python3.11/dist-packages (from gymnasium[all]) (0.10.4)\n",
            "Requirement already satisfied: torch>=1.13.0 in /usr/local/lib/python3.11/dist-packages (from gymnasium[all]) (2.6.0+cu124)\n",
            "Requirement already satisfied: opencv-python>=3.0 in /usr/local/lib/python3.11/dist-packages (from gymnasium[all]) (4.11.0.86)\n",
            "Requirement already satisfied: matplotlib>=3.0 in /usr/local/lib/python3.11/dist-packages (from gymnasium[all]) (3.10.0)\n",
            "Requirement already satisfied: moviepy>=1.0.0 in /usr/local/lib/python3.11/dist-packages (from gymnasium[all]) (1.0.3)\n",
            "Requirement already satisfied: msgpack in /usr/local/lib/python3.11/dist-packages (from flax>=0.5.0->gymnasium[all]) (1.1.0)\n",
            "Requirement already satisfied: optax in /usr/local/lib/python3.11/dist-packages (from flax>=0.5.0->gymnasium[all]) (0.2.4)\n",
            "Requirement already satisfied: orbax-checkpoint in /usr/local/lib/python3.11/dist-packages (from flax>=0.5.0->gymnasium[all]) (0.11.10)\n",
            "Requirement already satisfied: tensorstore in /usr/local/lib/python3.11/dist-packages (from flax>=0.5.0->gymnasium[all]) (0.1.72)\n",
            "Requirement already satisfied: rich>=11.1 in /usr/local/lib/python3.11/dist-packages (from flax>=0.5.0->gymnasium[all]) (13.9.4)\n",
            "Requirement already satisfied: PyYAML>=5.4.1 in /usr/local/lib/python3.11/dist-packages (from flax>=0.5.0->gymnasium[all]) (6.0.2)\n",
            "Requirement already satisfied: treescope>=0.1.7 in /usr/local/lib/python3.11/dist-packages (from flax>=0.5.0->gymnasium[all]) (0.1.9)\n",
            "Requirement already satisfied: pillow>=8.3.2 in /usr/local/lib/python3.11/dist-packages (from imageio>=2.14.1->gymnasium[all]) (11.1.0)\n",
            "Requirement already satisfied: ml_dtypes>=0.4.0 in /usr/local/lib/python3.11/dist-packages (from jax>=0.4.16->gymnasium[all]) (0.4.1)\n",
            "Collecting numpy>=1.21.0 (from gymnasium[all])\n",
            "  Using cached numpy-2.2.4-cp311-cp311-manylinux_2_17_x86_64.manylinux2014_x86_64.whl.metadata (62 kB)\n",
            "Requirement already satisfied: opt_einsum in /usr/local/lib/python3.11/dist-packages (from jax>=0.4.16->gymnasium[all]) (3.4.0)\n",
            "Requirement already satisfied: scipy>=1.11.1 in /usr/local/lib/python3.11/dist-packages (from jax>=0.4.16->gymnasium[all]) (1.14.1)\n",
            "Requirement already satisfied: contourpy>=1.0.1 in /usr/local/lib/python3.11/dist-packages (from matplotlib>=3.0->gymnasium[all]) (1.3.1)\n",
            "Requirement already satisfied: cycler>=0.10 in /usr/local/lib/python3.11/dist-packages (from matplotlib>=3.0->gymnasium[all]) (0.12.1)\n",
            "Requirement already satisfied: fonttools>=4.22.0 in /usr/local/lib/python3.11/dist-packages (from matplotlib>=3.0->gymnasium[all]) (4.56.0)\n",
            "Requirement already satisfied: kiwisolver>=1.3.1 in /usr/local/lib/python3.11/dist-packages (from matplotlib>=3.0->gymnasium[all]) (1.4.8)\n",
            "Requirement already satisfied: packaging>=20.0 in /usr/local/lib/python3.11/dist-packages (from matplotlib>=3.0->gymnasium[all]) (24.2)\n",
            "Requirement already satisfied: pyparsing>=2.3.1 in /usr/local/lib/python3.11/dist-packages (from matplotlib>=3.0->gymnasium[all]) (3.2.1)\n",
            "Requirement already satisfied: python-dateutil>=2.7 in /usr/local/lib/python3.11/dist-packages (from matplotlib>=3.0->gymnasium[all]) (2.8.2)\n",
            "Requirement already satisfied: decorator<5.0,>=4.0.2 in /usr/local/lib/python3.11/dist-packages (from moviepy>=1.0.0->gymnasium[all]) (4.4.2)\n",
            "Requirement already satisfied: imageio_ffmpeg>=0.2.0 in /usr/local/lib/python3.11/dist-packages (from moviepy>=1.0.0->gymnasium[all]) (0.6.0)\n",
            "Requirement already satisfied: tqdm<5.0,>=4.11.2 in /usr/local/lib/python3.11/dist-packages (from moviepy>=1.0.0->gymnasium[all]) (4.67.1)\n",
            "Requirement already satisfied: requests<3.0,>=2.8.1 in /usr/local/lib/python3.11/dist-packages (from moviepy>=1.0.0->gymnasium[all]) (2.32.3)\n",
            "Requirement already satisfied: proglog<=1.0.0 in /usr/local/lib/python3.11/dist-packages (from moviepy>=1.0.0->gymnasium[all]) (0.1.10)\n",
            "Requirement already satisfied: absl-py in /usr/local/lib/python3.11/dist-packages (from mujoco>=2.1.5->gymnasium[all]) (1.4.0)\n",
            "Requirement already satisfied: etils[epath] in /usr/local/lib/python3.11/dist-packages (from mujoco>=2.1.5->gymnasium[all]) (1.12.2)\n",
            "Collecting glfw (from mujoco>=2.1.5->gymnasium[all])\n",
            "  Using cached glfw-2.8.0-py2.py27.py3.py30.py31.py32.py33.py34.py35.py36.py37.py38.p39.p310.p311.p312.p313-none-manylinux_2_28_x86_64.whl.metadata (5.4 kB)\n",
            "Requirement already satisfied: pyopengl in /usr/local/lib/python3.11/dist-packages (from mujoco>=2.1.5->gymnasium[all]) (3.1.9)\n",
            "Requirement already satisfied: cffi>=1.10 in /usr/local/lib/python3.11/dist-packages (from mujoco-py<2.2,>=2.1->gymnasium[all]) (1.17.1)\n",
            "Collecting fasteners~=0.15 (from mujoco-py<2.2,>=2.1->gymnasium[all])\n",
            "  Using cached fasteners-0.19-py3-none-any.whl.metadata (4.9 kB)\n",
            "Requirement already satisfied: filelock in /usr/local/lib/python3.11/dist-packages (from torch>=1.13.0->gymnasium[all]) (3.18.0)\n",
            "Requirement already satisfied: networkx in /usr/local/lib/python3.11/dist-packages (from torch>=1.13.0->gymnasium[all]) (3.4.2)\n",
            "Requirement already satisfied: jinja2 in /usr/local/lib/python3.11/dist-packages (from torch>=1.13.0->gymnasium[all]) (3.1.6)\n",
            "Requirement already satisfied: fsspec in /usr/local/lib/python3.11/dist-packages (from torch>=1.13.0->gymnasium[all]) (2025.3.0)\n",
            "Collecting nvidia-cuda-nvrtc-cu12==12.4.127 (from torch>=1.13.0->gymnasium[all])\n",
            "  Using cached nvidia_cuda_nvrtc_cu12-12.4.127-py3-none-manylinux2014_x86_64.whl.metadata (1.5 kB)\n",
            "Collecting nvidia-cuda-runtime-cu12==12.4.127 (from torch>=1.13.0->gymnasium[all])\n",
            "  Using cached nvidia_cuda_runtime_cu12-12.4.127-py3-none-manylinux2014_x86_64.whl.metadata (1.5 kB)\n",
            "Collecting nvidia-cuda-cupti-cu12==12.4.127 (from torch>=1.13.0->gymnasium[all])\n",
            "  Using cached nvidia_cuda_cupti_cu12-12.4.127-py3-none-manylinux2014_x86_64.whl.metadata (1.6 kB)\n",
            "Collecting nvidia-cudnn-cu12==9.1.0.70 (from torch>=1.13.0->gymnasium[all])\n",
            "  Using cached nvidia_cudnn_cu12-9.1.0.70-py3-none-manylinux2014_x86_64.whl.metadata (1.6 kB)\n",
            "Collecting nvidia-cublas-cu12==12.4.5.8 (from torch>=1.13.0->gymnasium[all])\n",
            "  Using cached nvidia_cublas_cu12-12.4.5.8-py3-none-manylinux2014_x86_64.whl.metadata (1.5 kB)\n",
            "Collecting nvidia-cufft-cu12==11.2.1.3 (from torch>=1.13.0->gymnasium[all])\n",
            "  Using cached nvidia_cufft_cu12-11.2.1.3-py3-none-manylinux2014_x86_64.whl.metadata (1.5 kB)\n",
            "Collecting nvidia-curand-cu12==10.3.5.147 (from torch>=1.13.0->gymnasium[all])\n",
            "  Using cached nvidia_curand_cu12-10.3.5.147-py3-none-manylinux2014_x86_64.whl.metadata (1.5 kB)\n",
            "Collecting nvidia-cusolver-cu12==11.6.1.9 (from torch>=1.13.0->gymnasium[all])\n",
            "  Using cached nvidia_cusolver_cu12-11.6.1.9-py3-none-manylinux2014_x86_64.whl.metadata (1.6 kB)\n",
            "Collecting nvidia-cusparse-cu12==12.3.1.170 (from torch>=1.13.0->gymnasium[all])\n",
            "  Using cached nvidia_cusparse_cu12-12.3.1.170-py3-none-manylinux2014_x86_64.whl.metadata (1.6 kB)\n",
            "Requirement already satisfied: nvidia-cusparselt-cu12==0.6.2 in /usr/local/lib/python3.11/dist-packages (from torch>=1.13.0->gymnasium[all]) (0.6.2)\n",
            "Requirement already satisfied: nvidia-nccl-cu12==2.21.5 in /usr/local/lib/python3.11/dist-packages (from torch>=1.13.0->gymnasium[all]) (2.21.5)\n",
            "Requirement already satisfied: nvidia-nvtx-cu12==12.4.127 in /usr/local/lib/python3.11/dist-packages (from torch>=1.13.0->gymnasium[all]) (12.4.127)\n",
            "Collecting nvidia-nvjitlink-cu12==12.4.127 (from torch>=1.13.0->gymnasium[all])\n",
            "  Using cached nvidia_nvjitlink_cu12-12.4.127-py3-none-manylinux2014_x86_64.whl.metadata (1.5 kB)\n",
            "Requirement already satisfied: triton==3.2.0 in /usr/local/lib/python3.11/dist-packages (from torch>=1.13.0->gymnasium[all]) (3.2.0)\n",
            "Requirement already satisfied: sympy==1.13.1 in /usr/local/lib/python3.11/dist-packages (from torch>=1.13.0->gymnasium[all]) (1.13.1)\n",
            "Requirement already satisfied: mpmath<1.4,>=1.1.0 in /usr/local/lib/python3.11/dist-packages (from sympy==1.13.1->torch>=1.13.0->gymnasium[all]) (1.3.0)\n",
            "Requirement already satisfied: pycparser in /usr/local/lib/python3.11/dist-packages (from cffi>=1.10->mujoco-py<2.2,>=2.1->gymnasium[all]) (2.22)\n",
            "Requirement already satisfied: six>=1.5 in /usr/local/lib/python3.11/dist-packages (from python-dateutil>=2.7->matplotlib>=3.0->gymnasium[all]) (1.17.0)\n",
            "Requirement already satisfied: charset-normalizer<4,>=2 in /usr/local/lib/python3.11/dist-packages (from requests<3.0,>=2.8.1->moviepy>=1.0.0->gymnasium[all]) (3.4.1)\n",
            "Requirement already satisfied: idna<4,>=2.5 in /usr/local/lib/python3.11/dist-packages (from requests<3.0,>=2.8.1->moviepy>=1.0.0->gymnasium[all]) (3.10)\n",
            "Requirement already satisfied: urllib3<3,>=1.21.1 in /usr/local/lib/python3.11/dist-packages (from requests<3.0,>=2.8.1->moviepy>=1.0.0->gymnasium[all]) (2.3.0)\n",
            "Requirement already satisfied: certifi>=2017.4.17 in /usr/local/lib/python3.11/dist-packages (from requests<3.0,>=2.8.1->moviepy>=1.0.0->gymnasium[all]) (2025.1.31)\n",
            "Requirement already satisfied: markdown-it-py>=2.2.0 in /usr/local/lib/python3.11/dist-packages (from rich>=11.1->flax>=0.5.0->gymnasium[all]) (3.0.0)\n",
            "Requirement already satisfied: pygments<3.0.0,>=2.13.0 in /usr/local/lib/python3.11/dist-packages (from rich>=11.1->flax>=0.5.0->gymnasium[all]) (2.18.0)\n",
            "Requirement already satisfied: importlib_resources in /usr/local/lib/python3.11/dist-packages (from etils[epath]->mujoco>=2.1.5->gymnasium[all]) (6.5.2)\n",
            "Requirement already satisfied: zipp in /usr/local/lib/python3.11/dist-packages (from etils[epath]->mujoco>=2.1.5->gymnasium[all]) (3.21.0)\n",
            "Requirement already satisfied: MarkupSafe>=2.0 in /usr/local/lib/python3.11/dist-packages (from jinja2->torch>=1.13.0->gymnasium[all]) (3.0.2)\n",
            "Requirement already satisfied: chex>=0.1.87 in /usr/local/lib/python3.11/dist-packages (from optax->flax>=0.5.0->gymnasium[all]) (0.1.89)\n",
            "Requirement already satisfied: nest_asyncio in /usr/local/lib/python3.11/dist-packages (from orbax-checkpoint->flax>=0.5.0->gymnasium[all]) (1.6.0)\n",
            "Requirement already satisfied: protobuf in /usr/local/lib/python3.11/dist-packages (from orbax-checkpoint->flax>=0.5.0->gymnasium[all]) (5.29.4)\n",
            "Requirement already satisfied: humanize in /usr/local/lib/python3.11/dist-packages (from orbax-checkpoint->flax>=0.5.0->gymnasium[all]) (4.12.1)\n",
            "Requirement already satisfied: simplejson>=3.16.0 in /usr/local/lib/python3.11/dist-packages (from orbax-checkpoint->flax>=0.5.0->gymnasium[all]) (3.20.1)\n",
            "Requirement already satisfied: toolz>=0.9.0 in /usr/local/lib/python3.11/dist-packages (from chex>=0.1.87->optax->flax>=0.5.0->gymnasium[all]) (0.12.1)\n",
            "Requirement already satisfied: mdurl~=0.1 in /usr/local/lib/python3.11/dist-packages (from markdown-it-py>=2.2.0->rich>=11.1->flax>=0.5.0->gymnasium[all]) (0.1.2)\n",
            "Using cached swig-4.3.0-py2.py3-none-manylinux_2_5_x86_64.manylinux1_x86_64.whl (1.9 MB)\n",
            "Using cached Cython-0.29.37-cp311-cp311-manylinux_2_17_x86_64.manylinux2014_x86_64.manylinux_2_24_x86_64.whl (1.9 MB)\n",
            "Using cached mujoco-3.3.0-cp311-cp311-manylinux_2_17_x86_64.manylinux2014_x86_64.whl (6.6 MB)\n",
            "Using cached mujoco_py-2.1.2.14-py3-none-any.whl (2.4 MB)\n",
            "Using cached numpy-2.2.4-cp311-cp311-manylinux_2_17_x86_64.manylinux2014_x86_64.whl (16.4 MB)\n",
            "Using cached nvidia_cublas_cu12-12.4.5.8-py3-none-manylinux2014_x86_64.whl (363.4 MB)\n",
            "Using cached nvidia_cuda_cupti_cu12-12.4.127-py3-none-manylinux2014_x86_64.whl (13.8 MB)\n",
            "Using cached nvidia_cuda_nvrtc_cu12-12.4.127-py3-none-manylinux2014_x86_64.whl (24.6 MB)\n",
            "Using cached nvidia_cuda_runtime_cu12-12.4.127-py3-none-manylinux2014_x86_64.whl (883 kB)\n",
            "Using cached nvidia_cudnn_cu12-9.1.0.70-py3-none-manylinux2014_x86_64.whl (664.8 MB)\n",
            "Using cached nvidia_cufft_cu12-11.2.1.3-py3-none-manylinux2014_x86_64.whl (211.5 MB)\n",
            "Using cached nvidia_curand_cu12-10.3.5.147-py3-none-manylinux2014_x86_64.whl (56.3 MB)\n",
            "Using cached nvidia_cusolver_cu12-11.6.1.9-py3-none-manylinux2014_x86_64.whl (127.9 MB)\n",
            "Using cached nvidia_cusparse_cu12-12.3.1.170-py3-none-manylinux2014_x86_64.whl (207.5 MB)\n",
            "Using cached nvidia_nvjitlink_cu12-12.4.127-py3-none-manylinux2014_x86_64.whl (21.1 MB)\n",
            "Using cached fasteners-0.19-py3-none-any.whl (18 kB)\n",
            "Using cached glfw-2.8.0-py2.py27.py3.py30.py31.py32.py33.py34.py35.py36.py37.py38.p39.p310.p311.p312.p313-none-manylinux_2_28_x86_64.whl (243 kB)\n",
            "Building wheels for collected packages: box2d-py\n",
            "  \u001b[1;31merror\u001b[0m: \u001b[1msubprocess-exited-with-error\u001b[0m\n",
            "  \n",
            "  \u001b[31m×\u001b[0m \u001b[32mpython setup.py bdist_wheel\u001b[0m did not run successfully.\n",
            "  \u001b[31m│\u001b[0m exit code: \u001b[1;36m1\u001b[0m\n",
            "  \u001b[31m╰─>\u001b[0m See above for output.\n",
            "  \n",
            "  \u001b[1;35mnote\u001b[0m: This error originates from a subprocess, and is likely not a problem with pip.\n",
            "  Building wheel for box2d-py (setup.py) ... \u001b[?25lerror\n",
            "\u001b[31m  ERROR: Failed building wheel for box2d-py\u001b[0m\u001b[31m\n",
            "\u001b[0m\u001b[?25h  Running setup.py clean for box2d-py\n",
            "Failed to build box2d-py\n",
            "\u001b[31mERROR: ERROR: Failed to build installable wheels for some pyproject.toml based projects (box2d-py)\u001b[0m\u001b[31m\n",
            "\u001b[0m"
          ]
        }
      ]
    },
    {
      "cell_type": "markdown",
      "source": [
        "### 2. **Taxi 환경 생성**"
      ],
      "metadata": {
        "id": "1VDyU3XoXwpO"
      }
    },
    {
      "cell_type": "code",
      "source": [
        "env = gym.make(\"Taxi-v3\", render_mode=\"ansi\")  # 'ansi'로 텍스트 렌더링(코랩)\n",
        "\n",
        "state_size = env.observation_space.n # total number of states (S)\n",
        "action_size = env.action_space.n # total number of actions (A)"
      ],
      "metadata": {
        "id": "_UG17CPdXt9J"
      },
      "execution_count": 18,
      "outputs": []
    },
    {
      "cell_type": "markdown",
      "source": [
        "5x5 격자맵, 승객 위치 4곳, 목적지 4곳 → 총 500개 상태(state)\n",
        "\n",
        "6개 행동: [남, 북, 동, 서, 승객태우기, 승객내리기]"
      ],
      "metadata": {
        "id": "gDAZQNkqf8mk"
      }
    },
    {
      "cell_type": "markdown",
      "source": [
        "### 3. **Q-테이블**"
      ],
      "metadata": {
        "id": "_bVF69tvX7lJ"
      }
    },
    {
      "cell_type": "code",
      "source": [
        "#초기화\n",
        "qtable = np.zeros((state_size, action_size))"
      ],
      "metadata": {
        "id": "98BZJVNfWZJz"
      },
      "execution_count": 19,
      "outputs": []
    },
    {
      "cell_type": "markdown",
      "source": [
        "### 4. **hyperparameter**"
      ],
      "metadata": {
        "id": "N7EKA6_PYLW8"
      }
    },
    {
      "cell_type": "code",
      "source": [
        "learning_rate = 0.9\n",
        "discount_rate = 0.8  # 미래 보상을 얼마나 중요하게 볼지 (γ)\n",
        "epsilon = 1.0\n",
        "decay_rate = 0.005\n",
        "\n",
        "num_episodes = 5000\n",
        "max_steps = 100"
      ],
      "metadata": {
        "id": "TbH9wxHjYOUL"
      },
      "execution_count": 33,
      "outputs": []
    },
    {
      "cell_type": "code",
      "source": [
        "episode_rewards = []"
      ],
      "metadata": {
        "id": "vvvo3TkAdzfH"
      },
      "execution_count": 26,
      "outputs": []
    },
    {
      "cell_type": "markdown",
      "source": [
        "### 5. **Q-learning 학습**"
      ],
      "metadata": {
        "id": "dggBLHhbYRbY"
      }
    },
    {
      "cell_type": "code",
      "source": [
        "for episode in range(num_episodes):\n",
        "    state, _ = env.reset()\n",
        "    total_reward = 0\n",
        "\n",
        "    for step in range(max_steps):\n",
        "        if random.uniform(0, 1) < epsilon:\n",
        "            action = env.action_space.sample()\n",
        "        else:\n",
        "            action = np.argmax(qtable[state, :])\n",
        "\n",
        "        new_state, reward, terminated, truncated, _ = env.step(action)\n",
        "        done = terminated or truncated\n",
        "\n",
        "        # Q(s, a) ← Q(s, a) + α [r + γ * max Q(s', a') - Q(s, a)]\n",
        "\n",
        "        qtable[state, action] = qtable[state, action] + learning_rate * (\n",
        "            reward + discount_rate * np.max(qtable[new_state, :]) - qtable[state, action]\n",
        "        )\n",
        "\n",
        "        state = new_state\n",
        "        total_reward += reward\n",
        "        if done:\n",
        "            break\n",
        "\n",
        "    episode_rewards.append(total_reward)\n",
        "    epsilon = np.exp(-decay_rate * episode)"
      ],
      "metadata": {
        "id": "dv2A8X1xWajj"
      },
      "execution_count": 34,
      "outputs": []
    },
    {
      "cell_type": "markdown",
      "source": [
        "### 6. **Q-learning 테스트**"
      ],
      "metadata": {
        "id": "td65puDObVOQ"
      }
    },
    {
      "cell_type": "code",
      "source": [
        "state, _ = env.reset()\n",
        "done = False\n",
        "rewards = 0\n",
        "\n",
        "print(\"\\n🚕 TRAINED AGENT\\n\")\n",
        "\n",
        "for step in range(max_steps):\n",
        "    action = np.argmax(qtable[state, :])\n",
        "    new_state, reward, terminated, truncated, _ = env.step(action)\n",
        "    done = terminated or truncated\n",
        "\n",
        "    rewards += reward\n",
        "\n",
        "    # 텍스트 기반의 렌더링\n",
        "    output = env.render()\n",
        "    print(output)\n",
        "    print(f\"Step: {step + 1}, Reward: {reward}, Total Score: {rewards}\")\n",
        "    time.sleep(0.5)\n",
        "\n",
        "    state = new_state\n",
        "\n",
        "    if done:\n",
        "        print(\"🚀 Episode finished.\")\n",
        "        break\n",
        "\n",
        "env.close()"
      ],
      "metadata": {
        "id": "72pRW6G8Wbi9",
        "colab": {
          "base_uri": "https://localhost:8080/"
        },
        "outputId": "765d7e76-4826-409a-c02b-df20ebca8170"
      },
      "execution_count": 35,
      "outputs": [
        {
          "output_type": "stream",
          "name": "stdout",
          "text": [
            "\n",
            "🚕 TRAINED AGENT\n",
            "\n",
            "+---------+\n",
            "|R: | : :\u001b[34;1mG\u001b[0m|\n",
            "| :\u001b[43m \u001b[0m| : : |\n",
            "| : : : : |\n",
            "| | : | : |\n",
            "|Y| : |\u001b[35mB\u001b[0m: |\n",
            "+---------+\n",
            "  (South)\n",
            "\n",
            "Step: 1, Reward: -1, Total Score: -1\n",
            "+---------+\n",
            "|R: | : :\u001b[34;1mG\u001b[0m|\n",
            "| : | : : |\n",
            "| :\u001b[43m \u001b[0m: : : |\n",
            "| | : | : |\n",
            "|Y| : |\u001b[35mB\u001b[0m: |\n",
            "+---------+\n",
            "  (South)\n",
            "\n",
            "Step: 2, Reward: -1, Total Score: -2\n",
            "+---------+\n",
            "|R: | : :\u001b[34;1mG\u001b[0m|\n",
            "| : | : : |\n",
            "| : :\u001b[43m \u001b[0m: : |\n",
            "| | : | : |\n",
            "|Y| : |\u001b[35mB\u001b[0m: |\n",
            "+---------+\n",
            "  (East)\n",
            "\n",
            "Step: 3, Reward: -1, Total Score: -3\n",
            "+---------+\n",
            "|R: | : :\u001b[34;1mG\u001b[0m|\n",
            "| : |\u001b[43m \u001b[0m: : |\n",
            "| : : : : |\n",
            "| | : | : |\n",
            "|Y| : |\u001b[35mB\u001b[0m: |\n",
            "+---------+\n",
            "  (North)\n",
            "\n",
            "Step: 4, Reward: -1, Total Score: -4\n",
            "+---------+\n",
            "|R: |\u001b[43m \u001b[0m: :\u001b[34;1mG\u001b[0m|\n",
            "| : | : : |\n",
            "| : : : : |\n",
            "| | : | : |\n",
            "|Y| : |\u001b[35mB\u001b[0m: |\n",
            "+---------+\n",
            "  (North)\n",
            "\n",
            "Step: 5, Reward: -1, Total Score: -5\n",
            "+---------+\n",
            "|R: | :\u001b[43m \u001b[0m:\u001b[34;1mG\u001b[0m|\n",
            "| : | : : |\n",
            "| : : : : |\n",
            "| | : | : |\n",
            "|Y| : |\u001b[35mB\u001b[0m: |\n",
            "+---------+\n",
            "  (East)\n",
            "\n",
            "Step: 6, Reward: -1, Total Score: -6\n",
            "+---------+\n",
            "|R: | : :\u001b[34;1m\u001b[43mG\u001b[0m\u001b[0m|\n",
            "| : | : : |\n",
            "| : : : : |\n",
            "| | : | : |\n",
            "|Y| : |\u001b[35mB\u001b[0m: |\n",
            "+---------+\n",
            "  (East)\n",
            "\n",
            "Step: 7, Reward: -1, Total Score: -7\n",
            "+---------+\n",
            "|R: | : :\u001b[42mG\u001b[0m|\n",
            "| : | : : |\n",
            "| : : : : |\n",
            "| | : | : |\n",
            "|Y| : |\u001b[35mB\u001b[0m: |\n",
            "+---------+\n",
            "  (Pickup)\n",
            "\n",
            "Step: 8, Reward: -1, Total Score: -8\n",
            "+---------+\n",
            "|R: | : :G|\n",
            "| : | : :\u001b[42m_\u001b[0m|\n",
            "| : : : : |\n",
            "| | : | : |\n",
            "|Y| : |\u001b[35mB\u001b[0m: |\n",
            "+---------+\n",
            "  (South)\n",
            "\n",
            "Step: 9, Reward: -1, Total Score: -9\n",
            "+---------+\n",
            "|R: | : :G|\n",
            "| : | : : |\n",
            "| : : : :\u001b[42m_\u001b[0m|\n",
            "| | : | : |\n",
            "|Y| : |\u001b[35mB\u001b[0m: |\n",
            "+---------+\n",
            "  (South)\n",
            "\n",
            "Step: 10, Reward: -1, Total Score: -10\n",
            "+---------+\n",
            "|R: | : :G|\n",
            "| : | : : |\n",
            "| : : : : |\n",
            "| | : | :\u001b[42m_\u001b[0m|\n",
            "|Y| : |\u001b[35mB\u001b[0m: |\n",
            "+---------+\n",
            "  (South)\n",
            "\n",
            "Step: 11, Reward: -1, Total Score: -11\n",
            "+---------+\n",
            "|R: | : :G|\n",
            "| : | : : |\n",
            "| : : : : |\n",
            "| | : | : |\n",
            "|Y| : |\u001b[35mB\u001b[0m:\u001b[42m_\u001b[0m|\n",
            "+---------+\n",
            "  (South)\n",
            "\n",
            "Step: 12, Reward: -1, Total Score: -12\n",
            "+---------+\n",
            "|R: | : :G|\n",
            "| : | : : |\n",
            "| : : : : |\n",
            "| | : | : |\n",
            "|Y| : |\u001b[35m\u001b[42mB\u001b[0m\u001b[0m: |\n",
            "+---------+\n",
            "  (West)\n",
            "\n",
            "Step: 13, Reward: -1, Total Score: -13\n",
            "+---------+\n",
            "|R: | : :G|\n",
            "| : | : : |\n",
            "| : : : : |\n",
            "| | : | : |\n",
            "|Y| : |\u001b[35m\u001b[34;1m\u001b[43mB\u001b[0m\u001b[0m\u001b[0m: |\n",
            "+---------+\n",
            "  (Dropoff)\n",
            "\n",
            "Step: 14, Reward: 20, Total Score: 7\n",
            "🚀 Episode finished.\n"
          ]
        }
      ]
    },
    {
      "cell_type": "code",
      "source": [
        "qtable"
      ],
      "metadata": {
        "colab": {
          "base_uri": "https://localhost:8080/"
        },
        "id": "_E3ExouQbpT6",
        "outputId": "53a105ad-7e2a-458b-9a87-3dbf568501c9"
      },
      "execution_count": 36,
      "outputs": [
        {
          "output_type": "execute_result",
          "data": {
            "text/plain": [
              "array([[  0.        ,   0.        ,   0.        ,   0.        ,\n",
              "          0.        ,   0.        ],\n",
              "       [ -2.85251635,  -2.31564544,  -2.85251635,  -2.31564544,\n",
              "         -1.6445568 , -11.31564544],\n",
              "       [  0.24288   ,   1.5536    ,   0.24288   ,   1.5536    ,\n",
              "          3.192     ,  -7.44640001],\n",
              "       ...,\n",
              "       [  3.19188305,   5.24      ,   3.13695634,   1.54929006,\n",
              "         -5.80889121,  -5.82140323],\n",
              "       [ -1.64456455,  -0.805696  ,  -1.64455683,  -0.805696  ,\n",
              "        -10.64455708, -10.6445568 ],\n",
              "       [ 11.        ,   7.8       ,  11.        ,  15.        ,\n",
              "          2.        ,   2.        ]])"
            ]
          },
          "metadata": {},
          "execution_count": 36
        }
      ]
    },
    {
      "cell_type": "code",
      "source": [
        "import matplotlib.pyplot as plt\n",
        "\n",
        "plt.plot(episode_rewards)\n",
        "plt.title(\"Episode Reward over Time\")\n",
        "plt.xlabel(\"Episode\")\n",
        "plt.ylabel(\"Total Reward\")\n",
        "plt.grid()\n",
        "plt.show()"
      ],
      "metadata": {
        "colab": {
          "base_uri": "https://localhost:8080/",
          "height": 472
        },
        "id": "2je-JdYGc4cb",
        "outputId": "09a904c6-07e2-409e-f99a-bea0faddaa8a"
      },
      "execution_count": 37,
      "outputs": [
        {
          "output_type": "display_data",
          "data": {
            "text/plain": [
              "<Figure size 640x480 with 1 Axes>"
            ],
            "image/png": "[encoded data removed]"
          },
          "metadata": {}
        }
      ]
    },
    {
      "cell_type": "markdown",
      "source": [
        "-> n=5000\n",
        "\n",
        "- 초반에는 탐험 비율 높아서 보상 -(불안정)\n",
        "- 점점 올바른 행동을 하면서 보상 증가 (성공적일수록 0에 가까움)\n",
        "\n",
        "->> n=1000 근처에서 **잘못된 정책 학습**을 해서 보상이 급락한 것을 확인할 수 있음"
      ],
      "metadata": {
        "id": "hOYkFtVlesEJ"
      }
    },
    {
      "cell_type": "markdown",
      "source": [
        "**<보상 급락 예측>**\n",
        "\n",
        "ε-greedy 탐험 정책 때문\n",
        "\n",
        "- ε(탐험률) 줄어드는 과정에서 선택 잘못함\n",
        "- 정책 왜곡..?\n"
      ],
      "metadata": {
        "id": "mHa3OtmdfETf"
      }
    },
    {
      "cell_type": "markdown",
      "source": [
        "![image.png](data:image/png;base64,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)"
      ],
      "metadata": {
        "id": "xnIiuT4XeeNE"
      }
    },
    {
      "cell_type": "markdown",
      "source": [
        "-> 이건 n=1000일 때"
      ],
      "metadata": {
        "id": "MfT35gVKehZx"
      }
    }
  ]
}
