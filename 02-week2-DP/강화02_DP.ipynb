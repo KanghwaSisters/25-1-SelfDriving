{
  "nbformat": 4,
  "nbformat_minor": 0,
  "metadata": {
    "colab": {
      "provenance": []
    },
    "kernelspec": {
      "name": "python3",
      "display_name": "Python 3"
    },
    "language_info": {
      "name": "python"
    }
  },
  "cells": [
    {
      "cell_type": "markdown",
      "source": [
        "## 다이나믹 프로그래밍\n",
        "\n",
        "다이나믹 프로그래밍은 model-based 접근법으로, 환경의 전이 확률과 보상을 알고 있을 때 사용됩니다. 이번 코드에서는 DP 기법의 가치 이터레이션 (Value Iteration), 정책 이터레이션 (Policy Iteration)을 활용해 최적 정책을 찾습니다.\n",
        "\n",
        "다음 환경(**GridWorldEnvironment**)을 가지고 가치 이터레이션, 정책 이터레이션을 구현하세요."
      ],
      "metadata": {
        "id": "HyNmkw66VPdZ"
      }
    },
    {
      "cell_type": "markdown",
      "source": [
        "## GridWorldEnvironment\n",
        "GridWorld는 격자 기반 환경으로, 에이전트가 상, 하, 좌, 우로 이동하며 목표 지점에 도달해야 합니다.\n",
        "\n",
        "```py\n",
        "start_point = (0,0) # 시작점\n",
        "end_point = (4,4) # 목표 지점\n",
        "gridworld_size = (5,5) # 5x5 크기의 격자\n",
        "env = GridWorldEnvironment(start_point, end_point, grid_world_size)\n",
        "```"
      ],
      "metadata": {
        "id": "AJazHY8WUeo9"
      }
    },
    {
      "cell_type": "markdown",
      "source": [
        "## Original Code"
      ],
      "metadata": {
        "id": "FrEXfXlQW5CY"
      }
    },
    {
      "cell_type": "code",
      "execution_count": null,
      "metadata": {
        "id": "OOi9LMUhUY3K"
      },
      "outputs": [],
      "source": [
        "import numpy as np\n",
        "from typing import Tuple\n",
        "\n",
        "class GridWorldEnvironment:\n",
        "    def __init__(self, start_point:Tuple, end_point:Tuple, grid_world_size:Tuple):\n",
        "        # 시작점과 끝점을 받는다.\n",
        "        self.start_point = start_point\n",
        "        self.end_point = end_point if end_point != (-1,-1) else (grid_world_size[0] + end_point[0],\n",
        "                                                                 grid_world_size[1] + end_point[1])\n",
        "\n",
        "        # 그리드 월드의 규격을 받는다.\n",
        "        self.width, self.height = grid_world_size\n",
        "\n",
        "        # action dictionary\n",
        "        self.action_space = ['up', 'down', 'left', 'right']\n",
        "        self.num_actions = len(self.action_space)\n",
        "        self.actions = {'up':(-1,0),\n",
        "                        'down':(1,0),\n",
        "                        'left':(0,-1),\n",
        "                        'right':(0,1) }\n",
        "\n",
        "        # 상태 : 좌표로 나타남\n",
        "        self.traces = []\n",
        "\n",
        "        # total states\n",
        "        self.total_states = []\n",
        "        for x in range(self.width):\n",
        "            for y in range(self.height):\n",
        "                self.total_states.append((x,y))\n",
        "\n",
        "        # reward\n",
        "        self.reward = np.zeros(shape=(self.height, self.width)).tolist()\n",
        "        self.reward[end_point[0]][end_point[1]] = 1\n",
        "\n",
        "    def render(self):\n",
        "        # 그리드 월드의 상태를 출력한다.\n",
        "        self.grid_world = np.full(shape=(self.height, self.width), fill_value=\".\").tolist()\n",
        "\n",
        "        last_point = self.traces[-1] # 에이전트가 가장 마지막에 있었던 위치\n",
        "        traces = list(set(self.traces)) # 중복된 값을 삭제하기 위함\n",
        "        for trace in traces:\n",
        "            self.grid_world[trace[0]][trace[1]] = \"X\"\n",
        "\n",
        "        self.grid_world[self.start_point[0]][self.start_point[1]] = \"S\" # start point\n",
        "        self.grid_world[self.end_point[0]][self.end_point[1]] = \"G\" # end point\n",
        "        self.grid_world[last_point[0]][last_point[1]] = \"A\" # 현재 에이전트의 위치\n",
        "\n",
        "        # string으로 출력한다.\n",
        "        grid = \"\"\n",
        "\n",
        "        for i in range(self.height):\n",
        "            for j in range(self.width):\n",
        "                grid += self.grid_world[i][j]+\" \"\n",
        "            grid += \"\\n\"\n",
        "\n",
        "        print(grid)\n",
        "\n",
        "    def get_reward(self, state, action_idx):\n",
        "        next_state = self.state_after_action(state, action_idx)\n",
        "        return self.reward[next_state[0]][next_state[1]]\n",
        "\n",
        "    def state_after_action(self, state, action_idx:int):\n",
        "        action = self.action_space[action_idx]\n",
        "        row_movement, col_movement = self.actions[action]\n",
        "\n",
        "        # action에 따라 에이전트 이동\n",
        "        next_state = (state[0]+row_movement, state[1]+col_movement)\n",
        "        next_state = self.check_boundary(next_state)\n",
        "\n",
        "        return next_state\n",
        "\n",
        "    def check_boundary(self, state):\n",
        "        state = list(state)\n",
        "        state[0] = (0 if state[0] < 0 else self.height - 1 if state[0] > self.height - 1 else state[0])\n",
        "        state[1] = (0 if state[1] < 0 else self.width - 1 if state[1] > self.width - 1 else state[1])\n",
        "        return tuple(state)"
      ]
    },
    {
      "cell_type": "markdown",
      "source": [
        "## Own Code\n",
        "위 환경 클래스를 상속 받아 `env.render` 코드를 구현하세요."
      ],
      "metadata": {
        "id": "DHhCH3oBW79l"
      }
    },
    {
      "cell_type": "code",
      "source": [
        "class CustomGridWorld(GridWorldEnvironment):\n",
        "    def render(self):\n",
        "        # 기본 상태 초기화\n",
        "        self.grid_world = np.full(shape=(self.height, self.width), fill_value=\".\")\n",
        "\n",
        "        # trace(X), start point(S), end point(G), last_point(A)\n",
        "        last_point = self.traces[-1] if self.traces else self.start_point\n",
        "        traces = list(set(self.traces))\n",
        "\n",
        "        for trace in traces:\n",
        "            self.grid_world[trace[0]][trace[1]] = \"X\"\n",
        "\n",
        "        self.grid_world[self.start_point[0]][self.start_point[1]] = \"S\" # start point\n",
        "        self.grid_world[self.end_point[0]][self.end_point[1]] = \"G\" # end point\n",
        "        self.grid_world[last_point[0]][last_point[1]] = \"A\" # 현재 에이전트의 위치\n",
        "\n",
        "        # 출력\n",
        "        print(\"== GridWorld ==\")\n",
        "        for i in range(self.height):\n",
        "            for j in range(self.width):\n",
        "                print(self.grid_world[i][j], end=\" \")\n",
        "            print()\n",
        "        print(\"===============\")\n"
      ],
      "metadata": {
        "id": "KQ1M1GHzX3Gg"
      },
      "execution_count": null,
      "outputs": []
    },
    {
      "cell_type": "markdown",
      "source": [
        "# 01. 정책 이터레이션\n",
        "정책 이터레이션은 정책 평가와 정책 개선을 번갈아 수행하며 최적 정책을 찾아가는 방법입니다.\n",
        "\n",
        "- 스켈레톤 코드  \n",
        "`init` 부를 제외한 나머지 매소드를 채워주세요.\n",
        "\n",
        "1. get_policy : 현재 상태에서의 정책 반환\n",
        "2. get_value\t: 현재 상태의 가치 반환\n",
        "3. get_action : 현재 정책에 따라 행동 선택\n",
        "4. policy_evaluation : 정책을 기준으로 가치 함수 업데이트\n",
        "5. policy_improvement : 가치 함수를 이용해 최적 정책을 찾음"
      ],
      "metadata": {
        "id": "LrGQnOj3VmdT"
      }
    },
    {
      "cell_type": "code",
      "source": [
        "class PolicyIteration:\n",
        "    def __init__(self,env):\n",
        "        # about env\n",
        "        self.env = env\n",
        "        self.action_space = env.action_space # ['up', 'down', 'left', 'right'] 차례대로 (-1,0) (1,0) (0,-1) (0,1)\n",
        "        self.num_action = len(self.action_space)\n",
        "\n",
        "        # value 2d list\n",
        "        self.value_table = np.zeros(shape = (env.height, env.width)).tolist() # Appendix 1\n",
        "\n",
        "        # 상하좌우 동일한 확률을 가지는 정책으로 초기화\n",
        "        self.policy_table = np.full(shape = (env.height, env.width, self.num_action), fill_value = 1/self.num_action).tolist()\n",
        "\n",
        "        # end state 에서는 어떠한 행동도 할 필요가 없어서 policy table을 비운다.\n",
        "        self.policy_table[env.end_point[0]][env.end_point[1]] = []\n",
        "\n",
        "        self.gamma = 0.9 # 할인율\n",
        "\n",
        "    # 현재 상태에서의 정책 반환\n",
        "    def get_policy(self, state):\n",
        "         return self.policy_table[state[0]][state[1]]\n",
        "\n",
        "    # 현재 상태의 가치 반환\n",
        "    def get_value(self, state):\n",
        "        return self.value_table[state[0]][state[1]]\n",
        "\n",
        "    # 현재 정책에 따라 행동 선택\n",
        "    def get_action(self,state):\n",
        "        policy = self.get_policy(state)\n",
        "        policy = np.array(policy)\n",
        "        return np.random.choice(self.action_space, 1, p=policy)[0]\n",
        "\n",
        "    # 정책을 기준으로 가치 함수 업데이트\n",
        "    def policy_evaluation(self):\n",
        "          # 다음 가치함수 초기화\n",
        "        next_value_table = [[0.00] * self.env.width\n",
        "                           for _ in range(self.env.height)]\n",
        "\n",
        "        # 모든 상태에 대해서 벨만 기대방정식을 계산\n",
        "        for state in self.env.total_states:\n",
        "            value = 0.0\n",
        "            # 마침 상태의 가치 함수 = 0\n",
        "            if state == self.env.end_point:\n",
        "                next_value_table[state[0]][state[1]] = value\n",
        "                continue\n",
        "\n",
        "            # 벨만 기대 방정식\n",
        "            for action_idx, action in enumerate(self.env.action_space):\n",
        "                next_state = self.env.state_after_action(state, action_idx)\n",
        "                reward = self.env.get_reward(state, action_idx)\n",
        "                next_value = self.get_value(next_state)\n",
        "                value += (self.get_policy(state)[action_idx] *\n",
        "                          (reward + self.gamma * next_value))\n",
        "\n",
        "            next_value_table[state[0]][state[1]] = value\n",
        "\n",
        "        self.value_table = next_value_table\n",
        "\n",
        "    def policy_improvement(self):\n",
        "      import copy\n",
        "      policy_stable = True  # 정책이 바뀌었는지 여부를 추적\n",
        "      next_policy = copy.deepcopy(self.policy_table)\n",
        "\n",
        "      for state in self.env.total_states:\n",
        "        if state == self.env.end_point:\n",
        "            continue\n",
        "\n",
        "        value_list = []\n",
        "\n",
        "        # 모든 행동에 대해 Q값 계산\n",
        "        for action_idx, action in enumerate(self.env.action_space):\n",
        "            next_state = self.env.state_after_action(state, action_idx)\n",
        "            reward = self.env.get_reward(state, action_idx)\n",
        "            next_value = self.get_value(next_state)\n",
        "            value = reward + self.gamma * next_value\n",
        "            value_list.append(value)\n",
        "\n",
        "        # 최대 Q값을 가지는 행동들 선택\n",
        "        max_idx_list = np.argwhere(value_list == np.amax(value_list)).flatten().tolist()\n",
        "        prob = 1 / len(max_idx_list)\n",
        "        new_policy = [prob if i in max_idx_list else 0.0 for i in range(self.num_action)]\n",
        "\n",
        "        # 이전 정책과 비교 → 다르면 아직 수렴 안 된 것\n",
        "        if new_policy != self.policy_table[state[0]][state[1]]:\n",
        "            policy_stable = False\n",
        "\n",
        "        # 정책 업데이트\n",
        "        next_policy[state[0]][state[1]] = new_policy\n",
        "\n",
        "      self.policy_table = next_policy\n",
        "      return policy_stable  # 꼭 반환해야 while 루프에서 수렴 여부 확인 가능\n"
      ],
      "metadata": {
        "id": "3cSmPtYxVqrl"
      },
      "execution_count": null,
      "outputs": []
    },
    {
      "cell_type": "markdown",
      "source": [
        "* 변수 변경\n",
        "* action은 숫자 인덱스 -> action_idx\n",
        "* 새 policy를 만드는 건 deepcopy\n",
        "\n",
        "\n",
        "```\n",
        "import copy\n",
        "next_policy = copy.deepcopy(self.policy_table)\n",
        "\n",
        "```\n",
        "\n"
      ],
      "metadata": {
        "id": "xcjyR39bx0Lb"
      }
    },
    {
      "cell_type": "markdown",
      "source": [
        "❗정책 수렴 안 함.....\n",
        "\n",
        "\n",
        "```\n",
        " # 가치 함수를 이용해 최적 정책을 찾음\n",
        "    def policy_improvement(self):\n",
        "        import copy\n",
        "        next_policy = copy.deepcopy(self.policy_table)\n",
        "\n",
        "        for state in self.env.total_states:\n",
        "            if state == self.env.end_point:\n",
        "                continue\n",
        "\n",
        "            value_list = []\n",
        "            # 반환할 정책 초기화\n",
        "            result = [0.0, 0.0, 0.0, 0.0]\n",
        "\n",
        "            # 모든 행동에 대해서 [보상 + (할인율 * 다음 상태 가치함수)] 계산\n",
        "            for action_idx, action in enumerate(self.env.action_space):\n",
        "                next_state = self.env.state_after_action(state, action_idx)\n",
        "                reward = self.env.get_reward(state, action_idx)\n",
        "                next_value = self.get_value(next_state)\n",
        "                value = reward + self.gamma * next_value\n",
        "                value_list.append(value)\n",
        "\n",
        "            # 받을 보상이 최대인 행동들에 대해 탐욕 정책 발전\n",
        "            max_idx_list = np.argwhere(value_list == np.amax(value_list))\n",
        "            max_idx_list = max_idx_list.flatten().tolist()\n",
        "            prob = 1 / len(max_idx_list)\n",
        "\n",
        "            for idx in max_idx_list:\n",
        "                result[idx] = prob\n",
        "\n",
        "            next_policy[state[0]][state[1]] = result\n",
        "\n",
        "        self.policy_table = next_policy\n",
        "```\n",
        "\n",
        "=> policy_improvement() 함수가 정책이 바뀌었는지 확인하고 True/False 반환하도록 수정"
      ],
      "metadata": {
        "id": "uCkV-DuN0DVb"
      }
    },
    {
      "cell_type": "markdown",
      "source": [
        "## 정책 이터레이션 실행\n",
        "정의한 클래스를 이용해 정책 이터레이션을 실행해 주세요."
      ],
      "metadata": {
        "id": "vHhUyl4PYSez"
      }
    },
    {
      "cell_type": "code",
      "source": [
        "# 환경 초기화\n",
        "start_point = (0, 0)\n",
        "end_point = (4, 4)\n",
        "grid_size = (5, 5)\n",
        "\n",
        "# Custom 환경 사용하거나 기본 환경 사용 가능\n",
        "env = GridWorldEnvironment(start_point, end_point, grid_size)\n",
        "\n",
        "#\n",
        "env.reward[4][4] = 1  # 목표 좌표 (4,4)에 보상 직접 설정\n",
        "\n",
        "# 에이전트 생성\n",
        "agent = PolicyIteration(env)\n",
        "\n",
        "# 정책 반복 수행\n",
        "iteration = 0\n",
        "while True:\n",
        "    print(f\"Iteration {iteration + 1}\")\n",
        "    agent.policy_evaluation()              # 정책 평가\n",
        "    policy_stable = agent.policy_improvement()  # 정책 개선\n",
        "\n",
        "    if policy_stable:\n",
        "        print(\"정책이 수렴했습니다.\")\n",
        "        break\n",
        "\n",
        "    iteration += 1\n"
      ],
      "metadata": {
        "colab": {
          "base_uri": "https://localhost:8080/"
        },
        "id": "wQ9Wazx51KfA",
        "outputId": "6b1243c7-6110-41fc-8836-78176356e027"
      },
      "execution_count": null,
      "outputs": [
        {
          "output_type": "stream",
          "name": "stdout",
          "text": [
            "Iteration 1\n",
            "Iteration 2\n",
            "Iteration 3\n",
            "Iteration 4\n",
            "Iteration 5\n",
            "Iteration 6\n",
            "Iteration 7\n",
            "Iteration 8\n",
            "정책이 수렴했습니다.\n"
          ]
        }
      ]
    },
    {
      "cell_type": "markdown",
      "source": [
        "## 학습에서 중요한 정보\n",
        "학습이 되고 있는 것을 판단할 수 있는 파라미터를 찾아 시각화해 주세요."
      ],
      "metadata": {
        "id": "j2FMBu8zX7Kg"
      }
    },
    {
      "cell_type": "markdown",
      "source": [
        "1. value_table 시각화 (Heatmap)"
      ],
      "metadata": {
        "id": "R3_6JTI22XW7"
      }
    },
    {
      "cell_type": "code",
      "source": [
        "import matplotlib.pyplot as plt\n",
        "import seaborn as sns\n",
        "import numpy as np\n",
        "\n",
        "def plot_value_table(value_table):\n",
        "    plt.figure(figsize=(6, 5))\n",
        "    sns.heatmap(np.array(value_table), annot=True, fmt=\".2f\", cmap=\"YlGnBu\")\n",
        "    plt.title(\"상태 가치 함수 (Value Table)\")\n",
        "    plt.xlabel(\"X\")\n",
        "    plt.ylabel(\"Y\")\n",
        "    plt.gca().invert_yaxis()\n",
        "    plt.show()\n",
        "\n",
        "# 호출\n",
        "plot_value_table(agent.value_table)"
      ],
      "metadata": {
        "colab": {
          "base_uri": "https://localhost:8080/",
          "height": 727
        },
        "id": "rVJ2b_NE4r85",
        "outputId": "fd8ef6f4-b6e6-46b0-8ebc-0d6c1e824716"
      },
      "execution_count": null,
      "outputs": [
        {
          "output_type": "stream",
          "name": "stderr",
          "text": [
            "/usr/local/lib/python3.11/dist-packages/IPython/core/pylabtools.py:151: UserWarning: Glyph 49345 (\\N{HANGUL SYLLABLE SANG}) missing from font(s) DejaVu Sans.\n",
            "  fig.canvas.print_figure(bytes_io, **kw)\n",
            "/usr/local/lib/python3.11/dist-packages/IPython/core/pylabtools.py:151: UserWarning: Glyph 53468 (\\N{HANGUL SYLLABLE TAE}) missing from font(s) DejaVu Sans.\n",
            "  fig.canvas.print_figure(bytes_io, **kw)\n",
            "/usr/local/lib/python3.11/dist-packages/IPython/core/pylabtools.py:151: UserWarning: Glyph 44032 (\\N{HANGUL SYLLABLE GA}) missing from font(s) DejaVu Sans.\n",
            "  fig.canvas.print_figure(bytes_io, **kw)\n",
            "/usr/local/lib/python3.11/dist-packages/IPython/core/pylabtools.py:151: UserWarning: Glyph 52824 (\\N{HANGUL SYLLABLE CI}) missing from font(s) DejaVu Sans.\n",
            "  fig.canvas.print_figure(bytes_io, **kw)\n",
            "/usr/local/lib/python3.11/dist-packages/IPython/core/pylabtools.py:151: UserWarning: Glyph 54632 (\\N{HANGUL SYLLABLE HAM}) missing from font(s) DejaVu Sans.\n",
            "  fig.canvas.print_figure(bytes_io, **kw)\n",
            "/usr/local/lib/python3.11/dist-packages/IPython/core/pylabtools.py:151: UserWarning: Glyph 49688 (\\N{HANGUL SYLLABLE SU}) missing from font(s) DejaVu Sans.\n",
            "  fig.canvas.print_figure(bytes_io, **kw)\n"
          ]
        },
        {
          "output_type": "display_data",
          "data": {
            "text/plain": [
              "<Figure size 600x500 with 2 Axes>"
            ],
            "image/png": "[encoded data removed]"
          },
          "metadata": {}
        }
      ]
    },
    {
      "cell_type": "markdown",
      "source": [
        "❗ (0,0)을 좌측 상단으로 보내고 싶었는데 실패....."
      ],
      "metadata": {
        "id": "ol-CLhC5Revq"
      }
    },
    {
      "cell_type": "markdown",
      "source": [
        "2. policy_table 시각화 (방향 화살표)"
      ],
      "metadata": {
        "id": "S3CroqY22mcZ"
      }
    },
    {
      "cell_type": "code",
      "source": [
        "def plot_policy_only(agent):\n",
        "    height = agent.env.height\n",
        "    width = agent.env.width\n",
        "\n",
        "    fig, ax = plt.subplots(figsize=(6, 5))\n",
        "    ax.set_xlim(-0.5, width - 0.5)\n",
        "    ax.set_ylim(-0.5, height - 0.5)\n",
        "    ax.set_xticks(np.arange(width))\n",
        "    ax.set_yticks(np.arange(height))\n",
        "    ax.set_xticklabels(np.arange(width))\n",
        "    ax.set_yticklabels(np.arange(height))\n",
        "    ax.set_title(\"정책 시각화 (방향 화살표만)\")\n",
        "\n",
        "    arrow_dict = {\n",
        "        0: '↑',\n",
        "        1: '↓',\n",
        "        2: '←',\n",
        "        3: '→'\n",
        "    }\n",
        "\n",
        "    for i in range(height):\n",
        "        for j in range(width):\n",
        "            state = (i, j)\n",
        "            if state == agent.env.end_point:\n",
        "                ax.text(j, i, \"G\", ha='center', va='center', fontsize=14, fontweight='bold', color='red')\n",
        "                continue\n",
        "\n",
        "            try:\n",
        "                # PolicyIteration이면 get_policy 사용\n",
        "                policy = agent.get_policy(state)\n",
        "                if policy:\n",
        "                    best_action = np.argmax(policy)\n",
        "                else:\n",
        "                    continue\n",
        "            except AttributeError:\n",
        "                # ValueIteration이면 get_action 사용\n",
        "                 action_list = agent.get_action(state)\n",
        "\n",
        "             # 여러 방향이 있을 경우 화살표 문자열로 합쳐서 출력\n",
        "            arrows = ''.join([arrow_dict[a] for a in action_list])\n",
        "            ax.text(j, i, arrows, ha='center', va='center', color='black', fontsize=14)\n",
        "\n",
        "    ax.invert_yaxis()\n",
        "    plt.show()\n",
        "\n",
        "plot_policy_only(agent)\n"
      ],
      "metadata": {
        "colab": {
          "base_uri": "https://localhost:8080/",
          "height": 855
        },
        "id": "L4nd9lkeSwjS",
        "outputId": "977052ac-9472-47d5-8a3a-462ca6a8ffe0"
      },
      "execution_count": null,
      "outputs": [
        {
          "output_type": "stream",
          "name": "stderr",
          "text": [
            "/usr/local/lib/python3.11/dist-packages/IPython/core/pylabtools.py:151: UserWarning: Glyph 51221 (\\N{HANGUL SYLLABLE JEONG}) missing from font(s) DejaVu Sans.\n",
            "  fig.canvas.print_figure(bytes_io, **kw)\n",
            "/usr/local/lib/python3.11/dist-packages/IPython/core/pylabtools.py:151: UserWarning: Glyph 52293 (\\N{HANGUL SYLLABLE CAEG}) missing from font(s) DejaVu Sans.\n",
            "  fig.canvas.print_figure(bytes_io, **kw)\n",
            "/usr/local/lib/python3.11/dist-packages/IPython/core/pylabtools.py:151: UserWarning: Glyph 49884 (\\N{HANGUL SYLLABLE SI}) missing from font(s) DejaVu Sans.\n",
            "  fig.canvas.print_figure(bytes_io, **kw)\n",
            "/usr/local/lib/python3.11/dist-packages/IPython/core/pylabtools.py:151: UserWarning: Glyph 44033 (\\N{HANGUL SYLLABLE GAG}) missing from font(s) DejaVu Sans.\n",
            "  fig.canvas.print_figure(bytes_io, **kw)\n",
            "/usr/local/lib/python3.11/dist-packages/IPython/core/pylabtools.py:151: UserWarning: Glyph 54868 (\\N{HANGUL SYLLABLE HWA}) missing from font(s) DejaVu Sans.\n",
            "  fig.canvas.print_figure(bytes_io, **kw)\n",
            "/usr/local/lib/python3.11/dist-packages/IPython/core/pylabtools.py:151: UserWarning: Glyph 48169 (\\N{HANGUL SYLLABLE BANG}) missing from font(s) DejaVu Sans.\n",
            "  fig.canvas.print_figure(bytes_io, **kw)\n",
            "/usr/local/lib/python3.11/dist-packages/IPython/core/pylabtools.py:151: UserWarning: Glyph 54693 (\\N{HANGUL SYLLABLE HYANG}) missing from font(s) DejaVu Sans.\n",
            "  fig.canvas.print_figure(bytes_io, **kw)\n",
            "/usr/local/lib/python3.11/dist-packages/IPython/core/pylabtools.py:151: UserWarning: Glyph 49332 (\\N{HANGUL SYLLABLE SAL}) missing from font(s) DejaVu Sans.\n",
            "  fig.canvas.print_figure(bytes_io, **kw)\n",
            "/usr/local/lib/python3.11/dist-packages/IPython/core/pylabtools.py:151: UserWarning: Glyph 54364 (\\N{HANGUL SYLLABLE PYO}) missing from font(s) DejaVu Sans.\n",
            "  fig.canvas.print_figure(bytes_io, **kw)\n",
            "/usr/local/lib/python3.11/dist-packages/IPython/core/pylabtools.py:151: UserWarning: Glyph 47564 (\\N{HANGUL SYLLABLE MAN}) missing from font(s) DejaVu Sans.\n",
            "  fig.canvas.print_figure(bytes_io, **kw)\n"
          ]
        },
        {
          "output_type": "display_data",
          "data": {
            "text/plain": [
              "<Figure size 600x500 with 1 Axes>"
            ],
            "image/png": "[encoded data removed]"
          },
          "metadata": {}
        }
      ]
    },
    {
      "cell_type": "markdown",
      "source": [
        "# 02. 가치 이터레이션\n",
        "가치 이터레이션은 정책 없이 직접 가치 함수를 최적화하는 방법입니다.\n",
        "- 스켈레톤 코드  \n",
        "`init` 부를 제외한 나머지 매소드를 채워주세요.\n",
        "1. value_iteration : 벨만 최적 방정식을 이용해 가치 함수를 반복적으로 업데이트\n",
        "2. get_value : 현재 상태의 가치를 반환\n",
        "3. get_action : 현재 가치 함수 기준으로 최적 행동 선택"
      ],
      "metadata": {
        "id": "8tutibdyYwAW"
      }
    },
    {
      "cell_type": "code",
      "source": [
        "class ValueIteration:\n",
        "    def __init__(self, env):\n",
        "\n",
        "        self.env = env\n",
        "        self.action_space = env.action_space\n",
        "        self.num_actions = env.num_actions\n",
        "\n",
        "        # value 2d list\n",
        "        self.value_table = np.zeros(shape=(env.height, env.width)).tolist()\n",
        "\n",
        "        self.gamma = 0.9 # 할인율\n",
        "\n",
        "    def value_iteration(self, threshold=1e-4):\n",
        "        while True:\n",
        "          delta = 0\n",
        "          next_value_table = [[0.0 for _ in range(self.env.width)] for _ in range(self.env.height)]\n",
        "\n",
        "          for state in self.env.total_states:\n",
        "              if state == self.env.end_point:\n",
        "                continue\n",
        "\n",
        "              value_list = []\n",
        "              for action_idx in range(self.num_actions):\n",
        "                next_state = self.env.state_after_action(state, action_idx)\n",
        "                reward = self.env.get_reward(state, action_idx)\n",
        "                next_value = self.get_value(next_state)\n",
        "                value_list.append(reward + self.gamma * next_value)\n",
        "\n",
        "              max_value = max(value_list)\n",
        "              delta = max(delta, abs(self.get_value(state) - max_value))\n",
        "              next_value_table[state[0]][state[1]] = max_value\n",
        "\n",
        "          self.value_table = next_value_table\n",
        "\n",
        "          if delta < threshold:\n",
        "            break\n",
        "\n",
        "\n",
        "    def get_action(self, state):\n",
        "        if state == self.env.end_point:\n",
        "            return []\n",
        "\n",
        "        # 모든 행동에 대해 큐함수 (보상 + (감가율 * 다음 상태 가치함수))를 계산\n",
        "        value_list = []\n",
        "        for action_idx in range(self.env.num_actions):\n",
        "            next_state = self.env.state_after_action(state, action_idx)\n",
        "            reward = self.env.get_reward(state, action_idx)\n",
        "            next_value = self.get_value(next_state)\n",
        "            value = (reward + self.gamma * next_value)\n",
        "            value_list.append(value)\n",
        "\n",
        "        # 최대 큐 함수를 가진 행동(복수일 경우 여러 개)을 반환\n",
        "        max_idx_list = np.argwhere(value_list == np.amax(value_list))\n",
        "        action_list = max_idx_list.flatten().tolist()\n",
        "        return action_list\n",
        "\n",
        "    def get_value(self, state):\n",
        "        return self.value_table[state[0]][state[1]]\n"
      ],
      "metadata": {
        "id": "-rnooRxnYwAW"
      },
      "execution_count": null,
      "outputs": []
    },
    {
      "cell_type": "markdown",
      "source": [
        "* 변수 변경\n",
        "* action은 숫자 인덱스 -> action_idx\n",
        "* 수렴 조건 없음 → 반복 루프\n",
        "\n",
        "\n",
        "```\n",
        "def value_iteration(self):\n",
        "          # 다음 가치함수 초기화\n",
        "        next_value_table = [[0.0] * self.env.width\n",
        "                           for _ in range(self.env.height)]\n",
        "\n",
        "        # 모든 상태에 대해서 벨만 최적방정식을 계산\n",
        "        for state in self.env.total_states:\n",
        "            # 마침 상태의 가치 함수 = 0\n",
        "            if state == self.env.end_point:\n",
        "                next_value_table[state[0]][state[1]] = 0.0\n",
        "                continue\n",
        "\n",
        "            # 벨만 최적 방정식\n",
        "            value_list = []\n",
        "            for action_idx in range(self.num_actions):\n",
        "                next_state = self.env.state_after_action(state, action_idx)\n",
        "                reward = self.env.get_reward(state, action_idx)\n",
        "                next_value = self.get_value(next_state)\n",
        "                value_list.append((reward + self.gamma * next_value))\n",
        "\n",
        "            # 최댓값을 다음 가치 함수로 대입\n",
        "            next_value_table[state[0]][state[1]] = max(value_list)\n",
        "\n",
        "        self.value_table = next_value_table\n",
        "```\n",
        "\n"
      ],
      "metadata": {
        "id": "h2mUf8Au63kL"
      }
    },
    {
      "cell_type": "markdown",
      "source": [
        "## 가치 이터레이션 실행\n",
        "정의한 클래스를 이용해 정책 이터레이션을 실행해 주세요."
      ],
      "metadata": {
        "id": "d073zNNfYwAW"
      }
    },
    {
      "cell_type": "code",
      "source": [
        "# 환경 생성\n",
        "start_point = (0, 0)\n",
        "end_point = (4, 4)\n",
        "grid_size = (5, 5)\n",
        "\n",
        "env = GridWorldEnvironment(start_point, end_point, grid_size)\n",
        "agent = ValueIteration(env)\n",
        "\n",
        "# 가치 이터레이션 실행 (수렴할 때까지)\n",
        "agent.value_iteration()\n",
        "\n",
        "# 최종 가치 테이블 출력\n",
        "for row in agent.value_table:\n",
        "    print([\"{0:0.2f}\".format(v) for v in row])\n"
      ],
      "metadata": {
        "id": "Dm3W3XEKYwAW",
        "colab": {
          "base_uri": "https://localhost:8080/"
        },
        "outputId": "f3ba0fdb-9818-4584-c8db-4b1434ad0ccc"
      },
      "execution_count": null,
      "outputs": [
        {
          "output_type": "stream",
          "name": "stdout",
          "text": [
            "['0.48', '0.53', '0.59', '0.66', '0.73']\n",
            "['0.53', '0.59', '0.66', '0.73', '0.81']\n",
            "['0.59', '0.66', '0.73', '0.81', '0.90']\n",
            "['0.66', '0.73', '0.81', '0.90', '1.00']\n",
            "['0.73', '0.81', '0.90', '1.00', '0.00']\n"
          ]
        }
      ]
    },
    {
      "cell_type": "markdown",
      "source": [
        "## 학습에서 중요한 정보\n",
        "학습이 되고 있는 것을 판단할 수 있는 파라미터/요소를 찾아 시각화해 주세요."
      ],
      "metadata": {
        "id": "sR6OuQVAYwAW"
      }
    },
    {
      "cell_type": "markdown",
      "source": [
        "1. value_table 시각화 (Heatmap)"
      ],
      "metadata": {
        "id": "gxSupcOlVxBu"
      }
    },
    {
      "cell_type": "code",
      "source": [
        "import matplotlib.pyplot as plt\n",
        "import seaborn as sns\n",
        "import numpy as np\n",
        "\n",
        "def plot_value_table(value_table):\n",
        "    value_array = np.array(value_table)\n",
        "    flipped = np.flipud(value_array)\n",
        "    height = value_array.shape[0]\n",
        "\n",
        "    plt.figure(figsize=(6, 5))\n",
        "    sns.heatmap(\n",
        "        flipped,\n",
        "        annot=True,\n",
        "        fmt=\".2f\",\n",
        "        cmap=\"YlGnBu\",\n",
        "        cbar=True\n",
        "    )\n",
        "    plt.title(\"상태 가치 함수 (Value Iteration 기반)\")\n",
        "    plt.xlabel(\"X\")\n",
        "    plt.ylabel(\"Y\")\n",
        "\n",
        "    plt.yticks(\n",
        "        ticks=np.arange(height) + 0.5,\n",
        "        labels=list(reversed(range(height)))\n",
        "    )\n",
        "\n",
        "    plt.show()\n",
        "\n",
        "\n",
        "plot_value_table(agent.value_table)\n"
      ],
      "metadata": {
        "id": "aWa6ZpsCYwAX",
        "colab": {
          "base_uri": "https://localhost:8080/",
          "height": 801
        },
        "outputId": "a8ffa3bb-f6e7-458f-ec4e-80701b246201"
      },
      "execution_count": null,
      "outputs": [
        {
          "output_type": "stream",
          "name": "stderr",
          "text": [
            "/usr/local/lib/python3.11/dist-packages/IPython/core/pylabtools.py:151: UserWarning: Glyph 49345 (\\N{HANGUL SYLLABLE SANG}) missing from font(s) DejaVu Sans.\n",
            "  fig.canvas.print_figure(bytes_io, **kw)\n",
            "/usr/local/lib/python3.11/dist-packages/IPython/core/pylabtools.py:151: UserWarning: Glyph 53468 (\\N{HANGUL SYLLABLE TAE}) missing from font(s) DejaVu Sans.\n",
            "  fig.canvas.print_figure(bytes_io, **kw)\n",
            "/usr/local/lib/python3.11/dist-packages/IPython/core/pylabtools.py:151: UserWarning: Glyph 44032 (\\N{HANGUL SYLLABLE GA}) missing from font(s) DejaVu Sans.\n",
            "  fig.canvas.print_figure(bytes_io, **kw)\n",
            "/usr/local/lib/python3.11/dist-packages/IPython/core/pylabtools.py:151: UserWarning: Glyph 52824 (\\N{HANGUL SYLLABLE CI}) missing from font(s) DejaVu Sans.\n",
            "  fig.canvas.print_figure(bytes_io, **kw)\n",
            "/usr/local/lib/python3.11/dist-packages/IPython/core/pylabtools.py:151: UserWarning: Glyph 54632 (\\N{HANGUL SYLLABLE HAM}) missing from font(s) DejaVu Sans.\n",
            "  fig.canvas.print_figure(bytes_io, **kw)\n",
            "/usr/local/lib/python3.11/dist-packages/IPython/core/pylabtools.py:151: UserWarning: Glyph 49688 (\\N{HANGUL SYLLABLE SU}) missing from font(s) DejaVu Sans.\n",
            "  fig.canvas.print_figure(bytes_io, **kw)\n",
            "/usr/local/lib/python3.11/dist-packages/IPython/core/pylabtools.py:151: UserWarning: Glyph 44592 (\\N{HANGUL SYLLABLE GI}) missing from font(s) DejaVu Sans.\n",
            "  fig.canvas.print_figure(bytes_io, **kw)\n",
            "/usr/local/lib/python3.11/dist-packages/IPython/core/pylabtools.py:151: UserWarning: Glyph 48152 (\\N{HANGUL SYLLABLE BAN}) missing from font(s) DejaVu Sans.\n",
            "  fig.canvas.print_figure(bytes_io, **kw)\n"
          ]
        },
        {
          "output_type": "display_data",
          "data": {
            "text/plain": [
              "<Figure size 600x500 with 2 Axes>"
            ],
            "image/png": "[encoded data removed]"
          },
          "metadata": {}
        }
      ]
    },
    {
      "cell_type": "markdown",
      "source": [
        "![image.png](data:image/png;base64,iVBORw0KGgoAAAANSUhEUgAAAwIAAAEECAYAAACbeoOMAAAAAXNSR0IArs4c6QAAAARnQU1BAACxjwv8YQUAAAAJcEhZcwAADsMAAA7DAcdvqGQAAELpSURBVHhe7d1/dFT1nT/+Z/hRCGMmUAVmlFGKMA0BZUAbWwn5SrYUE4+FCjQMba1LG6YpctaQbnH5qNmIXwpHYtwNLsS4yOpCmiI2dGvGfKJJTxK1xoUMCjgGRDTBmYg1MDBJFGE+f5B7O/c9c+dXJr+4z8c579Ny7/ve3Il5v+/79f41CT6fzwciIiIiItKUEeIBIiIiIiK6+jEQICIiIiLSIAYCREREREQaxECAiIiIiEiDGAgQEREREWkQAwEiIiIiIg1iIEBEREREpEEMBIiIiIiINIiBABERERGRBkUdCFzGZTi9n+C9Cx/2KX3Q1YbL6J8vNXa73UhNTYVer0dqaircbreYBQDgcDgwefJk6PV6ZGdnw+v1iln6zG63Q6/XQ6/Xo6SkRDzdZwPxGYYT/9+HzWYTTxMRERFRr6gCgZdc/xe/frcQW45vR/GJsj6l37WW4sH3CvHnzxrEH6M5NptNDhYiSX0NKHw+H5xOJ37729/CYrFg/Pjx8r3Hjx8Pi8WC3/72t3A6nfD5+idYC8W/MR8uXS2N/e7ublRUVOB73/ue/N9j/PjxWLhwIQ4cOIBLly6JlygC3r4GgdLfoP99pGOpqak4fPiw/LOk37nX60V2dvZV9d+BiIhISyIOBBo6D+HPHa+h5/KX4qmYdV3qwUuf/hkHPU7x1JDk8/nwxhtv4Ac/+IHcWLv55pvx2GOP4fz582L2IemTTz7BokWLkJaWhp07d+LkyZO4fPmyfP7y5cs4efIkdu7cibS0NCxatAiffPKJ4h5DSUpKingoYtEGYP7JbreLt4vZ6dOncffdd8Nms+Ho0aPyf4/Lly/j4MGD+NnPfoZly5ahs7NTvJSIiIgoZpEHAp//VTwUN3/5/C3xUMSC9R6bzWa0t7cDANrb22E2mxXnJ0+eDIfDId4qJJ/Ph+3btyMrKwt//etf5cbamTNn8PTTT+P73/8+2traxMuGlNOnT+O+++5Dc3OzeEpVc3Mz7rvvPpw+fVo8NehGjRqFv/zlL4r/thkZGeju7hazDlnd3d3Iz89HS0uLeEqhrq4OGzduxMWLF8VTcdXU1ASj0Qi9Xo+KigrxNACgoqICer0eRqMRTU1N4mkiIiIaJiIOBDwXL4iH4ubcVx7x0JBjt9vx6KOPiodl77//Ph588MGYpmeUlZXB4/HIqbW1FVOmTAEATJkyBa2trYrz+fn54i0iUlNTg9bWVgBAUlIStm3bhvfffx+dnZ3yvTs7O/H+++9j27ZtSEpKAgC0traipqZGuFvkpJ53KQA7ffo0UlJSoNfr8Ytf/CJg+pHFYkFHR4fiM0vJ4XDAYDDI+SwWi+LawRZsjcK2bdvkz3/o0KGA/K+99hoAIDk5Gc8//zw+++wzeDwetLe3o7CwECNGXCmmL7/8Mo4ePaq4noiIiChWEQcCWubxeLBt2zZ5FCA7O1tuQO/ZsweJiYkAgPr6+rhMGTlz5gzOnj0LALh48SJ6enrkc/6Lj6PtAX/77bfl/19aWoo1a9bghhtuwMiRI+XjI0eOxA033IA1a9agtLRUPu5/bbSk6Tv63nnvI0eOlBu3o0aNQkJCgnBFcBcvXsTTTz8tL/622WwYP368mC1iYgAWLlmtVvEWAQwGA6699loAwA033AD0/k4l0ueWHDx4EF9//TUA4J/+6Z+wbNkyjB07Fuj9fa1fvx6//OUvgd7RA5fLpbieiIiIKFYDHgiMGT0eN+hin9ctCtZ7HK5HvaOjI6qe5KNHj8pTicxmM/793/9dbkDfe++92Lx5s5z3wIEDcsMuVm+99RYuXLgyAtPR0dGnRrg///n0GzZswJ49e+B2uxULUS9dugS32409e/Zgw4YN8vG+zMWXjB49GmPHjsXo0aNxzTXXAL2N3UhcvHgR27Ztw+7duwEAd999N374wx8iPz9f8d+2oaFBDswGmzSikpycDAAYO3bskHk2Nenp6XC5XCEDH6vVCo/HA5fLhfT0dPE0ERERDRMDGghcmzgVW29ai43X52Bi4rfE00OWf6/tsmXLMGnSJMX5rKwsmEwmAMDhw4fxxRdfKM5H45NPPsH27dsVx7Zs2RKX9QfLly/HzTffDPQGGHl5eTCbzZgwYYI8wjBhwgSYzWbk5eWho6MDAHDzzTdj+fLlwt0iJ/3MUaNGYcSIERg7diyuu+46AMD1118v5A50/vx5PPjgg/jd734H9N6vuLi4z43qaBcLq82Z93fNNdfIfwujR48GABiNRgCATqeTgwLJrFmz5BGRJ598EhUVFfIIkMfjwVNPPYXnnnsOAJCYmCjfi4iIiKivBiwQmJj4LfyfG1ZhdMIoXMZleC/145qDc+dimquvxun8+65Gt99+u+IcAHzzm9/EzJkzAQCff/653ICOVmdnJ37961/j1KlTQG/DGQA+/PBD3HPPPfjggw+QlZUVcw+4yWTCvn37MG/ePPGUqnnz5mHfvn1y4zYWUoN4ypQp0Ol0SEhIkD+bdC6YS5cu4eWXX8a8efPkRnhycjKee+45mEymoAvFo5kq1R8SEhLkqUD+AZD0v+LUoO9+97tYvHgx0Dv1x2azYdKkSdDr9ZgyZQqKiorkKWn33XcfZs2apbg+3rhYmIiISDsGJBC4LnEqHrnhJxiTMBpf+y7hidN70fXVGTFb3Hz44YfyVotutxsfffSRmCWAfwNIL2wPKe3UkpiYiIkTJ/pddcXYsWPleeGXLl0Kuud7OCdOnMC9996LhoYr36tgNpvR1NSEu+66CwBw6tQp3HnnndiyZUufRhymT5+O119/HbW1tVi1apU8hUoyYsQI3HjjjVi1ahVqa2vx+uuvY/r06Yo80ZKCl+rqauh0OowbNw5/+tOf4PF48OCDD4rZ0dXVhT179mDevHl44IEH5MBqypQpeOWVV3DbbbeJlwwZOp0O1dXV8Hg8yMrKAgAsWrQIHo8H7777bsBoUmJiIkpKSjB37lzFcVFmZiY2b94cMnAiIiIiika/BwKTx92MR2/4KUYljMRXvq+x6fR/o6PrQzFb3Hz99dd46aWXFP/ev39/wM40Q8UXX3yBRx55BHfccQfeffddAMDMmTPxhz/8AampqdixY4fcSLx48SI2b96MGTNm9GndwMiRI3HHHXdg586dOHbsmGKE4ezZszhy5Ah27tyJO+64Q7HQdSDU19fDZDIhLy9PEcDdddddqK+vx6233qrIHy+VlZWK30O4JDXy4+GGG27Aq6++irKyMsyaNUseNRgxYgRuu+02vPjii9i/fz8mTJggXkpEREQUs5gCgW+M0mP55GX47jfvCnmL63VmPHLDKoxKGIkvfRexqf2/8Xn3lWkv/aW5uRl/+tOfFMd2796Nt96K/bsKpF7Y7u5unDkTOJLR1dUl7+YycuTIqBrP7e3tePnll+VRh7vuugt/+tOfMG3aNKC3kVhVVYUf/vCH8jW//OUvkZaWJv87lJKSkoC57n1Nff1m41DuuusuxTatSUlJ2LVrF/74xz9i8uTJirzBFopHM1VqKElMTITVasVbb72Fs2fPykFZfX09lixZEvRvymAwyIGcNNoSq1A7KB07dgxz5swJCBr9U1lZmXhLIiIiGuLUW/EhTBtnxkL9bPzs2v8Pyyb/CEDg9o/X676Nf7k+ByMwAt2Xv8Sm9hfxRc/HYra48ng82LJlC7766iuMGDECP/vZz5CQkICvvvoKa9euDbng1n+3FI/Q4+u/Y06wgOLMmTPy/vzXXXddQIM1lFtvvRW///3vMWfOHNUG74QJE/Bf//Vf2LVrF77//e9jw4YNEW+5OdwkJCRg7dq1WLNmDWw2G5xOJ5YvXx60IRxPOTk5AQFPqJSdnR3XdSgA4PV6kZ2dHfCzIkmxPI/b7UZqamrAvfqSUlNT5e1diYiIaGiLKRA4fuEIjnRfaVRn6mfjPoMyGJiimykHAd7LPdh0+gV09qg3wuPh4sWLeOSRR/CXv/wFAHD//ffjySefxKpVq4DedQM//elPY/qG3Ntuu01e8PnSSy/hk08+UZx/+eWX8emnnwIA5syZg29+85uK8+HceuutaGxsDNngHTlyJJYvX46XX35ZcX//XvG+9goPFaNHj8a2bdvw5JNPyltwEhEREVF8xRQIXLrcg7JP/xvHetoBAP+QdAuWTF4CIAEm3UxsuH45RiABnktdKGrbjXM9VxrJ/aW7uxv//M//LO8xbzabsWHDBowbNw4bN26Ud29paWlBeno6XnvttagW9M6aNUv+3oFTp05hzZo1+Pjjj3Hp0iW8+OKLeOKJJ+S8S5YskYOGWMS7V1jcZz8eKdZvNu6rrq4u/PGPf8SPfvQj3HjjjYrPfuONNyIzMxPvvvsuTpw4AQ+nqxARERGFFFMgAACXL3+FHe0voKXrypz/H+jn4Bc3/AwPX/9jjMAInL3kxRPt/wXvV7FtpRmp06dPIycnB7t27QJ6d5bZtWuX/K2uJpMJ+/fvl4OBv/3tb7jvvvvw/PPPK+4Til6vx29+8xt5Eeebb76JW265BRMmTMDatWvl+f0LFy6M6yLSePNfL9Cf8/z7Q21tLWbMmIGf//zneP311+VvXpacPXsW//u//4sHH3wQU6dORUVFRdgF4mrz4v2/SEttEXF/jL747zgUSfL/4rxY+K8xUEvhvpxPTMeOHYPBYBB/FBEREQ1BMQcCAHDZdxH/+ekeHOq6srvLvHFXviSs82svnmjfBe9XnwlXxJfP50NzczPeeOMNAMC1116LPXv2BOwsM23aNOzfv1/e63/hwoWq35qqJisrC5s2bRIPy2bOnInt27fHvXFIV3YSWrFiBc6fPy+eCurixYvIy8sLWDQ+1EU7GmQ2m9HefmVUrq/8fzbn+RMREWlDnwIBAPD5vsYuv2Dgi68v4P8/vQvdX8W+132kEhIS8KMf/Qh79+5Feno6amtrVfdjnzZtGl599VX8/Oc/x2OPPRZ1gz0hIQEPPvgg6urqMH/+fHl0YOLEiXjooYfw2muv9elLt4KJpAd2uO6SE6mvv/4au3btkr9Ua968eXj11VfR1tam+D24XC7U1tYiOzsbAHD58mX827/9Gzwej+J+kXybsP8XaUWyiNj/OyeIiIiIhos+BwIA4PNdwn+efhHb3C/jXz/+jwEJAvwtXrwY1dXVYb/4asKECSgtLY35C6kSEhJw++23w263y1s8fvjhh3j88ce5qLWffPnll/jb3/4G9G6x+fTTT+POO+9EcnKyIp9Op8Mdd9yBp59+Wp7K4na70dXVpchHRERERFfEJRC4woePzr+HS5e7xRNEMRszZoz8rc3d3d3y6Mu5c+cU+bxeL95++2089NBD8nQZg8GAcePGKfINF4mJiWhoaAgYAVJL/bFmAcI6As7/JyIiurrEMRCgeGtvb4fZbA6YiuKfMjIy0N0dffBVWFgYcK9QyWazibcYEKNGjcLq1avlqViHDh3CfffdB5PJpHg+o9GIRYsWobq6Wr42Ly8Per3e727qC4T7kvpjgXh3dzcyMjIC/juESvGaohTJ352YhtvicyIiIooiEEgcOVY8FDeJo/rv3jT8LVy4EPv27Yt4+tXo0aNRVlaG5cuXi6eIiIiIqFfEgcCtyVd23OkPc5JTxUNECosWLcLx48dRXl6Ou+66C+PHj1ecHz9+PG6//XZs374dp06dgtVqvWq/fZmIiIgoHhJ84TZb73XR9zWe/LAcrReu7A4UL7foU/DQtAcwMvKYhIiIiIiI+ijiQEByovs0ui/1iIdjMm5kIm5OvF48TERERERE/SzqQICIiIiIiIY/zschIiIiItIgBgJERERERBrEQICIiIiISIMYCBARERERaRADASIiIiIiDWIgQERERESkQQwEiIiIiIg0iIEAEREREZEGMRAgIiIiItIgBgJERERERBrEQICIiIiISIMYCBARERERaRADASIiIiIiDWIgQERERESkQQwEiIiIiIg0iIEAEREREZEGMRAgIiIiItIgBgJERERERBrEQICIiIiISIMYCBARERERaRADASIiIiIiDUrw+Xw+8aCovb0dn3/+ObxeLyLITkREREREKhISEqDT6XDddddhypQp4ukBEzIQ6OnpgdPpBADo9XqMGTMGCQkJYjYi6mcnT57EtGnTxMNEREGxziAa2i5fvoyLFy+is7MTI0aMQEpKCsaOHStm63chpwY5nU6MGTMGkyZNwtixYxkEEBERERH10YgRIzBmzBgYDAaMHDlS7ngfaKqBQHt7OwAgOTlZPEVERERERHFw7bXX4tKlS3LbeyCpBgKff/459Hq9eJiIiIiIiOIoOTkZn3/+uXi436kGAl6vF2PGjBEPExERERFRHH3jG9+A1+sVD/c71UDA5/NxTQARERERUT8bNWrUoOzMqRoIEBERERHR1YuBABERERGRBjEQICIiIiLSIAYCREREREQa1G+BQH19PVJSUlBfX684vmHDBixcuBBnzpxRHCeiwVFeXg6LxYKjR48qjnd1deH+++/H/fffj66uLgDA0aNHYbFYsGHDBtUyHq1gPydS0dQnZ86cwcKFC7FhwwbVzxzKQD0n0VAWSTlQqxvUjsci1jIVTdn3/6x//vOfY3r2gXhOor7ot0AgWlKBS0lJUU2hKh4iUgpXpqJ9ofWFFEBE87M3bNgQ8MwpKSkhX6rBPnOo/KJYnlMiXVteXi6eIho2pIBZLHcpKSkD+rctPkckP7u8vDzgmVNSUsI2qMW6Jlx+f7E8p8S/c4JosMQ1EPAvhHl5eQCAvLy8qAqI0WhEY2MjnE6nnBobG2E0GsWsRBTCuHHj8MILLyjK0JIlS+RytXDhQvESwK9BO2/ePDQ3N6O5uRnz5s2DxWLBe++9J2YP6+jRo/jJT36CxYsXw+l0YseOHcjLy4uokR2sPqivr8fEiRPFrIDwmZ1OJ5YsWSJmUdWX5wxG6v1MSUnBgQMHxNNEQ9LEiRNRX1+vKHNLlizB2LFjceedd4rZZf5/78He/9GUozNnzuDHP/4xTCYTDh06hP379+OZZ56JqA0xduxY7N+/X/H8DocDs2bNErPKtm7dKuctKCgQT6vqy3MG498RUVxcLJ4m6hdxDQRyc3MVhU9Mubm54iVENACOHDkCl8sFl8uFrq4uRS+W+MKZNWsWHA4HDh06hLS0NKSlpeHQoUNwOBy45ZZbAAAHDhyQX/bhvPnmmwCA+++/HwBwxx13IC0tDc8///yQGuHr63N+9tln6Onpkf+9cOFCRUOKaDjq6uqCy+XChAkTMGnSJPG0zP/vfceOHQCAHTt2yMfUOh6Ckeqrf/zHf8S4ceMwa9YsLF68GHv37o14dG8g9PU5P/vsM3R2dsr/lureaAMSor6IayCACIfmXS4XFixYEHDc/5z/9QsWLIDL5VLkI6LIHD16FPn5+QCA5uZmvP3224peP7UXzkcffYR3330XbW1tAd92uGTJEvllH0pXVxcaGxtx66234lvf+hbQ22tvNBqD3new9PU5u7q68PzzzwMAGhsb0dXVxREBuiq8/fbbaG5uRlpamupIXLy9+uqrMBqNmD17tnxs+vTp6OzsxGeffabIO5j6+pwvvPACenp60NzcjDNnznBEgAZFXAOBrq4u/OpXv0JbW5s8nH/o0CGYTCb8+Mc/lhv90nC//xC/OKQfrEfhhRdewLhx4xQ/k4jUlZeXY9myZejp6UFBQQGWLFkS8XSXF154Qf7/VVVVinN9FenLUuwYuP/++/Hxxx/LoxliA1vsiJDO79y5M6YOhUifc8+ePWhubsa//uu/oq2tDW+//TZHBGjYO3PmDB5//HEYjUb85je/UZyTpgwGW7v36quvKv43HqZPn46enp6wZbGnpwfLli1TdER+/PHHcr0QrIHtv0ZAOl9bWytPj4xGpM9ZX1+PAwcO4Fe/+hVMJhOqqqo4IkCDIq6BQKzEhTopKnMMpcSFNUThHT16FM8884wceOfm5mLr1q3y3He1ciRNG6qpqcGePXuwfft2PPPMMxEFD5E6ceJE2KkGCLJG4IUXXsBNN90kj2aoNbD9r6uvr8ejjz4a01qjcM8p/a6Ki4tRUFCAlStXYvv27cjPz4/r74tooHV1daGgoAAulwurVq0KGA2QpgyKHXRnzpxBc3MzfvWrX+GDDz4IGPWP1YkTJzB27FjVsigR1wjU19fjpptukjsa1RrY/tc5HA489NBD8vTIaIR7TqmzIi8vD0uWLMFDDz2E4uJi7N27N+a1BUR9EddAYNy4cdi5cydMJpPcizdv3jy0tbXhD3/4Q0BFIvFfqBNJ2rp1q3gLIhJIvUvi4lqpp1qtHH300UfQ6/XYs2cPZs2ahVmzZqGkpAR5eXmora0Vs4c0btw4LFiwAO+++y4++ugjwG/Osclkgk6nEy8ZFLE+p5S3oKBAXgM1a9Ys1NbW4vHHH1cNtoiGMml0v7m5GUuWLIlqfd+2bduQlpaGhx56CN/+9rexbds2MUtYd999N1wuF44cOSIfCxeUD4ZYnvPMmTPweDxYsmSJXAdPnDgRr7zyChobG4OOsBD1p7gGAggyxccp7PKxdevWgIYJgmzBFSyxgBDFTpw2I6XGxka8+eab8q4aaWlpOHDggGKXDSl4eOihh+BwOLB161b5WLhFgEuXLsWECRPkqUbSnGNpgd1QEctzpqWlob6+PqChJK3BUAu2iIaq+vp6eUpMQUFBVH/D5eXlaG5ulqcRFRYWwuVyRR0Qiwv1jx49ipqamqAjE4Mplue86aabUFVVFfB7ldpO4ggLUX+LeyAg8V8o55+CLRCGypZlUopleI6I/u7MmTO45557FOt3nL3bira1teGee+4JWi7V9uX2T+GmwEycOBHbt29HTU0NUnqn/e3YsSNsAIEgawSkFK5hIV6nVu/468tzgl8ARFeJjo4OpKSkYP/+/QEBbijl5eV45plnsH37dsXav507d8LlckU17WXcuHEoLi5GW1sb5s2bh2XLlmHt2rURPY+4RkBK4ToSxessFouipz+Yvjwn4vwFa0Sx6pdAoLy8HHl5eSgoKAho0JtMJixatIgvS6IBJG1z99hjjyl6qiZOnIjHHnssYHhbEmpL4Eh2DZL4L4JzRjCKgDBTBsXeNEmwEUlnmO8e8BfLc0ZCbSSUaKhZuXKlvHA1Grm5uUH365fKZKSNY4nYORjJ9aHqq1A97cHqGofDodgNSE0szxkJtd8nUbz1SyBAREPL7NmzYTQa8fjjjyt6xqVtL8Ut8IiIiOjq1y+BQG5uLnbs2IHi4mLF0Jy0cLi2tpZRLtEAkhaj+S/kl8okALzyyivsrY4DcXqBmDgFgIhEwXZHlFI0U6qIYpHg8/l84kEAaGpqwrRp08TDRDQITp48yfJIRBFjnUE0/Jw8eRLp6eni4X7VLyMCREREREQ0tDEQICIiIiLSIAYCREREREQaxECAiIiIiEiDGAgQEREREWkQAwEiIiIiIg1iIEBEREREpEEMBIiIiIiINCjkF4oREREREdHAGOgvFFMNBFpbW2E2m8XDRDQIWB6JKBqsM4iGn8Eot5waRERERESkQQwEiIiIiIg0iIEAEREREZEGMRAgIiIiItIgBgJERERERBrEQICIiIiISIMYCBARERERaRADASIiIiIiDWIgQERERESkQQMeCNjtdmRnZ8Pr9YqnQvJ6vcjOzobdbhdPERENa6zfiCIX7/LicDgwf/58uN1u8VRQJSUlsNlscLvdmD9/PhwOh5glJIfDAavVGnU7iKg/xDUQ8Hq9sFqtikIR7FgoLCBEQ4f4orPZbDEF8kNZvBsVwdjtdthstrDHgnG73cjOzg7aSBH/+xANhniXIbvdDr1eH5AiKS9qbDab4l4lJSViFgW3243U1FTFNdHUff4/L9LrHA4HJk+eHPC5/VO8fsdEkrgGAkR0dSsrK0N1dTV0Op14ivrRqVOnYDabAxoFZrMZJ06cELMTDXtWqxUej0dOlZWVYpaISQGEdK+GhgZs2bIlbDAwdepUtLa2ytdFWveJP89kMmH9+vVitqAyMzPhcrkUn90/ZWVliZcQ9UncA4Fz584hIyNDflEZjUbU1dWJ2VS5XC7U1dXh+PHj4ikiIk0SGyRSam1txfTp08XsRNTL7Xajra0NRUVF8jGLxYKHH34YhYWF0Ov1yMjIQGdnp+K6WDkcDhw5ckTx84qKinDkyBGO3NGQFPdAIDk5GQ0NDfKLyuVyITMzU5GnqakJRqMxYJjP7XajtLQUu3fvxtatWyMaSiMiGg4qKioUvfk5OTliFuTk5GDy5MkBDQaOCBAFUisvkSoqKoKnd4RgwoQJ4umYuFwuzJ49GwaDQT5mMBgwe/ZsuFwuRd5g6urqYDQaA8q6PoopRkTRiHsgEIn09HS4XC6UlZXJx9xuN5YtW4bNmzcjKysL999/P1asWME/eqIYSfN29+3bh+zsbPllIg6Hl5SUKF42YoDuT1okJ/Gf0yq9kINtCBDtYjx/brcbNpstbF0Q7ueK82/V5tqKnxG9Q/3+vzf/OcyRNkQimepQWVmJjo4OWCwW+ZjBYMCxY8fk64qKiuQGjMfjCchPFKuhXoZEwcqLyGAwwGQyobCwUD7mcDhQXl6OhQsXKvKG4v/Z/e8VDafTKR4KEGpqUKRTk4iiEfdAIJapQXa7HZmZmdi/f79coLOysrB582b84Ac/iKnxQERXPPjgg9i8ebM8laS8vFx+gZeUlKC8vFyeduJyudDW1hYQLATjcDiwatUq1NTUwOPx4PDhwzh+/DgyMjKQnJysmN5XX1+P5cuXK3rJImUwGLB06dKwHQNz587FuXPnFD93x44dWL58OZKSkvA///M/OHnypNwILygoiKlusdvtKCgokH9nNTU1WLt2bUz3CkVsdEmpsLBQntLgn2JtTBFJhlIZimQELVJSp6N0r1WrVqGuri5kACGyWCzo6OiQg/FYpKSkiIeIBl1cAwGdTofq6uqAKDZcxJ6VlYVjx44FNBIsFgveeOMNGAwG+d5cKEMUnd27d8vlz2AwoLi4GFVVVfB6vWhubsbevXvlsqfT6bB582a89NJLYV/wO3bsQG5uruLeK1asgE6nQ1paGnbs2AH09ui/9NJLqr1vwXbnEFNOTo48pVCtF9JgMGD58uWor68H/OYGW61W6HQ6PProo3Jv2ty5czF16lThDpGpqqpCcXGx/DuzWCyYPXs2WlpaxKwK0TZs/BsekaRw9SxROEOlDGVlZQX8fXs8HsUsgmiVlZXJ9xHbG/5tjb4yGo04cuSIov50u904cuQIjEajIm8woaYG6YOM6BL1VVwDAX9qvVlOp1N1eEttyzD/pNYIIKLonD9/Hp988ol4GAaDAcnJyeJhBa/Xi7a2NtUeLqvVira2NrjdbrS0tGD27NmqjVRx6kuwVFlZKU8pDNUZsHDhQjmIaWlpgclkkl/u/nWS2WzGwYMHwwY7Iulz5+TkKOqliooKMatCXxo24epFjgRQPA3VMtRXwaY9SfoydVEkBTX+04cKCwtD1oGSSIL//Px88TKiPumXQMBut2PVqlU4fPhwwB+x0+kMmDsoUXtZenqnLKSnp4uXEFGUpHmqSUlJuPHGG8XTcLvdSE5ORlJSknhKptPpYDKZxMMyQ++83JaWFlRVVWHp0qViloi53W5UVVVh3759QTsQ/M2YMQPJyckBP9dut2Pjxo3ytIZYd9uRPndlZWVAHRUqQEEf9loPVy+KmzEQ9cVQKUOxlpd4CrZIP5LnEaci+R8jGmr6JRCoqqpCbm5u0GG2vLy8gGEzIuo//vN4pUVyeXl58hSeVatWyee9Xi82btyItLS0sI3upUuX4oEHHpB7o91uN/bt2yefz8vLw6ZNm+DxeJCRkeF3ZXQMBgPKysrCPg96Gxnr1q1DaWkpAMg/1+l0wmQyyfcoLCxU3W1n4cKFaGxslD+X3W5X9FYuXbo0YG70E0880ac6TcepjzREDIcyFGt5kaYXiqNqwbYPVRupjPRn+k9FChcEqM2gUEscBaR46pdAYOnSpdiyZUvAH6rUyBC31iKi/mO1WjFnzhz5hVdcXCwPUefn5yM3N1fu9TIajVi0aFFEw89ZWVnYvXu3vDlAZmYmFixYIJ+fMWMGxo8fH1FQEU9z587FqVOnkJKSIv9cq9WKxsZG+UWalpam2ptpsViQm5srf66qqipYrVb5fFZWluJ3ptfrcdttt7FOo6vG1VqGpOmFYuM+ntuHxiKSKUH+ieuBKK58Kj744APxUFRaWlp8kyZN8iUlJSnSU089JWaNyIULF3xZWVm+6upq8RTRVS+W8jjYZaalpcV35513+lwul3hKk6T/HmKd2Jf68cKFC76VK1f6WlpaxFOkcbHUGUNJvMtLdXV1wPX+aebMmRHXVU899ZRvzZo1PpfL5bvzzjujLn8tLS2+lStX+i5cuCCeIo0bjHKb4PP5fGJwAACtra0wm83iYSIaBLGUR6/XixUrVmDdunURD2fHk81mQ0pKSkSjC0QUX7HUGUQ0uAaj3PbL1CAi0i5pl5u2tjasWbNGPE1ERERDBEcEiIYBlkciigbrDKLhZzDKLUcEiIiIiIg0iIEAEREREZEGMRAgIiIiItIgBgJERERERBrEQICIiIiISIMYCBARERERaVDI7UOJiIiIiGhgDPT2oSEDgYF+GCIKjuWRiKLBOoNo+BmMcsupQUREREREGsRAgIiIiIhIgxgIEBERERFpEAMBIiIiIiINYiBARERERKRBDASIiIiIiDSIgQARERERkQYxECAiIiIi0iAGAkREREREGjSsAgGbzQa73S4eJqJB4HA4YLVa4fV6xVODym63Izs7e8g9FxHFTzzLeUlJCUpKSsTDRJrQ74GA2+1GdnY23G63eErBbrdDr9cr0uTJk+FwOMSsUYv0GdBbIYjP4Z9YWdBw43A4MH/+/Ij+/v3ZbLaAv/94lcm+BPVutxupqanyM6Wmpkb82RwOByZPnhzwueLVoCC6Gni9XmRnZ6uWUbWGs3SdWL78U7DrRGIZj/Z6f1JdI3VcNDY2wmq1yu0Ctc+IMM+hj7LuIRqq+j0QqKioQFNTEyoqKsRTCllZWfB4PHJqbW3F9OnTcfDgQfnFHe4eagoLC9HU1ITVq1dH9LIvKipSPIt/ys/PF7MTXZXKysoUf/sulwuZmZlitqg5HA5UVVWhtLQ0ovLoz+12IzMzE8XFxfJzFRcXIzMzM+wL2eFwYNWqVaipqQko1+vWrcN3vvOdsPcgotCSk5PR0NAQUMaifYdOmDAh6H0ivT4eDAYDjh07FvAMnt42ytSpU8VLiIadfgsEpEi6trYWLS0tKC8vDxk9iyMCZrMZJ06cwG233YaOjg54PB5YrVbxspCk3v2UlBR4el/2RqMx6h4FIi0SRwSMRiPq6urEbFGx2WxYvHgxampqYDKZYDQaQ/bIiVpaWjB16lRkZGTIx7KysrBgwQK0tLQo8hJR3+Tk5AT0guv1ehQWFopZZefOnUNGRkbANVKKprwPNrURRH1vG+XUqVPiJUTDTlwDAf9htMzMTNTV1aG6uho333wzjh07hrq6OmRmZkKvMqSWnp4Ol8slR9wdHR0AENWIgP/QJABFD4I06gAAek4HIAqrsrJS0QvW0dEBi8UiZgvJP6BYunSpfA9pxKGqqmpAGgkWiwV79+7F4sWLA17qpaWleOedd2AwGMTLiDRLLP9SKioqErPKwo0IZGVliZcMadOnT0dra2vA5/B4PDh27BjrDBr24hoI+A+jBSsg4c4HY7FYohoR0Ol0qK6uhscvABDXCOTn58Pj8aC6uho6nU64AxFJ1HoEo2mw+08xCtYICHfe39y5c3Hq1Ck8++yz8jG73Y7GxkbMnTtXkTcY//rEP7EuIIqPcCMCNptNvCQiYu98Tk6OmEVVTk4OMjIycO7cOQBAXV0dzGYzmpqa5DyFhYVBn+/EiRMwm80BnyOWupBoKIprINBXTU1NMBqNfao0xOkM+t4hvKampqCFOdj9pQohWOIoAg1H4V5mwabLiWsE/FNWVhYsFgsqKioGtAFtMBhQV1eH8vJy+dkLCgpQV1en2rEgTjsMl4KNVhJpkVpHgNrUIP+OOI/Hg4aGBtxzzz2Kkf6ysjLxsoiIQXxlZaWYRVVlZSUaGhqQnJwMAMjMzERrayvS09PlPNLaQP/nE39msBSu84JoqEvw+Xw+8SAAtLa2wmw2i4dDstlsEU3fkVit1pgrhYHgdruxevVq7Nq1S7WRQTQQYimP8WC320P2vKWnp2Pfvn2qwUC460VTpkwJ2agnosjEs85wOBzYunUrnnvuuaBl3ev1YsWKFYoe9nCKiopUF/663W4sW7YMzzzzjOpURLvdjtLS0pD1D3rbJUuXLoXRaMTWrVvx61//Gv/xH/+BkpISrF69GuvWrYPT6QR6Zwug9/MuXrwY3d3dwt2CS0xMRE1NjeqzEkUqnuU2UnEdEQjWgyhF3cHm2IlBQCRbj0UyDBfJfYKNBBCRkribl3/y72FTo3a91WoNOv840imD6G0IiOW4pKQk4Jgk3MgARwKIYiOOBESS1IKAoSCSkQD/FMvaKaKhIq6BQLwEayB4IlwjgAgqpWiGFIm0LFTj2X/O7WBwOp1oa2sLmKoX7JhE3JBAStwKkCg+QnXEBZuCqKazszPoWoNYvsskkjUCwYjrEsQUy7MQDTVDMhAYDPFYW0A0lIR7iYlJ7aWm1nj2DOIiW6/Xi+bmZsXCYbfbjfLychw8eBDHjx8XLyGiMNQa8RkZGXjllVcC1vDphca9NEVo3bp1AXWFx+OB0+mMKBgItX9/tL3v/jMVqqursWDBAkVvf7g5/pmZmUHrv3h9rwrRYGMg0CvYtKZQSZzWRDTUXM3D2+vXr0daWhreeecd1NbWYtOmTVi9ejVyc3NRU1ODtWvXcpoPUZTCjaYHS0N5ig8RhTckAwG1nQqiWYhMRPERbDcv/xTJup14kXosU1JSkJ+fD51Oh3379uGtt97CokWLkJ+fD4vFgmeeeQaZmZkBIxxqn4VfDkTUd1J5LC0tDShj+t4v9xxugUNdXV3QOiMeX7BINBTEddcgIuofLI9EFA3WGUTDz2CU2yE5IkBERERERP2LgQARERERkQYxECAiIiIi0iAGAkREREREGsRAgIiIiIhIgxgIEBERERFpEAMBIiIiIiINYiBARERERKRBIb9QjIiIiIiIBsZAf6FYyEBgoB+GiIJjeSSiaLDOIBp+BqPccmoQEREREZEGMRAgIiIiItIgBgJERERERBrEQICIiIiISIMYCBARERERaRADASIiIiIiDWIgQERERESkQQwEiIiIiIg0iIEAEREREZEGDZtAwG63Izs7G16vVzxFRDHyer2wWq1wOBziqWGLdQVR/yopKUFJSYl4eNhyOByYP38+3G63eIroqhf3QMBut0Ov14dNdrtdcZ3NZgvIM3ny5AFroJSUlMBms4mHB1W4Z3K73Zg/f/6A/Y5o+HE4HJg8eXJA2UpNTQ370lO7Nh7l02azBdQBkXK73UhNTY3qs0jUPhMDB6IrvF4vsrOzA8qIPsh7WxTqWinFGkD0JfgQnyuaukusb6QUTb1DNJTFPRDIysqCx+ORU1FREQCgqKhIcTwrK0txXVlZmeJ8Q0MDMjMzMWPGDEU+IopOZmYmXC6XonwdO3YMBoNBzKpgsVjQ0dGhuE5KLpcLmZmZ4iURcTgcqKqqQmlpadSNb7fbjczMTBQXF8vPUlxcjMzMzLAvZYfDgVWrVqGmpibg86xbtw7f+c53wt6DSAuSk5PR0NAQUE7E97ZIp9Ohuro64DopSe2BaLndbpSXl6O8vDzqMur1erFixQosWrRIfo6amhqsWrUqbDAQrL6R0t69e5GZmRn2HkRDXdwDAYk0MuB0OuHxeOB0OqPqDaivr0daWhp0Op14atji8CMNJ2q953q9HkajEXV1deIlYdlsNixevBg1NTUwmUwwGo1hexn9tbS0YOrUqcjIyJCPZWVlYcGCBWhpaVHkJaKBJfa8i6mwsFC8JKySkhKYzWYUFxcjNzcXZrM54nYEABw/fhznzp2D1WqVj1ksFuTm5qK+vl6Rl0iL4hoI+FcCVVVV8Hg8KCsrA/x6/KWAINRQvN1uR21tLdasWaM43tTUBKPRGHK6DBHFT7DRBCl1dHTAYrGIlwTwn/a3dOlS+TqpTqiqqpLPRxMURMtisWDv3r1YvHhxQAOltLQU77zzTthREiIKTW00QUr5+fniJQFKSkrksgkAnt7RiPz8fHg8HgCQz0cTFETLYDCgrq4OBQUFAXXGqlWrUFdXF1EdSDSUxTUQ8B8WlAIAkfTyr66uDtrbb7fbUVBQgF27dgWcT09Ph8vlUr13sB53/3n04lw/tQok2H3EBYiR3ktit9uRkZGB9957D2azWb5XJPfxrxRDBVAQ8nIOI0Xi3LlzyMjICPr3V1dXB6PRGPASDPX3KvKf9hdsakG48/7mzp2LU6dO4dlnn5WP2e12NDY2Yu7cuYq8wahNd1Krj4gouMLCwqDvJP/6JFgS8wcjNfjVAodw5/3NmDEDycnJitEIh8OB8vJyLFy4UJE3GIPBgGPHjgXUGZFMryQaDuIaCARb8BsqiT37NputTz1zUoH3nyJQUVGB2bNnw2Kx4LnnnkNdXR08vWsQysvLY5rfJ84bdLlcqK2tDdmbmZWVhYaGBtxyyy1obW2VGx7hnqmiogLo7RHxeDwwmUxYv369353/rqSkBLW1tXIPbnFxMVavXh220iVt8+/B83+pqjWa/VO4l3C8ST105eXlcj1SUFCAuro61Toj0g0MpMQAmig8ad2ffxAdbo2AmH8g6HQ67Nu3D21tbXIZX7x4Mfbu3avamx9qWmSwFM3iY6KhJq6BgLjg1+PxoLW1Fenp6WhtbQ04J/XsSy/qpUuX9qmS0Ol0WLduHaqqqoDeqUrNzc3Iy8sDADzyyCNyY2HGjBmYM2eO4vpItbS0YMGCBXLvpfhzoxHumaxWq6KxVVRUhLa2toCGivRZN2/eLP/+MjIykJycjOPHjyvyEoUSz5dgfzTCxR46sWcuKytLUY+IGxiES+L9iCi0cGsDgiW10cR41j8SMUARpzVaLBa88cYbcrmPpBPEP4n3IxpO4hoI+JMaAGazGU1NTTCbzdCrzAGWXtThpgVEYu7cuThy5AgcDofcAJZ2HvKfhmM0GvHKK6/A5XIJdwjP6XSioqJCURnl5OSI2SISr2c6f/48Dh8+rBiSjXVBJ2lbPF+Cao1wq9WKysrKgOPRNMLtdnvAqGJJiC13wwUlkQQhRBRIbGhHktRGE9Xqn6KiooDdBz1h6h+Rw+GA1WpVjJKL0379hQtKIglCiIa6fgkESkpKUFBQEDAK0NraioKCAtWegFAFMlIGgwGzZ89GfX29Yuchh8OBZcuWydNwXC4X0tPTxcsjkpKSAqvVGlAhqa1dUBPLM7ndbpw7d048jKSkJMyZMydgkVY0lSRdndTm+WdnZ+P8+fNidtlQfwk6nU60tbUF1BfBjkmkdUZi2W1tbcXUqVPF7ESapDbPP1yZj2RkQO39PxBcLhcOHz4cUO+dOnUq4Jhk+vTpAW0Z6X0d6xbKRENJvwQCTqcTxcXFAT17BoMBxcXFcDqdiuOREIf7Q8nLy0NtbS2am5vlLcNcLheSk5ORlJQEAHj22WfR1NQkXHmFtNZAmp/vdrtRUFAgn587dy4aGxsVoxt2uz3oaIc/g8GA5ORk+d+RPFNFRYV8X6/Xi40bN2L58uUBv1udToe0tDRs3LhRbgR5vV5s2rRJtVFEVz+13jVP71xd6W8vmFDXDvZLUJoK579w2N271/jBgwc5HY4oRqF698N1LIW61tOH7xGIl6qqKowfP15eOOz1elFaWor29nZuP0ya1S+BQEpKCgoKCgKG2aUGdUpKiuJ4vElTgfR6vdxglvYdl3pGL1y4oNr7rtPpsHnzZmzZsgV6vR6ZmZmKQMBgMGDv3r144IEH5F6OqqqqsFObDAYDTCaTvGvQ7bffDoR5pnvuuQelpaXQ9071MZlMqkOq+fn58t7ser0e06ZNw7333htR8EQkCjUiMNjTztavX4+0tDS88847qK2txaZNm7B69Wrk5uaipqYGa9euDah/iKh/hRsRiOV7BOJFGol48803gd7NSdavXw+TyYTW1lY88cQTIUc7iK5aPhUffPCBeCgq1dXVvqSkpIBUXV0tZpWpXSOlmTNn+lwul3gZ0VWvr+VRzYULF3wrV670tbS0iKd8LS0tvpUrV/ouXLggnuqzNWvWhKwL1Fy4cMGXlZXle+qpp0Iea2lp8c2cOVPxuVi/kJb0V53h8/l8Tz31lKK8SULVJ32l9jMjsWbNGt+aNWtCHnO5XL6ZM2cq6qWWlhbfpEmTAuoKKU2aNKlfPitpV3+WWzUJPp/PJwYHANDa2gqz2SwepjBsNps8pchfZWVl2BEDIjWDUR4dDgcWL16M7u5u8ZSsqKhIdYSKiAbPYNQZXq8XK1asCJji6i89PR379u3jSDVREINRbhkIEA0DLI9EFA3WGUTDz2CU235ZI0BEREREREMbAwEiIiIiIg1iIEBEREREpEEMBIiIiIiINIiBABERERGRBjEQICIiIiLSIAYCREREREQaFPJ7BIiIiIiIaGAM9PcIhAwEBvphiCg4lkciigbrDKLhZzDKLacGERERERFpEAMBIiIiIiINYiBARERERKRBDASIiIiIiDSIgQARERERkQYxECAiIiIi0iAGAkREREREGsRAgIiIiIhIgxgIEBERERFpUL9+s3BJSQmcTifKysoCjgNAfn6+4jgRBReP8hiMw+HA4sWL8fDDD/drefTBhyp3HVq9H+KS75J4OkDiyETc+c3bcUfybPEUEUWgv+oMr9eLFStWAAD27dsHnU4nZombN88exltfHMKXl3vEUwFGJozCzGtm4IeT7xJPEQ0b/VVuQxkyIwJ2ux16vT5sstvt4qVxUVJSApvNJh4eVOGeye12Y/78+XA4HOIpIiBEuUpNTYXb7RazB1C7Ptqy2NTpwAF3Dd4/fwKtFz4Kmw6fO4ZnP/pvdF7yircion7kdruRmpoaUN4jLfOhrg/1PhO5v+pE+am9eM/zfkD9ECy9f/44XnZV46/n3hNvRUQhxD0QsNlscqEvLCxERUWF/O/s7Gx4vcFf7FlZWfB4PHIqKioCABQVFSmOZ2VliZcSkQqxXDU0NCAxMRFTp05FUlKSmF3BbrcjJycnoAxK5TMnJyeihgEAtHe7xENhXcJltHeHD1aIKH4MBgOOHTsml3WXy4X09HQkJibCaDSK2RXcbjcyMzMxdepUuFyugLqnqqoq4mDgdE8HfAg6YSGk9q7o6xoiLYt7IFBWVqZoLFitVvnf1dXVYYcRpR7I8vJyNDY2ory8POLey6HO4XBg/vz5V8VnoeFpx44d6O7uxrp16xRlsbCwEHq9Xp62F2+RvtATMALTkyxISBgFALgcfOYiEQ2QhoYGNDU1YenSpbBYLPLxpqYmGI3GkB18A+V6XQq+MUoPRFHXENEVcQ8EJHa7XR4RCNdr6PV6kZ2dDb1ej9LSUrhcLtTV1eFf/uVfUFdXh7q6OmRmZoYdVSAidQ6HA1VVVUhPT0dGRobinNTr779OICsrCw0NDdiyZUvAEP+WLVvQ0NAQ1xG6BIxAjmEF/snwQ4wdPV48TUQDzOv1orS0FImJicjLy1OcS09Ph8vlUnTwGQwGvPPOOwAAo9GoqDMyMjLw8MMPB6wZ7CvL+O/h/1yfg5vG3SyeIqII9EsgYLPZ8MADD6ChoQGtra0oKCgI2YDX6XSorq5WHTXwH6oMdl4SrMfdfx69OHdRrfcz2H3sdrviM0R6L4ndbkdGRgbee+89mM1m+V6R3KekpEQ+H+r3CCHv1TKSQn0nLQq+9tprsWvXLtUyJLJYLOjo6AiYGtTR0aHoHeyrBIzA/ddbcWeSGb/7tBLdX30uZiGiASQtCm5qasLu3bsjLu/+73MxxXtDgluT70DuxB/g5bNv47inRTxNRBGIayAgNWrb2tpw8uRJWCwWuRFvMpkwbdq0oAtb/dcVSMlsNqOpqQlmszngnNocwxkzZiA5ORktLX+vECoqKjB79mxYLBY899xzqKurg6d3vmJ5eXnQ5wlHmgdZXFwMT+8cytra2pAjH1Lv6i233ILW1lY5oAn3TBUVFQAgV6Qmkwnr16/3u/PflZSUoLa2Vp6bWVxcjNWrV4cMHOjqV1JSgoyMDNx222145513YDAYxCwKDocDkydPDih3amny5MkRl6PrEr+Fu65bpKh6EjACVuOPcbtuGrZ8+gd86v1AcQ0RDSyHw4Fp06bh4MGDEY38+Y/qR5qCdXoF841Ryfjh5KUYNVLZeTFv/HzYJt2Nys438PqZVxXniChycQ0EpEa/1Mj13/WmrKxMtRfRf11BJEltaFGn02HdunWoqqoCeiun5uZmeUjzkUcekRtBM2bMwJw5cxTXR6qlpQULFiyQK0fx50Yj3DNZrVZFL0pRURHa2toCevqlz7p582a5tzcjIwPJyck4fvy4Ii9pgxSYS9N4go2mST3+/n9jaqMAakmtXAczKmEUlk34HlYaliMBI5CAEfiJcSW+d80MbP60kkEA0SCz2WzyNJ5gZVvq8fevT0KNAqilaEYH7tBNR8GUBzB65DUAgNsmpOMXE7+Pys430PD5a2J2IopCXAOBeFDbrjBUb7u/uXPn4siRI3A4HHIDeMaMGYAwncdoNOKVV16ByxX9DgNOp1OxG5Jer0dOTo6YLSLxeqbz58/j8OHDyMjIkJ/JaDSirq5OzEoaIQXmJ0+exMaNGwPKlH8K1junVhb9U6TlUuLuOo6tn+7D/KRvw2r8MX56/Urccc3N2Pzp7+HytorZiWiASR1zAALKu38KNk1VnOoaLKmN6Kv56utzeKJ9N64ZkYjfmlZj/rWZWH3dP6Dii0YGAURxMKQCgZKSEhQUFKC1tVXRcyCtMwjWWBEZDAbMnj0b9fX1qK+vR1paGnQ6HRwOB5YtWyZPw5G2RItFSkqKYjckKamNVKiJ5ZncbjfOnTsnHkZSUhLmzJmDhoYGxTMF69EhbZoyZUpA2ZJSqN65ysrKgPyVlZVitoi1e9/HE6f34g7ddNw+bhqeOL0XLi9HrYiGomDl3xNmvV6w92NrayumTJkiZo1I91ef44n25zAKI7Hqmwvw+y+a0PQ3dnIRxUNcAwH/har6IN8jEK43wOl0ori4OGAOs8FgQHFxMZxOp+K4mry8PNTW1qK5uRlWqxUA4HK5kJycLO+d/uyzz6KpqUm48gpprYE0P9/tdqOgoEA+P3fuXDQ2Nip6Q+12e9jeUYPBgOTkZPnfkTyT/65LXq8XGzduxPLlywN+RzqdDmlpadi4caPcS+P1erFp06aAXhvSpvb29qBrbvQx9Oz3VUfXhyhqfxFF7S+io+tD8TQRDRE5OTkB9UW4d3l/+PLiWWw5/TxK3AfQ+LfXxdNEFKO4BgL5+fkBvQBiCtVrnpKSgoKCgoD571JDPCUlRXFcjTQVSK/Xyw1mabtEaUuzCxcuqPa+63Q6bN68Wd42MTMzUxEIGAwG7N27Fw888IBcKVZVVYVdUGUwGGAymeRdg26//XYgzDPdc889KC0thb53qo/JZFLtvc3Pz4fJZJLvN23aNNx7772qvTakLaFGBML97faHL3o+xhc9H4uHiWgIURsRCPUu7y9fXjyLE+cj25iAiCKT4PMF/8ae1tZWmM1m8XBcSFN8gjVo7b3fZiqqrKwclMYK0VDQl/Lovw2gmvT0dOzbt08RNKqVRX+RlstXzjRi3+n/EQ+H9cTM32LKmOvEw0QURl/qDPS+pwsLC8XDssTERNTU1Cimnko76rW3tyvy+rNarREFESe6T+OJD/5NPBzWT0z3YdG13xUPEw0LfS23sRiUQOBqZrPZ5ClF/iJtMBEFM9zLo/dyD5768D/xoTeyEYAEAP8wcQF+esO94ikiisBwrzMA4D/bXkLj35rFw6rM13wL62/+JcYmjBZPEQ0Lg1FuGQgQDQMsj0QUDdYZRMPPYJTbuK4RICIiIiKi4YGBABERERGRBqkGAgkJCVCZNURERERERHHi8/mQkJAgHu53qoHAmDFj0NPTIx4mIiIiIqI46unpwZgxY8TD/U41EEhKSsLZs2fFw0REREREFEdnz56Vv2B2IKkGAhMmTMDFixfR2dkpniIiIiIiojjo7OzExYsXMWHCBPFUv1MNBND7jbfnz5+Hy+VCd3c31wwQEREREfWRz+dDd3c3XC4Xzp8/D6PRKGYZEKrfI+Cvs7MT58+fx5dffslggIiIiIioDxISEjBmzBgkJSUNykiAJKJAgIiIiIiIri4hpwYREREREdHViYEAEREREZEGMRAgIiIiItIgBgJERERERBrEQICIiIiISIMYCBARERERaRADASIiIiIiDWIgQERERESkQQwEiIiIiIg0iIEAEREREZEGMRAgIiIiItIgBgJERERERBrEQICIiIiISIMYCBARERERaRADASIiIiIiDWIgQERERESkQQwEiIiIiIg0iIEAEREREZEGMRAgIiIiItIgBgJERERERBrEQICIiIiISIMYCBARERERaRADASIiIiIiDWIgQERERESkQQwEiIiIiIg0iIEAEREREZEGMRAgIiIiItIgBgJERERERBrEQICIiIiISIMYCBARERERaRADASIiIiIiDWIgQERERESkQQwEiIiIiIg0iIEAEREREZEGMRAgIiIiItIgBgJERERERBr0/wDFWGRVe591HgAAAABJRU5ErkJggg==)"
      ],
      "metadata": {
        "id": "4wOOsfJGcruh"
      }
    },
    {
      "cell_type": "markdown",
      "source": [
        "2. policy_table 시각화 (방향 화살표)"
      ],
      "metadata": {
        "id": "OgRZw6KKV0FH"
      }
    },
    {
      "cell_type": "code",
      "source": [
        "def plot_policy_heatmap(agent):\n",
        "    height = len(agent.value_table)\n",
        "    width = len(agent.value_table[0])\n",
        "\n",
        "    fig, ax = plt.subplots(figsize=(6, 5))\n",
        "    heatmap = np.zeros((height, width))\n",
        "    ax.imshow(heatmap, cmap=\"Greys\", vmin=0, vmax=1)\n",
        "\n",
        "    arrow_dict = {\n",
        "        0: '↑',\n",
        "        1: '↓',\n",
        "        2: '←',\n",
        "        3: '→'\n",
        "    }\n",
        "\n",
        "    for i in range(height):\n",
        "        for j in range(width):\n",
        "            state = (i, j)\n",
        "            if state == agent.env.end_point:\n",
        "                ax.text(j, i, 'G', ha='center', va='center', color='red', fontsize=12, fontweight='bold')\n",
        "                continue\n",
        "\n",
        "            action_list = agent.get_action(state)\n",
        "            if not action_list:\n",
        "                continue\n",
        "\n",
        "            # 여러 방향이 있을 경우 화살표 문자열로 합쳐서 출력\n",
        "            arrows = ''.join([arrow_dict[a] for a in action_list])\n",
        "            ax.text(j, i, arrows, ha='center', va='center', color='black', fontsize=14)\n",
        "\n",
        "    ax.set_xticks(np.arange(width))\n",
        "    ax.set_yticks(np.arange(height))\n",
        "    ax.set_xticklabels(np.arange(width))\n",
        "    ax.set_yticklabels(np.arange(height))\n",
        "\n",
        "    ax.set_title(\"정책 방향 (Value Iteration 기반)\")\n",
        "    plt.grid(False)\n",
        "    plt.show()\n",
        "\n",
        "plot_policy_heatmap(agent)\n"
      ],
      "metadata": {
        "colab": {
          "base_uri": "https://localhost:8080/",
          "height": 708
        },
        "id": "jBYgfCxGZ23I",
        "outputId": "07a879bf-ba2c-48d9-9c8f-461831f14f15"
      },
      "execution_count": null,
      "outputs": [
        {
          "output_type": "stream",
          "name": "stderr",
          "text": [
            "/usr/local/lib/python3.11/dist-packages/IPython/core/pylabtools.py:151: UserWarning: Glyph 51221 (\\N{HANGUL SYLLABLE JEONG}) missing from font(s) DejaVu Sans.\n",
            "  fig.canvas.print_figure(bytes_io, **kw)\n",
            "/usr/local/lib/python3.11/dist-packages/IPython/core/pylabtools.py:151: UserWarning: Glyph 52293 (\\N{HANGUL SYLLABLE CAEG}) missing from font(s) DejaVu Sans.\n",
            "  fig.canvas.print_figure(bytes_io, **kw)\n",
            "/usr/local/lib/python3.11/dist-packages/IPython/core/pylabtools.py:151: UserWarning: Glyph 48169 (\\N{HANGUL SYLLABLE BANG}) missing from font(s) DejaVu Sans.\n",
            "  fig.canvas.print_figure(bytes_io, **kw)\n",
            "/usr/local/lib/python3.11/dist-packages/IPython/core/pylabtools.py:151: UserWarning: Glyph 54693 (\\N{HANGUL SYLLABLE HYANG}) missing from font(s) DejaVu Sans.\n",
            "  fig.canvas.print_figure(bytes_io, **kw)\n",
            "/usr/local/lib/python3.11/dist-packages/IPython/core/pylabtools.py:151: UserWarning: Glyph 44592 (\\N{HANGUL SYLLABLE GI}) missing from font(s) DejaVu Sans.\n",
            "  fig.canvas.print_figure(bytes_io, **kw)\n",
            "/usr/local/lib/python3.11/dist-packages/IPython/core/pylabtools.py:151: UserWarning: Glyph 48152 (\\N{HANGUL SYLLABLE BAN}) missing from font(s) DejaVu Sans.\n",
            "  fig.canvas.print_figure(bytes_io, **kw)\n"
          ]
        },
        {
          "output_type": "display_data",
          "data": {
            "text/plain": [
              "<Figure size 600x500 with 1 Axes>"
            ],
            "image/png": "[encoded data removed]"
          },
          "metadata": {}
        }
      ]
    },
    {
      "cell_type": "markdown",
      "source": [
        "![image.png](data:image/png;base64,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)"
      ],
      "metadata": {
        "id": "0zwgNaSDYaiC"
      }
    },
    {
      "cell_type": "code",
      "source": [
        "for i in range(5):\n",
        "    for j in range(5):\n",
        "        print((i, j), agent.get_action((i, j)))\n"
      ],
      "metadata": {
        "colab": {
          "base_uri": "https://localhost:8080/"
        },
        "id": "Ke_VZm4uYcZR",
        "outputId": "b2660e48-205b-4d95-9659-2e143f931429"
      },
      "execution_count": null,
      "outputs": [
        {
          "output_type": "stream",
          "name": "stdout",
          "text": [
            "(0, 0) [1, 3]\n",
            "(0, 1) [1, 3]\n",
            "(0, 2) [1, 3]\n",
            "(0, 3) [1, 3]\n",
            "(0, 4) [1]\n",
            "(1, 0) [1, 3]\n",
            "(1, 1) [1, 3]\n",
            "(1, 2) [1, 3]\n",
            "(1, 3) [1, 3]\n",
            "(1, 4) [1]\n",
            "(2, 0) [1, 3]\n",
            "(2, 1) [1, 3]\n",
            "(2, 2) [1, 3]\n",
            "(2, 3) [1, 3]\n",
            "(2, 4) [1]\n",
            "(3, 0) [1, 3]\n",
            "(3, 1) [1, 3]\n",
            "(3, 2) [1, 3]\n",
            "(3, 3) [1, 3]\n",
            "(3, 4) [1]\n",
            "(4, 0) [3]\n",
            "(4, 1) [3]\n",
            "(4, 2) [3]\n",
            "(4, 3) [3]\n",
            "(4, 4) []\n"
          ]
        }
      ]
    },
    {
      "cell_type": "code",
      "source": [
        "for i in range(5):\n",
        "    for j in range(5):\n",
        "        print(f\"state=({i},{j}) -> action(s): {agent.get_action((i,j))}\")\n"
      ],
      "metadata": {
        "colab": {
          "base_uri": "https://localhost:8080/"
        },
        "id": "-9u5WRAtY6og",
        "outputId": "e7981282-1a4f-432e-a503-c4a61d4cde41"
      },
      "execution_count": null,
      "outputs": [
        {
          "output_type": "stream",
          "name": "stdout",
          "text": [
            "state=(0,0) -> action(s): [1, 3]\n",
            "state=(0,1) -> action(s): [1, 3]\n",
            "state=(0,2) -> action(s): [1, 3]\n",
            "state=(0,3) -> action(s): [1, 3]\n",
            "state=(0,4) -> action(s): [1]\n",
            "state=(1,0) -> action(s): [1, 3]\n",
            "state=(1,1) -> action(s): [1, 3]\n",
            "state=(1,2) -> action(s): [1, 3]\n",
            "state=(1,3) -> action(s): [1, 3]\n",
            "state=(1,4) -> action(s): [1]\n",
            "state=(2,0) -> action(s): [1, 3]\n",
            "state=(2,1) -> action(s): [1, 3]\n",
            "state=(2,2) -> action(s): [1, 3]\n",
            "state=(2,3) -> action(s): [1, 3]\n",
            "state=(2,4) -> action(s): [1]\n",
            "state=(3,0) -> action(s): [1, 3]\n",
            "state=(3,1) -> action(s): [1, 3]\n",
            "state=(3,2) -> action(s): [1, 3]\n",
            "state=(3,3) -> action(s): [1, 3]\n",
            "state=(3,4) -> action(s): [1]\n",
            "state=(4,0) -> action(s): [3]\n",
            "state=(4,1) -> action(s): [3]\n",
            "state=(4,2) -> action(s): [3]\n",
            "state=(4,3) -> action(s): [3]\n",
            "state=(4,4) -> action(s): []\n"
          ]
        }
      ]
    },
    {
      "cell_type": "markdown",
      "source": [
        "-> 시각화 코드가 여러방향을 못 보여줌\n",
        "-> 여러 개의 최적 행동이 있을 때도 \"↓→\" 식으로 한 셀에 다 표시되도록 수정\n",
        "\n",
        "=> best_action -> action_list\n",
        "\n",
        "```\n",
        "arrows = ''.join([arrow_dict[a] for a in action_list])\n",
        "\n",
        "```\n",
        "\n"
      ],
      "metadata": {
        "id": "jJrHGGClZNIC"
      }
    }
  ]
}