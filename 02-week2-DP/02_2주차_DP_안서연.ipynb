{
  "nbformat": 4,
  "nbformat_minor": 0,
  "metadata": {
    "colab": {
      "provenance": []
    },
    "kernelspec": {
      "name": "python3",
      "display_name": "Python 3"
    },
    "language_info": {
      "name": "python"
    }
  },
  "cells": [
    {
      "cell_type": "markdown",
      "source": [
        "## 다이나믹 프로그래밍\n",
        "\n",
        "다이나믹 프로그래밍은 model-based 접근법으로, 환경의 전이 확률과 보상을 알고 있을 때 사용됩니다. 이번 코드에서는 DP 기법의 가치 이터레이션 (Value Iteration), 정책 이터레이션 (Policy Iteration)을 활용해 최적 정책을 찾습니다.\n",
        "\n",
        "다음 환경(**GridWorldEnvironment**)을 가지고 가치 이터레이션, 정책 이터레이션을 구현하세요."
      ],
      "metadata": {
        "id": "HyNmkw66VPdZ"
      }
    },
    {
      "cell_type": "markdown",
      "source": [
        "## GridWorldEnvironment\n",
        "GridWorld는 격자 기반 환경으로, 에이전트가 상, 하, 좌, 우로 이동하며 목표 지점에 도달해야 합니다.\n",
        "\n",
        "```py\n",
        "start_point = (0,0) # 시작점\n",
        "end_point = (4,4) # 목표 지점\n",
        "gridworld_size = (5,5) # 5x5 크기의 격자\n",
        "env = GridWorldEnvironment(start_point, end_point, grid_world_size)\n",
        "```"
      ],
      "metadata": {
        "id": "AJazHY8WUeo9"
      }
    },
    {
      "cell_type": "markdown",
      "source": [
        "## Original Code"
      ],
      "metadata": {
        "id": "FrEXfXlQW5CY"
      }
    },
    {
      "cell_type": "code",
      "execution_count": 15,
      "metadata": {
        "id": "OOi9LMUhUY3K"
      },
      "outputs": [],
      "source": [
        "import numpy as np\n",
        "from typing import Tuple\n",
        "\n",
        "class GridWorldEnvironment:\n",
        "    def __init__(self, start_point:Tuple, end_point:Tuple, grid_world_size:Tuple):\n",
        "        # 시작점과 끝점을 받는다.\n",
        "        self.start_point = start_point\n",
        "        self.end_point = end_point if end_point != (-1,-1) else (grid_world_size[0] + end_point[0],\n",
        "                                                                 grid_world_size[1] + end_point[1])\n",
        "\n",
        "        # 그리드 월드의 규격을 받는다.\n",
        "        self.width, self.height = grid_world_size\n",
        "\n",
        "        # action dictionary\n",
        "        self.action_space = ['up', 'down', 'left', 'right']\n",
        "        self.num_actions = len(self.action_space)\n",
        "        self.actions = {'up':(-1,0),\n",
        "                        'down':(1,0),\n",
        "                        'left':(0,-1),\n",
        "                        'right':(0,1) }\n",
        "\n",
        "        # 상태 : 좌표로 나타남\n",
        "        self.traces = []\n",
        "\n",
        "        # total states\n",
        "        self.total_states = []\n",
        "        for x in range(self.width):\n",
        "            for y in range(self.height):\n",
        "                self.total_states.append((x,y))\n",
        "\n",
        "        # reward\n",
        "        self.reward = np.zeros(shape=(self.height, self.width)).tolist()\n",
        "        self.reward[end_point[0]][end_point[1]] = 1\n",
        "\n",
        "    def render(self):\n",
        "        # 그리드 월드의 상태를 출력한다.\n",
        "        self.grid_world = np.full(shape=(self.height, self.width), fill_value=\".\").tolist()\n",
        "\n",
        "        last_point = self.traces[-1] # 에이전트가 가장 마지막에 있었던 위치\n",
        "        traces = list(set(self.traces)) # 중복된 값을 삭제하기 위함\n",
        "        for trace in traces:\n",
        "            self.grid_world[trace[0]][trace[1]] = \"X\"\n",
        "\n",
        "        self.grid_world[self.start_point[0]][self.start_point[1]] = \"S\" # start point\n",
        "        self.grid_world[self.end_point[0]][self.end_point[1]] = \"G\" # end point\n",
        "        self.grid_world[last_point[0]][last_point[1]] = \"A\" # 현재 에이전트의 위치\n",
        "\n",
        "        # string으로 출력한다.\n",
        "        grid = \"\"\n",
        "\n",
        "        for i in range(self.height):\n",
        "            for j in range(self.width):\n",
        "                grid += self.grid_world[i][j]+\" \"\n",
        "            grid += \"\\n\"\n",
        "\n",
        "        print(grid)\n",
        "\n",
        "    def get_reward(self, state, action_idx):\n",
        "        next_state = self.state_after_action(state, action_idx)\n",
        "        return self.reward[next_state[0]][next_state[1]]\n",
        "\n",
        "    def state_after_action(self, state, action_idx:int):\n",
        "        action = self.action_space[action_idx]\n",
        "        row_movement, col_movement = self.actions[action]\n",
        "\n",
        "        # action에 따라 에이전트 이동\n",
        "        next_state = (state[0]+row_movement, state[1]+col_movement)\n",
        "        next_state = self.check_boundary(next_state)\n",
        "\n",
        "        return next_state\n",
        "\n",
        "    def check_boundary(self, state):\n",
        "        state = list(state)\n",
        "        state[0] = (0 if state[0] < 0 else self.height - 1 if state[0] > self.height - 1 else state[0])\n",
        "        state[1] = (0 if state[1] < 0 else self.width - 1 if state[1] > self.width - 1 else state[1])\n",
        "        return tuple(state)"
      ]
    },
    {
      "cell_type": "markdown",
      "source": [
        "## Own Code\n",
        "위 환경 클래스를 상속 받아 `env.render` 코드를 구현하세요."
      ],
      "metadata": {
        "id": "DHhCH3oBW79l"
      }
    },
    {
      "cell_type": "code",
      "source": [
        "class MyGridWorld(GridWorldEnvironment):\n",
        "    def render(self):\n",
        "        super().render()\n",
        "\n",
        "        print(f\"Agent's current location: {self.traces[-1]}\")\n",
        "        print(f\"Total number of moves: {len(self.traces)}\")\n",
        "\n",
        "        print(\"Reward Table\")\n",
        "        for row in self.reward:\n",
        "            print(row)\n",
        "\n",
        "env = MyGridWorld(start_point=(0, 0), end_point=(4, 4), grid_world_size=(5, 5))\n",
        "\n",
        "# 예시 이동 경로 설정\n",
        "env.traces = [(0, 0), (0,1), (1, 1), (2,1), (2,2), (2, 3), (3, 3), (3, 4), (4, 4)]\n",
        "\n",
        "# 그리드 월드 상태 출력\n",
        "env.render()"
      ],
      "metadata": {
        "id": "KQ1M1GHzX3Gg",
        "colab": {
          "base_uri": "https://localhost:8080/"
        },
        "outputId": "eef5e3ba-7d9e-4940-ee70-fe53ae6904f2"
      },
      "execution_count": 16,
      "outputs": [
        {
          "output_type": "stream",
          "name": "stdout",
          "text": [
            "S X . . . \n",
            ". X . . . \n",
            ". X X X . \n",
            ". . . X X \n",
            ". . . . A \n",
            "\n",
            "Agent's current location: (4, 4)\n",
            "Total number of moves: 9\n",
            "Reward Table\n",
            "[0.0, 0.0, 0.0, 0.0, 0.0]\n",
            "[0.0, 0.0, 0.0, 0.0, 0.0]\n",
            "[0.0, 0.0, 0.0, 0.0, 0.0]\n",
            "[0.0, 0.0, 0.0, 0.0, 0.0]\n",
            "[0.0, 0.0, 0.0, 0.0, 1]\n"
          ]
        }
      ]
    },
    {
      "cell_type": "markdown",
      "source": [
        "# 01. 정책 이터레이션\n",
        "정책 이터레이션은 정책 평가와 정책 개선을 번갈아 수행하며 최적 정책을 찾아가는 방법입니다.\n",
        "\n",
        "- 스켈레톤 코드  \n",
        "`init` 부를 제외한 나머지 매소드를 채워주세요.\n",
        "\n",
        "1. get_policy : 현재 상태에서의 정책 반환\n",
        "2. get_value\t: 현재 상태의 가치 반환\n",
        "3. get_action : 현재 정책에 따라 행동 선택\n",
        "4. policy_evaluation : 정책을 기준으로 가치 함수 업데이트\n",
        "5. policy_improvement : 가치 함수를 이용해 최적 정책을 찾음"
      ],
      "metadata": {
        "id": "LrGQnOj3VmdT"
      }
    },
    {
      "cell_type": "code",
      "source": [
        "class PolicyIteration:\n",
        "    def __init__(self,env):\n",
        "        # about env\n",
        "        self.env = env\n",
        "        self.action_space = env.action_space # ['up', 'down', 'left', 'right'] 차례대로 (-1,0) (1,0) (0,-1) (0,1)\n",
        "        self.num_action = len(self.action_space)\n",
        "\n",
        "        # value 2d list\n",
        "        self.value_table = np.zeros(shape = (env.height, env.width)).tolist() # Appendix 1\n",
        "\n",
        "        # 상하좌우 동일한 확률을 가지는 정책으로 초기화\n",
        "        self.policy_table = np.full(shape = (env.height, env.width, self.num_action), fill_value = 1/self.num_action).tolist()\n",
        "\n",
        "        # end state 에서는 어떠한 행동도 할 필요가 없어서 policy table을 비운다.\n",
        "        self.policy_table[env.end_point[0]][env.end_point[1]] = []\n",
        "\n",
        "        self.gamma = 0.9 # 할인율\n",
        "\n",
        "    def get_policy(self, state):\n",
        "        return self.policy_table[state[0]][state[1]]\n",
        "\n",
        "    def get_value(self, state):\n",
        "        return self.value_table[state[0]][state[1]]\n",
        "\n",
        "    def get_action(self,state):\n",
        "        policy = self.get_policy(state)\n",
        "        policy = np.array(policy)\n",
        "        return np.random.choice(self.num_action, 1, p=policy)[0]\n",
        "\n",
        "    def policy_evaluation(self):\n",
        "        next_value_table = [[0.00] * self.env.width\n",
        "                            for _ in range(self.env.height)]\n",
        "\n",
        "        for state in self.env.total_states:\n",
        "            value = 0.0\n",
        "            if state == self.env.end_point:\n",
        "                next_value_table[state[0]][state[1]] = value\n",
        "                continue\n",
        "            for action_idx in range(self.num_action):\n",
        "                next_state = self.env.state_after_action(state, action_idx)\n",
        "                reward = self.env.get_reward(state, action_idx)\n",
        "                next_value = self.get_value(next_state)\n",
        "                if len(self.get_policy(state)) > 0:\n",
        "                    value += (self.get_policy(state)[action_idx] *\n",
        "                          (reward + self.gamma * next_value)) # 정책이 비어 있지 않을 때만 접근\n",
        "                next_value_table[state[0]][state[1]] = value\n",
        "\n",
        "        self.value_table = next_value_table\n",
        "\n",
        "    def policy_improvement(self):\n",
        "        next_policy_table = self.policy_table\n",
        "\n",
        "        for state in self.env.total_states:\n",
        "            if state == self.env.end_point:\n",
        "                continue\n",
        "\n",
        "            value_list = []\n",
        "            result = [0.0, 0.0, 0.0, 0.0]\n",
        "\n",
        "            for action_idx in range(self.num_action):\n",
        "                next_state = self.env.state_after_action(state, action_idx)\n",
        "                reward = self.env.get_reward(state, action_idx)\n",
        "                next_value = self.get_value(next_state)\n",
        "                value = reward + self.gamma * next_value\n",
        "                value_list.append(value)\n",
        "\n",
        "            max_idx_list = np.argwhere(value_list == np.amax(value_list))\n",
        "            max_idx_list = max_idx_list.flatten().tolist()\n",
        "            prob = 1 / len(max_idx_list)\n",
        "\n",
        "            for idx in max_idx_list:\n",
        "                result[idx] = prob\n",
        "\n",
        "            next_policy_table[state[0]][state[1]] = result\n",
        "\n",
        "        self.policy_table = next_policy_table"
      ],
      "metadata": {
        "id": "3cSmPtYxVqrl"
      },
      "execution_count": 17,
      "outputs": []
    },
    {
      "cell_type": "markdown",
      "source": [
        "## 정책 이터레이션 실행\n",
        "정의한 클래스를 이용해 정책 이터레이션을 실행해 주세요."
      ],
      "metadata": {
        "id": "vHhUyl4PYSez"
      }
    },
    {
      "cell_type": "code",
      "source": [
        "policy_iteration = PolicyIteration(env)\n",
        "\n",
        "value_deltas = []\n",
        "\n",
        "# 정책 이터레이션 실행\n",
        "max_iterations = 1000\n",
        "threshold = 1e-4 # 수렴 판단 기준\n",
        "\n",
        "for i in range(max_iterations):\n",
        "    old_value_table = np.array(policy_iteration.value_table)\n",
        "\n",
        "    # 1. 정책 평가\n",
        "    policy_iteration.policy_evaluation()\n",
        "\n",
        "    # 2. 정책 발전\n",
        "    policy_iteration.policy_improvement()\n",
        "\n",
        "    new_value_table = np.array(policy_iteration.value_table)\n",
        "    delta = np.sum(np.abs(old_value_table - new_value_table))\n",
        "    value_deltas.append(delta)\n",
        "    if delta < threshold:\n",
        "        print(f\"Value table has converged\")\n",
        "        break\n",
        "\n",
        "else:\n",
        "    print(\"Reach the maximum number of iterations\")\n",
        "\n",
        "print(\"Final Value Table:\")\n",
        "for row in policy_iteration.value_table:\n",
        "    print(row)\n",
        "\n",
        "print(\"Final Policy Table:\")\n",
        "for row in policy_iteration.policy_table:\n",
        "    print(row)"
      ],
      "metadata": {
        "id": "q05CxU1fYogZ",
        "colab": {
          "base_uri": "https://localhost:8080/"
        },
        "outputId": "985dbbb4-ae25-4142-b005-b1f9e34be4a4"
      },
      "execution_count": 18,
      "outputs": [
        {
          "output_type": "stream",
          "name": "stdout",
          "text": [
            "Value table has converged\n",
            "Final Value Table:\n",
            "[0.47829690000000014, 0.5314410000000002, 0.5904900000000002, 0.6561000000000001, 0.7290000000000001]\n",
            "[0.5314410000000002, 0.5904900000000002, 0.6561000000000001, 0.7290000000000001, 0.81]\n",
            "[0.5904900000000002, 0.6561000000000001, 0.7290000000000001, 0.81, 0.9]\n",
            "[0.6561000000000001, 0.7290000000000001, 0.81, 0.9, 1.0]\n",
            "[0.7290000000000001, 0.81, 0.9, 1.0, 0.0]\n",
            "Final Policy Table:\n",
            "[[0.0, 0.5, 0.0, 0.5], [0.0, 0.5, 0.0, 0.5], [0.0, 0.5, 0.0, 0.5], [0.0, 0.5, 0.0, 0.5], [0.0, 1.0, 0.0, 0.0]]\n",
            "[[0.0, 0.5, 0.0, 0.5], [0.0, 0.5, 0.0, 0.5], [0.0, 0.5, 0.0, 0.5], [0.0, 0.5, 0.0, 0.5], [0.0, 1.0, 0.0, 0.0]]\n",
            "[[0.0, 0.5, 0.0, 0.5], [0.0, 0.5, 0.0, 0.5], [0.0, 0.5, 0.0, 0.5], [0.0, 0.5, 0.0, 0.5], [0.0, 1.0, 0.0, 0.0]]\n",
            "[[0.0, 0.5, 0.0, 0.5], [0.0, 0.5, 0.0, 0.5], [0.0, 0.5, 0.0, 0.5], [0.0, 0.5, 0.0, 0.5], [0.0, 1.0, 0.0, 0.0]]\n",
            "[[0.0, 0.0, 0.0, 1.0], [0.0, 0.0, 0.0, 1.0], [0.0, 0.0, 0.0, 1.0], [0.0, 0.0, 0.0, 1.0], []]\n"
          ]
        }
      ]
    },
    {
      "cell_type": "markdown",
      "source": [
        "## 학습에서 중요한 정보\n",
        "학습이 되고 있는 것을 판단할 수 있는 파라미터를 찾아 시각화해 주세요."
      ],
      "metadata": {
        "id": "j2FMBu8zX7Kg"
      }
    },
    {
      "cell_type": "code",
      "source": [
        "import matplotlib.pyplot as plt\n",
        "\n",
        "plt.plot(value_deltas)\n",
        "plt.title(\"value Changes Over Iterations\")\n",
        "plt.xlabel(\"Iteration\")\n",
        "plt.ylabel(\"delta\")\n",
        "plt.grid(True)\n",
        "plt.show()"
      ],
      "metadata": {
        "id": "sr3VchPRYpBx",
        "colab": {
          "base_uri": "https://localhost:8080/",
          "height": 472
        },
        "outputId": "b0361f8c-9813-4865-f640-8d426a916060"
      },
      "execution_count": 19,
      "outputs": [
        {
          "output_type": "display_data",
          "data": {
            "text/plain": [
              "<Figure size 640x480 with 1 Axes>"
            ],
            "image/png": "[encoded data removed]"
          },
          "metadata": {}
        }
      ]
    },
    {
      "cell_type": "markdown",
      "source": [
        "# 02. 가치 이터레이션\n",
        "가치 이터레이션은 정책 없이 직접 가치 함수를 최적화하는 방법입니다.\n",
        "- 스켈레톤 코드  \n",
        "`init` 부를 제외한 나머지 매소드를 채워주세요.\n",
        "1. value_iteration : 벨만 최적 방정식을 이용해 가치 함수를 반복적으로 업데이트\n",
        "2. get_value : 현재 상태의 가치를 반환\n",
        "3. get_action : 현재 가치 함수 기준으로 최적 행동 선택"
      ],
      "metadata": {
        "id": "8tutibdyYwAW"
      }
    },
    {
      "cell_type": "code",
      "source": [
        "class ValueIteration:\n",
        "    def __init__(self, env):\n",
        "\n",
        "        self.env = env\n",
        "        self.action_space = env.action_space\n",
        "        self.num_actions = env.num_actions\n",
        "\n",
        "        # value 2d list\n",
        "        self.value_table = np.zeros(shape=(env.height, env.width)).tolist()\n",
        "\n",
        "        self.gamma = 0.9 # 할인율\n",
        "\n",
        "    def value_iteration(self):\n",
        "        next_value_table = [[0.00] * self.env.width\n",
        "                            for _ in range(self.env.height)]\n",
        "\n",
        "        for state in self.env.total_states:\n",
        "            if state == self.env.end_point:\n",
        "                next_value_table[state[0]][state[1]] = 0.0\n",
        "                continue\n",
        "\n",
        "            # 벨만 최적 방정식\n",
        "            value_list = []\n",
        "            for action_idx in range(self.num_actions):\n",
        "                next_state = self.env.state_after_action(state, action_idx)\n",
        "                reward = self.env.get_reward(state, action_idx)\n",
        "                next_value = self.get_value(next_state)\n",
        "                value_list.append((reward + self.gamma * next_value))\n",
        "\n",
        "            # 최댓값을 다음 가치함수로 대입\n",
        "            next_value_table[state[0]][state[1]] = max(value_list)\n",
        "\n",
        "        self.value_table = next_value_table\n",
        "\n",
        "    def get_action(self, state):\n",
        "        if state == self.env.end_point:\n",
        "            return []\n",
        "\n",
        "        # 모든 행동에 대해 큐함수(reward + (gamma * 다음 상태의 가치함수)) 계\n",
        "        value_list = []\n",
        "        for action_idx in range(self.num_actions):\n",
        "            next_state = self.env.state_after_action(state, action_idx)\n",
        "            reward = self.env.get_reward(state, action_idx)\n",
        "            next_value = self.get_value(next_state)\n",
        "            value = (reward + self.gamma * next_value)\n",
        "            value_list.append(value)\n",
        "\n",
        "        # 최대 큐함수를 가진 행동 반환 (여러 개일수도 있음)\n",
        "        max_idx_list = np.argwhere(value_list == np.amax(value_list))\n",
        "        action_list = max_idx_list.flatten().tolist()\n",
        "        return action_list\n",
        "\n",
        "    def get_value(self, state):\n",
        "        return self.value_table[state[0]][state[1]]"
      ],
      "metadata": {
        "id": "-rnooRxnYwAW"
      },
      "execution_count": 20,
      "outputs": []
    },
    {
      "cell_type": "markdown",
      "source": [
        "## 가치 이터레이션 실행\n",
        "정의한 클래스를 이용해 정책 이터레이션을 실행해 주세요."
      ],
      "metadata": {
        "id": "d073zNNfYwAW"
      }
    },
    {
      "cell_type": "code",
      "source": [
        "value_iteration = ValueIteration(env)\n",
        "\n",
        "value_deltas = []\n",
        "\n",
        "max_iterations = 1000 # 최대 반복 횟수\n",
        "threshold = 1e-4 # 수렴 판단 기준\n",
        "\n",
        "for i in range(max_iterations):\n",
        "    old_value_table = np.array(value_iteration.value_table)\n",
        "\n",
        "    value_iteration.value_iteration()\n",
        "\n",
        "    new_value_table = np.array(value_iteration.value_table)\n",
        "    delta = np.sum(np.abs(old_value_table - new_value_table))\n",
        "    value_deltas.append(delta)\n",
        "    if delta < threshold:\n",
        "        print(f\"Value table has converged\")\n",
        "        break\n",
        "\n",
        "else:\n",
        "    print(\"Reach the maximum number of iterations\")\n",
        "\n",
        "# 최종 정책 및 가치 테이블 출력\n",
        "print(\"Fianl Value Table:\")\n",
        "for row in value_iteration.value_table:\n",
        "    print(row)\n",
        "\n",
        "print(\"Final Policy Table:\")\n",
        "for state in env.total_states:\n",
        "    print(f\"Best Action of state{state}: {value_iteration.get_action(state)}\")"
      ],
      "metadata": {
        "id": "Dm3W3XEKYwAW",
        "colab": {
          "base_uri": "https://localhost:8080/"
        },
        "outputId": "819e78b5-3e7d-4c8a-f4ef-37bd6d8f082a"
      },
      "execution_count": 21,
      "outputs": [
        {
          "output_type": "stream",
          "name": "stdout",
          "text": [
            "Value table has converged\n",
            "Fianl Value Table:\n",
            "[0.47829690000000014, 0.5314410000000002, 0.5904900000000002, 0.6561000000000001, 0.7290000000000001]\n",
            "[0.5314410000000002, 0.5904900000000002, 0.6561000000000001, 0.7290000000000001, 0.81]\n",
            "[0.5904900000000002, 0.6561000000000001, 0.7290000000000001, 0.81, 0.9]\n",
            "[0.6561000000000001, 0.7290000000000001, 0.81, 0.9, 1.0]\n",
            "[0.7290000000000001, 0.81, 0.9, 1.0, 0.0]\n",
            "Final Policy Table:\n",
            "Best Action of state(0, 0): [1, 3]\n",
            "Best Action of state(0, 1): [1, 3]\n",
            "Best Action of state(0, 2): [1, 3]\n",
            "Best Action of state(0, 3): [1, 3]\n",
            "Best Action of state(0, 4): [1]\n",
            "Best Action of state(1, 0): [1, 3]\n",
            "Best Action of state(1, 1): [1, 3]\n",
            "Best Action of state(1, 2): [1, 3]\n",
            "Best Action of state(1, 3): [1, 3]\n",
            "Best Action of state(1, 4): [1]\n",
            "Best Action of state(2, 0): [1, 3]\n",
            "Best Action of state(2, 1): [1, 3]\n",
            "Best Action of state(2, 2): [1, 3]\n",
            "Best Action of state(2, 3): [1, 3]\n",
            "Best Action of state(2, 4): [1]\n",
            "Best Action of state(3, 0): [1, 3]\n",
            "Best Action of state(3, 1): [1, 3]\n",
            "Best Action of state(3, 2): [1, 3]\n",
            "Best Action of state(3, 3): [1, 3]\n",
            "Best Action of state(3, 4): [1]\n",
            "Best Action of state(4, 0): [3]\n",
            "Best Action of state(4, 1): [3]\n",
            "Best Action of state(4, 2): [3]\n",
            "Best Action of state(4, 3): [3]\n",
            "Best Action of state(4, 4): []\n"
          ]
        }
      ]
    },
    {
      "cell_type": "markdown",
      "source": [
        "## 학습에서 중요한 정보\n",
        "학습이 되고 있는 것을 판단할 수 있는 파라미터/요소를 찾아 시각화해 주세요."
      ],
      "metadata": {
        "id": "sR6OuQVAYwAW"
      }
    },
    {
      "cell_type": "code",
      "source": [
        "import matplotlib.pyplot as plt\n",
        "\n",
        "plt.plot(value_deltas)\n",
        "plt.title(\"Value Changes Over Iterations\")\n",
        "plt.xlabel(\"Iteration\")\n",
        "plt.ylabel(\"delta\")\n",
        "plt.grid(True)\n",
        "plt.show()"
      ],
      "metadata": {
        "id": "aWa6ZpsCYwAX",
        "colab": {
          "base_uri": "https://localhost:8080/",
          "height": 472
        },
        "outputId": "5cd5828d-744b-4e81-9433-4c60f2f1aff0"
      },
      "execution_count": 22,
      "outputs": [
        {
          "output_type": "display_data",
          "data": {
            "text/plain": [
              "<Figure size 640x480 with 1 Axes>"
            ],
            "image/png": "[encoded data removed]"
          },
          "metadata": {}
        }
      ]
    },
    {
      "cell_type": "code",
      "source": [],
      "metadata": {
        "id": "MT9b89DiZFZG"
      },
      "execution_count": 22,
      "outputs": []
    }
  ]
}