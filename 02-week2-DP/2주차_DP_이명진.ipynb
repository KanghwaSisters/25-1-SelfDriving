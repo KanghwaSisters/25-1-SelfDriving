{
  "nbformat": 4,
  "nbformat_minor": 0,
  "metadata": {
    "colab": {
      "provenance": []
    },
    "kernelspec": {
      "name": "python3",
      "display_name": "Python 3"
    },
    "language_info": {
      "name": "python"
    }
  },
  "cells": [
    {
      "cell_type": "markdown",
      "source": [
        "## 다이나믹 프로그래밍\n",
        "\n",
        "다이나믹 프로그래밍은 model-based 접근법으로, 환경의 전이 확률과 보상을 알고 있을 때 사용됩니다. 이번 코드에서는 DP 기법의 가치 이터레이션 (Value Iteration), 정책 이터레이션 (Policy Iteration)을 활용해 최적 정책을 찾습니다.\n",
        "\n",
        "다음 환경(**GridWorldEnvironment**)을 가지고 가치 이터레이션, 정책 이터레이션을 구현하세요."
      ],
      "metadata": {
        "id": "HyNmkw66VPdZ"
      }
    },
    {
      "cell_type": "markdown",
      "source": [
        "## GridWorldEnvironment\n",
        "GridWorld는 격자 기반 환경으로, 에이전트가 상, 하, 좌, 우로 이동하며 목표 지점에 도달해야 합니다.\n",
        "\n",
        "```py\n",
        "start_point = (0,0) # 시작점\n",
        "end_point = (4,4) # 목표 지점\n",
        "gridworld_size = (5,5) # 5x5 크기의 격자\n",
        "env = GridWorldEnvironment(start_point, end_point, grid_world_size)\n",
        "```"
      ],
      "metadata": {
        "id": "AJazHY8WUeo9"
      }
    },
    {
      "cell_type": "markdown",
      "source": [
        "## Original Code"
      ],
      "metadata": {
        "id": "FrEXfXlQW5CY"
      }
    },
    {
      "cell_type": "code",
      "execution_count": 1,
      "metadata": {
        "id": "OOi9LMUhUY3K"
      },
      "outputs": [],
      "source": [
        "import numpy as np\n",
        "from typing import Tuple\n",
        "\n",
        "class GridWorldEnvironment:\n",
        "    def __init__(self, start_point:Tuple, end_point:Tuple, grid_world_size:Tuple):\n",
        "        # 시작점과 끝점을 받는다.\n",
        "        self.start_point = start_point\n",
        "        self.end_point = end_point if end_point != (-1,-1) else (grid_world_size[0] + end_point[0],\n",
        "                                                                 grid_world_size[1] + end_point[1])\n",
        "\n",
        "        # 그리드 월드의 규격을 받는다.\n",
        "        self.width, self.height = grid_world_size\n",
        "\n",
        "        # action dictionary\n",
        "        self.action_space = ['up', 'down', 'left', 'right']\n",
        "        self.num_actions = len(self.action_space)\n",
        "        self.actions = {'up':(-1,0),\n",
        "                        'down':(1,0),\n",
        "                        'left':(0,-1),\n",
        "                        'right':(0,1) }\n",
        "\n",
        "        # 상태 : 좌표로 나타남\n",
        "        self.traces = []\n",
        "\n",
        "        # total states\n",
        "        self.total_states = []\n",
        "        for x in range(self.width):\n",
        "            for y in range(self.height):\n",
        "                self.total_states.append((x,y))\n",
        "\n",
        "        # reward\n",
        "        self.reward = np.zeros(shape=(self.height, self.width)).tolist()\n",
        "        self.reward[end_point[0]][end_point[1]] = 1\n",
        "\n",
        "    def render(self):\n",
        "        # 그리드 월드의 상태를 출력한다.\n",
        "        self.grid_world = np.full(shape=(self.height, self.width), fill_value=\".\").tolist()\n",
        "\n",
        "        last_point = self.traces[-1] # 에이전트가 가장 마지막에 있었던 위치\n",
        "        traces = list(set(self.traces)) # 중복된 값을 삭제하기 위함\n",
        "        for trace in traces:\n",
        "            self.grid_world[trace[0]][trace[1]] = \"X\"\n",
        "\n",
        "        self.grid_world[self.start_point[0]][self.start_point[1]] = \"S\" # start point\n",
        "        self.grid_world[self.end_point[0]][self.end_point[1]] = \"G\" # end point\n",
        "        self.grid_world[last_point[0]][last_point[1]] = \"A\" # 현재 에이전트의 위치\n",
        "\n",
        "        # string으로 출력한다.\n",
        "        grid = \"\"\n",
        "\n",
        "        for i in range(self.height):\n",
        "            for j in range(self.width):\n",
        "                grid += self.grid_world[i][j]+\" \"\n",
        "            grid += \"\\n\"\n",
        "\n",
        "        print(grid)\n",
        "\n",
        "    def get_reward(self, state, action_idx):\n",
        "        next_state = self.state_after_action(state, action_idx)\n",
        "        return self.reward[next_state[0]][next_state[1]]\n",
        "\n",
        "    def state_after_action(self, state, action_idx:int):\n",
        "        action = self.action_space[action_idx]\n",
        "        row_movement, col_movement = self.actions[action]\n",
        "\n",
        "        # action에 따라 에이전트 이동\n",
        "        next_state = (state[0]+row_movement, state[1]+col_movement)\n",
        "        next_state = self.check_boundary(next_state)\n",
        "\n",
        "        return next_state\n",
        "\n",
        "    def check_boundary(self, state):\n",
        "        state = list(state)\n",
        "        state[0] = (0 if state[0] < 0 else self.height - 1 if state[0] > self.height - 1 else state[0])\n",
        "        state[1] = (0 if state[1] < 0 else self.width - 1 if state[1] > self.width - 1 else state[1])\n",
        "        return tuple(state)"
      ]
    },
    {
      "cell_type": "markdown",
      "source": [
        "## Own Code\n",
        "위 환경 클래스를 상속 받아 `env.render` 코드를 구현하세요."
      ],
      "metadata": {
        "id": "DHhCH3oBW79l"
      }
    },
    {
      "cell_type": "code",
      "source": [
        "class CreateGridWorld(GridWorldEnvironment):\n",
        "    def __init__(self, start_point, end_point, grid_world_size):\n",
        "        super().__init__(start_point, end_point, grid_world_size)\n",
        "\n",
        "    def render(self):\n",
        "        print(\"=== Create GridWorld Render ===\")\n",
        "        self.grid_world = np.full((self.height, self.width), '.', dtype='<U1')\n",
        "\n",
        "        if self.traces:\n",
        "            for trace in self.traces:\n",
        "                self.grid_world[trace[0]][trace[1]] = 'X'\n",
        "\n",
        "            last_point = self.traces[-1]\n",
        "            self.grid_world[last_point[0]][last_point[1]] = 'A'\n",
        "\n",
        "        self.grid_world[self.start_point[0]][self.start_point[1]] = 'S'\n",
        "        self.grid_world[self.end_point[0]][self.end_point[1]] = 'G'\n",
        "\n",
        "        for row in self.grid_world:\n",
        "            print(\" \".join(row))\n",
        "        print()\n"
      ],
      "metadata": {
        "id": "KQ1M1GHzX3Gg"
      },
      "execution_count": 2,
      "outputs": []
    },
    {
      "cell_type": "markdown",
      "source": [
        "# 01. 정책 이터레이션\n",
        "정책 이터레이션은 정책 평가와 정책 개선을 번갈아 수행하며 최적 정책을 찾아가는 방법입니다.\n",
        "\n",
        "- 스켈레톤 코드  \n",
        "`init` 부를 제외한 나머지 매소드를 채워주세요.\n",
        "\n",
        "1. get_policy : 현재 상태에서의 정책 반환\n",
        "2. get_value\t: 현재 상태의 가치 반환\n",
        "3. get_action : 현재 정책에 따라 행동 선택\n",
        "4. policy_evaluation : 정책을 기준으로 가치 함수 업데이트\n",
        "5. policy_improvement : 가치 함수를 이용해 최적 정책을 찾음"
      ],
      "metadata": {
        "id": "LrGQnOj3VmdT"
      }
    },
    {
      "cell_type": "code",
      "source": [
        "class PolicyIteration:\n",
        "    def __init__(self,env):\n",
        "        # about env\n",
        "        self.env = env\n",
        "        self.action_space = env.action_space # ['up', 'down', 'left', 'right'] 차례대로 (-1,0) (1,0) (0,-1) (0,1)\n",
        "        self.num_action = len(self.action_space)\n",
        "\n",
        "        # value 2d list\n",
        "        self.value_table = np.zeros(shape = (env.height, env.width)).tolist() # Appendix 1\n",
        "\n",
        "        # 상하좌우 동일한 확률을 가지는 정책으로 초기화\n",
        "        self.policy_table = np.full(shape = (env.height, env.width, self.num_action), fill_value = 1/self.num_action).tolist()\n",
        "\n",
        "        # end state 에서는 어떠한 행동도 할 필요가 없어서 policy table을 비운다.\n",
        "        self.policy_table[env.end_point[0]][env.end_point[1]] = []\n",
        "\n",
        "        self.gamma = 0.9 # 할인율\n",
        "\n",
        "    def get_policy(self, state):\n",
        "      return self.policy_table[state[0]][state[1]]\n",
        "\n",
        "\n",
        "    def get_value(self, state):\n",
        "      return self.value_table[state[0]][state[1]]\n",
        "\n",
        "    def get_action(self,state):\n",
        "       policy = self.get_policy(state)\n",
        "       return np.random.choice(self.action_space, p=policy)\n",
        "\n",
        "    def policy_evaluation(self):\n",
        "      threshold = 1e-7\n",
        "      while True:\n",
        "        delta = 0\n",
        "        new_value_table = np.zeros_like(self.value_table, dtype=float)\n",
        "\n",
        "        for x in range(self.env.height):\n",
        "            for y in range(self.env.width):\n",
        "                state = (x, y)\n",
        "                if state == self.env.end_point:\n",
        "                    continue\n",
        "\n",
        "                value = 0\n",
        "                for action_idx, action_prob in enumerate(self.get_policy(state)):\n",
        "                    next_state = self.env.state_after_action(state, action_idx)\n",
        "                    reward = self.env.get_reward(state, action_idx)\n",
        "                    value += action_prob * (reward + self.gamma * self.get_value(next_state))\n",
        "\n",
        "                new_value_table[x][y] = value\n",
        "                delta = max(delta, abs(self.value_table[x][y] - value))\n",
        "\n",
        "        self.value_table = new_value_table\n",
        "        if delta < threshold:\n",
        "            break\n",
        "\n",
        "\n",
        "    def policy_improvement(self):\n",
        "      policy_stable = True\n",
        "\n",
        "      for x in range(self.env.height):\n",
        "        for y in range(self.env.width):\n",
        "          state = (x, y)\n",
        "          if state == self.env.end_point:\n",
        "            continue\n",
        "\n",
        "          old_action_prob = self.get_policy(state)\n",
        "\n",
        "          action_values = []\n",
        "          for action_idx in range(self.num_action):\n",
        "              next_state = self.env.state_after_action(state, action_idx)\n",
        "              reward = self.env.get_reward(state, action_idx)\n",
        "              value = reward + self.gamma * self.get_value(next_state)\n",
        "              action_values.append(value)\n",
        "\n",
        "          max_value = max(action_values)\n",
        "          max_indices = [idx for idx, v in enumerate(action_values) if v == max_value]\n",
        "\n",
        "          new_action_prob = [1 / len(max_indices) if idx in max_indices else 0 for idx in range(self.num_action)]\n",
        "\n",
        "          if old_action_prob != new_action_prob:\n",
        "              policy_stable = False\n",
        "\n",
        "          self.policy_table[x][y] = new_action_prob\n",
        "\n",
        "      return policy_stable"
      ],
      "metadata": {
        "id": "3cSmPtYxVqrl"
      },
      "execution_count": 3,
      "outputs": []
    },
    {
      "cell_type": "markdown",
      "source": [
        "## 정책 이터레이션 실행\n",
        "정의한 클래스를 이용해 정책 이터레이션을 실행해 주세요."
      ],
      "metadata": {
        "id": "vHhUyl4PYSez"
      }
    },
    {
      "cell_type": "code",
      "source": [
        "# 환경 정의\n",
        "env = GridWorldEnvironment(start_point=(0, 0), end_point=(4, 4), grid_world_size=(5,5))\n",
        "\n",
        "# 정책 이터레이션 객체 생성\n",
        "agent = PolicyIteration(env)\n",
        "\n",
        "# 반복 실행\n",
        "max_iterations = 100\n",
        "delta_list = []\n",
        "policy_stable_list = []\n",
        "\n",
        "for i in range(max_iterations):\n",
        "    # 1. Policy Evaluation\n",
        "    prev_value_table = np.array(agent.value_table)\n",
        "    agent.policy_evaluation()\n",
        "    new_value_table = np.array(agent.value_table)\n",
        "    delta = np.abs(new_value_table - prev_value_table).max()\n",
        "    delta_list.append(delta)\n",
        "\n",
        "    # 2. Policy Improvement\n",
        "    is_stable = agent.policy_improvement()\n",
        "    policy_stable_list.append(is_stable)\n",
        "\n",
        "    print(f\"Iteration {i+1} - Δ: {delta:.4f}, Policy Stable: {is_stable}\")\n",
        "\n",
        "    if is_stable:\n",
        "        break"
      ],
      "metadata": {
        "id": "q05CxU1fYogZ",
        "colab": {
          "base_uri": "https://localhost:8080/"
        },
        "outputId": "6dab1f10-3b47-4329-f64e-0ed33009a04a"
      },
      "execution_count": 4,
      "outputs": [
        {
          "output_type": "stream",
          "name": "stdout",
          "text": [
            "Iteration 1 - Δ: 0.4621, Policy Stable: False\n",
            "Iteration 2 - Δ: 0.7080, Policy Stable: False\n",
            "Iteration 3 - Δ: 0.0000, Policy Stable: True\n"
          ]
        }
      ]
    },
    {
      "cell_type": "code",
      "source": [
        "print(\"Delta list:\", delta_list)\n",
        "print(\"Policy stability list:\", policy_stable_list)"
      ],
      "metadata": {
        "colab": {
          "base_uri": "https://localhost:8080/"
        },
        "id": "oaKWgpTDyj5a",
        "outputId": "1d889c3b-b7ea-4079-9ccb-cad8bebab2c5"
      },
      "execution_count": 5,
      "outputs": [
        {
          "output_type": "stream",
          "name": "stdout",
          "text": [
            "Delta list: [np.float64(0.4620861020221877), np.float64(0.7080347164185985), np.float64(0.0)]\n",
            "Policy stability list: [False, False, True]\n"
          ]
        }
      ]
    },
    {
      "cell_type": "markdown",
      "source": [
        "## 학습에서 중요한 정보\n",
        "학습이 되고 있는 것을 판단할 수 있는 파라미터를 찾아 시각화해 주세요."
      ],
      "metadata": {
        "id": "j2FMBu8zX7Kg"
      }
    },
    {
      "cell_type": "code",
      "source": [
        "# 결과 시각화 (선택 사항)\n",
        "import matplotlib.pyplot as plt\n",
        "\n",
        "plt.figure(figsize=(12, 5))\n",
        "\n",
        "# 값 함수 변화 시각화\n",
        "plt.subplot(1, 2, 1)\n",
        "plt.plot(delta_list, marker='o')\n",
        "plt.title(\"Delta (Value Change) per Iteration\")\n",
        "plt.xlabel(\"Iteration\")\n",
        "plt.ylabel(\"Max Delta\")\n",
        "\n",
        "# 정책 안정 여부 시각화\n",
        "plt.subplot(1, 2, 2)\n",
        "plt.plot(policy_stable_list, marker='x')\n",
        "plt.title(\"Policy Stability per Iteration\")\n",
        "plt.xlabel(\"Iteration\")\n",
        "plt.ylabel(\"Is Policy Stable\")\n",
        "\n",
        "plt.tight_layout()\n",
        "plt.show()"
      ],
      "metadata": {
        "id": "sr3VchPRYpBx",
        "colab": {
          "base_uri": "https://localhost:8080/",
          "height": 409
        },
        "outputId": "984b4684-c7fa-4967-b018-76f077b41557"
      },
      "execution_count": 6,
      "outputs": [
        {
          "output_type": "display_data",
          "data": {
            "text/plain": [
              "<Figure size 1200x500 with 2 Axes>"
            ],
            "image/png": "[encoded data removed]"
          },
          "metadata": {}
        }
      ]
    },
    {
      "cell_type": "code",
      "source": [
        "# 학습된 정책 테이블에서 각 위치에서 선택된 가장 확률 높은 행동 보기\n",
        "import numpy as np\n",
        "policy_arrows = {\n",
        "    0: '↑',\n",
        "    1: '↓',\n",
        "    2: '←',\n",
        "    3: '→'\n",
        "}\n",
        "\n",
        "for x in range(env.height):\n",
        "    row = \"\"\n",
        "    for y in range(env.width):\n",
        "        if (x, y) == env.end_point:\n",
        "            row += \" G \"\n",
        "        else:\n",
        "            probs = agent.policy_table[x][y]\n",
        "            if not probs:\n",
        "                row += \" - \"\n",
        "            else:\n",
        "                best = np.argmax(probs)\n",
        "                row += f\" {policy_arrows[best]} \"\n",
        "    print(row)\n"
      ],
      "metadata": {
        "colab": {
          "base_uri": "https://localhost:8080/"
        },
        "id": "k9msiWFht52x",
        "outputId": "d3d8a17f-f5b3-484c-c3a8-0612134a6968"
      },
      "execution_count": 7,
      "outputs": [
        {
          "output_type": "stream",
          "name": "stdout",
          "text": [
            " ↓  ↓  ↓  ↓  ↓ \n",
            " ↓  ↓  ↓  ↓  ↓ \n",
            " ↓  ↓  ↓  ↓  ↓ \n",
            " ↓  ↓  ↓  ↓  ↓ \n",
            " →  →  →  →  G \n"
          ]
        }
      ]
    },
    {
      "cell_type": "markdown",
      "source": [
        "# 02. 가치 이터레이션\n",
        "가치 이터레이션은 정책 없이 직접 가치 함수를 최적화하는 방법입니다.\n",
        "- 스켈레톤 코드  \n",
        "`init` 부를 제외한 나머지 매소드를 채워주세요.\n",
        "1. value_iteration : 벨만 최적 방정식을 이용해 가치 함수를 반복적으로 업데이트\n",
        "2. get_value : 현재 상태의 가치를 반환\n",
        "3. get_action : 현재 가치 함수 기준으로 최적 행동 선택"
      ],
      "metadata": {
        "id": "8tutibdyYwAW"
      }
    },
    {
      "cell_type": "code",
      "source": [
        "class ValueIteration:\n",
        "    def __init__(self, env):\n",
        "\n",
        "        self.env = env\n",
        "        self.action_space = env.action_space\n",
        "        self.num_actions = env.num_actions\n",
        "\n",
        "        # value 2d list\n",
        "        self.value_table = np.zeros(shape=(env.height, env.width)).tolist()\n",
        "\n",
        "        self.gamma = 0.9 # 할인율\n",
        "\n",
        "\n",
        "    def value_iteration(self):\n",
        "      threshold = 1e-4\n",
        "      max_iterations = 1000\n",
        "      delta_list = []\n",
        "\n",
        "      for iteration in range(max_iterations):\n",
        "          delta = 0\n",
        "          next_value_table = [[0.0 for _ in range(self.env.width)] for _ in range(self.env.height)]\n",
        "\n",
        "          for state in self.env.total_states:\n",
        "              if state == self.env.end_point: # 종료 상태는 건너뜀\n",
        "                  continue\n",
        "\n",
        "              x, y = state\n",
        "              value_list = []\n",
        "\n",
        "              for action_idx in range(self.num_actions):\n",
        "                  next_state = self.env.state_after_action(state, action_idx)\n",
        "                  reward = self.env.get_reward(state, action_idx)\n",
        "                  value = reward + self.gamma * self.get_value(next_state)\n",
        "                  value_list.append(value)\n",
        "\n",
        "              max_value = max(value_list)\n",
        "              next_value_table[x][y] = max_value\n",
        "              delta = max(delta, abs(self.value_table[x][y] - max_value))\n",
        "\n",
        "          self.value_table = next_value_table\n",
        "          delta_list.append(delta)\n",
        "\n",
        "          if delta < threshold:\n",
        "              print(f\"Converged at iteration {iteration + 1}\")\n",
        "              break\n",
        "\n",
        "      return delta_list\n",
        "\n",
        "\n",
        "\n",
        "    def get_action(self, state):\n",
        "      if state == self.env.end_point:\n",
        "        return None\n",
        "\n",
        "      action_values = []\n",
        "      for action_idx in range(self.num_actions):\n",
        "        next_state = self.env.state_after_action(state, action_idx)\n",
        "        reward = self.env.get_reward(state, action_idx)\n",
        "        value = reward + self.gamma * self.get_value(next_state)\n",
        "        action_values.append(value)\n",
        "\n",
        "      best_action_idx = np.argmax(action_values)\n",
        "      return self.action_space[best_action_idx]\n",
        "\n",
        "\n",
        "    def get_value(self, state):\n",
        "        return self.value_table[state[0]][state[1]]"
      ],
      "metadata": {
        "id": "-rnooRxnYwAW"
      },
      "execution_count": 8,
      "outputs": []
    },
    {
      "cell_type": "code",
      "source": [],
      "metadata": {
        "id": "aWZruXJRvhyc"
      },
      "execution_count": 8,
      "outputs": []
    },
    {
      "cell_type": "markdown",
      "source": [
        "## 가치 이터레이션 실행\n",
        "정의한 클래스를 이용해 정책 이터레이션을 실행해 주세요."
      ],
      "metadata": {
        "id": "d073zNNfYwAW"
      }
    },
    {
      "cell_type": "code",
      "source": [
        "env = GridWorldEnvironment(start_point=(0, 0), end_point=(4, 4), grid_world_size=(5, 5))\n",
        "vi = ValueIteration(env)\n",
        "# 학습 실행\n",
        "deltas = vi.value_iteration()\n",
        "\n",
        "# 결과 확인\n",
        "for x in range(env.height):\n",
        "    row = \"\"\n",
        "    for y in range(env.width):\n",
        "        action = vi.get_action((x, y))\n",
        "        row += f\"{action[0].upper() if action else 'G'} \"\n",
        "    print(row)\n"
      ],
      "metadata": {
        "id": "Dm3W3XEKYwAW",
        "colab": {
          "base_uri": "https://localhost:8080/"
        },
        "outputId": "7b7a5b82-c83d-43e5-a0f9-67e57dc247a0"
      },
      "execution_count": 9,
      "outputs": [
        {
          "output_type": "stream",
          "name": "stdout",
          "text": [
            "Converged at iteration 9\n",
            "D D D D D \n",
            "D D D D D \n",
            "D D D D D \n",
            "D D D D D \n",
            "R R R R G \n"
          ]
        }
      ]
    },
    {
      "cell_type": "markdown",
      "source": [
        "## 학습에서 중요한 정보\n",
        "학습이 되고 있는 것을 판단할 수 있는 파라미터/요소를 찾아 시각화해 주세요."
      ],
      "metadata": {
        "id": "sR6OuQVAYwAW"
      }
    },
    {
      "cell_type": "code",
      "source": [
        "# 시각화\n",
        "plt.figure(figsize=(8, 4))\n",
        "plt.plot(deltas, marker='o', color='orange')\n",
        "plt.title(\"Delta Change per Iteration (Value Iteration)\")\n",
        "plt.xlabel(\"Iteration\")\n",
        "plt.ylabel(\"Max Value Change (Δ)\")\n",
        "plt.grid(True)\n",
        "plt.tight_layout()\n",
        "plt.show()"
      ],
      "metadata": {
        "id": "aWa6ZpsCYwAX",
        "colab": {
          "base_uri": "https://localhost:8080/",
          "height": 407
        },
        "outputId": "86819a5f-7d33-4cbb-8655-9e849976ad54"
      },
      "execution_count": 10,
      "outputs": [
        {
          "output_type": "display_data",
          "data": {
            "text/plain": [
              "<Figure size 800x400 with 1 Axes>"
            ],
            "image/png": "[encoded data removed]"
          },
          "metadata": {}
        }
      ]
    }
  ]
}